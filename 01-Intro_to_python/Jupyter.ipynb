{
 "cells": [
  {
   "cell_type": "markdown",
   "metadata": {},
   "source": [
    "# About Jupyter       <a class=\"anchor\" id=\"IV\"></a>\n",
    "\n",
    "\n",
    "## TOC\n",
    "\n",
    "- [1. Introduction to python](Python_in_a_nutshell.ipynb)\n",
    "- [2. About Jupyter](#IV)\n",
    "    * [2.1 Should I only work with Jupyter ?](#2.1-Should-I-only-work-with-Jupyter-?)\n",
    "    * [2.2 Jupyter key shortcuts](#2.2-Jupyter-key-shortcuts-Cheat-sheet)\n",
    "    * [2.3 Magic jupyter commands](#2.3-List-of-Magic-Jupyter-commands)\n",
    "- [References and Additional material](#V)"
   ]
  },
  {
   "cell_type": "markdown",
   "metadata": {},
   "source": [
    "## 2 About Jupyter       <a class=\"anchor\" id=\"IV\"></a>\n",
    "\n",
    "\n",
    "Project Jupyter was born out of the IPython project. It started as IPython Notebook but evolved to be a multi-language notebook environment. The name Jupyter is an indirect acronym of the three core languages it was designed for: **JU**lia, **PYT**hon, and **R**. So it is not because of its \"planet's\" sounding (the acronym has been designed for this !) that I have picked it up for this class... but because it is a very useful tool and handy way to use Python. As it is a notebook, you keep track of everything you want which is an important feature for:     \n",
    "- (i) Repeatability of work/research    \n",
    "- (ii) Finding out the origin of strange results (that were in fact bugs)    \n",
    "- (iii) Sharing results with collaborators, giving them the opportunity to understand in details what you did.  "
   ]
  },
  {
   "cell_type": "markdown",
   "metadata": {},
   "source": [
    "### 2.1 Should I only work with Jupyter? \n",
    "\n",
    "Jupyter is very handy for number of daily work but not for everything. You may need, from time to time, to run Python scripts (we will shortly see how to do this) in non-interactive mode. These would be scripts you have developed and that might, e.g., be quite demanding in memory, perform long or complex calculation, or maybe need to be run on a powerful machine (which is not your desktop computer). Use of a GUI (Graphical User Interface) is also recommended to write your functions/packages and debug them. For this, there are IDEs (Interactive Development Environments) which provide you with editor, debugger, (I)Python consoles, command history consoles, help windows, \"variable\" properties consoles, etc.\n",
    "\n",
    "Here is a non-exhaustive list of IDEs to develop your code: \n",
    "- Pycharm: a very popular one developed by JetBrains  https://www.jetbrains.com/pycharm/\n",
    "- Visual Studio Code - enables also to natively work with Nb: https://code.visualstudio.com/ \n",
    "- Spyder that comes with anaconda python distribution. https://www.spyder-ide.org/\n",
    "- Enthought tool suite also provides a powerful IDE. https://docs.enthought.com/ets/\n",
    "\n",
    "**However** knowing Jupyter is useful as it becomes the entrance door to several big online science platforms. As introduced in this paper by Juneau et al. 2021 https://arxiv.org/abs/2104.06527, the American Astronomical Society has developed Jupyter interfaces to access their science ecosystems. This is the case, e.g., of the [Astro Data Lab Science Platform](https://datalab.noirlab.edu/) and of the [DESIHUB](https://desihub.github.io/). Not all of such platforms are public but these examples illustrate that Jupyter is being more and more popular for collaboration in the astronomical community.  "
   ]
  },
  {
   "cell_type": "markdown",
   "metadata": {},
   "source": [
    "### 2.2 Jupyter key-shortcuts Cheat sheet \n",
    "\n",
    "Type `Esc-H`  to see them all ... \n",
    "\n",
    "Two modes: Command mode (type Esc; the cell is outlines with a Blue border) and Edit mode (type Enter; Green border).  \n",
    "We recommend learning the command mode shortcuts in the following rough order:\n",
    "\n",
    "-    Basic navigation: `enter`, `shift-enter`, `up/k`, `down/j`\n",
    "-    Save the notebook: `s`\n",
    "-    Change cell types: `y`, `m`, `1-6`, `t`\n",
    "-    Cell creation: `a`, `b`\n",
    "-    Cell editing: `x`, `c`, `v`, `d`, `z`\n",
    "-    Kernel operations: `i`, `0` (press twice)\n",
    "\n",
    "Overview of useful shortcuts (mostly Command-mode): "
   ]
  },
  {
   "cell_type": "markdown",
   "metadata": {},
   "source": [
    "\n",
    "| Command       | Action                 |\n",
    "|:--------------|:----------------------:|\n",
    "| Enter         | enter edit mode        | \n",
    "| Shift-Enter   | run cell, select below |   \n",
    "| Ctrl-Enter    | run cell               |   \n",
    "| Alt-Enter     | run cell, insert below | \n",
    "| Shift-Tab     | Help on a function     |\n",
    "| Shift-Tab (2times)  | Detailed Help on a function     |\n",
    "| Shift-Tab (3times)  | Try it out !     |\n",
    "| Esc-Y         | code cell              |   \n",
    "| Esc-M         | to markdown            |   \n",
    "| Esc-R         | to raw                 |  \n",
    "| Esc-1         | to heading 1           |   \n",
    "| Esc-2,3,4,5,6 | to heading 2,3,4,5,6   |   \n",
    "| Up/Esc-K      | select cell above      |   \n",
    "| Down/Esc-J    | select cell below      |  \n",
    "| Esc-A/B       | insert cell above/below|   \n",
    "| Esc-X         | cut selected cell      |   \n",
    "| Esc-C         | copy selected cell     |   \n",
    "| Shift-V       | paste cell above       |   \n",
    "| Esc-V         | paste cell below       |   \n",
    "| Esc-Z         | undo last cell deletion|   \n",
    "| Shift-M       | merge cell below       |   \n",
    "| Ctrl-S        | Save and Checkpoint    |       "
   ]
  },
  {
   "cell_type": "markdown",
   "metadata": {},
   "source": [
    "###  2.3 List of Magic Jupyter commands \n",
    "\n",
    "\"Magic\" commands always start with \"%\" or \"%%\".  \n",
    "The \"%\" commands also work in plain IPython. \n",
    "\n",
    "And guess what, there is a magic command to have a quick overview of all the \"magic\" Jupyter commands. Simply enter:"
   ]
  },
  {
   "cell_type": "code",
   "execution_count": 1,
   "metadata": {},
   "outputs": [],
   "source": [
    "%quickref"
   ]
  },
  {
   "cell_type": "markdown",
   "metadata": {},
   "source": [
    "## References and additional material:   <a class=\"anchor\" id=\"V\"></a>\n",
    "\n",
    "**Appendix A** of the book *Statistics, data mining and Machine learning in astronomy* by Z. Ivezic et al. in Princeton Series in Modern Astronomy.  \n",
    "\n",
    "Other useful references to know more about the topics covered in this class: \n",
    "\n",
    "* Jupyter Notebooks: \n",
    "    - General: https://www.datacamp.com/community/tutorials/tutorial-jupyter-notebook#gs.HoI=454\n",
    "    - Syntax: https://guides.github.com/features/mastering-markdown/\n",
    "    - Youtube Video: https://www.youtube.com/embed/inN8seMm7UI\n"
   ]
  },
  {
   "cell_type": "code",
   "execution_count": null,
   "metadata": {},
   "outputs": [],
   "source": []
  }
 ],
 "metadata": {
  "kernelspec": {
   "display_name": "Python 3",
   "language": "python",
   "name": "python3"
  },
  "language_info": {
   "codemirror_mode": {
    "name": "ipython",
    "version": 3
   },
   "file_extension": ".py",
   "mimetype": "text/x-python",
   "name": "python",
   "nbconvert_exporter": "python",
   "pygments_lexer": "ipython3",
   "version": "3.7.3"
  }
 },
 "nbformat": 4,
 "nbformat_minor": 4
}
