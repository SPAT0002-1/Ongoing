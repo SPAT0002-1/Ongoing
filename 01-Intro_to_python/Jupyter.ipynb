{
 "cells": [
  {
   "cell_type": "markdown",
   "metadata": {},
   "source": [
    "# About Jupyter       <a class=\"anchor\" id=\"IV\"></a>\n",
    "\n",
    "\n",
    "## TOC\n",
    "\n",
    "- [1. Introduction to python](Python_in_a_nutshell.ipynb)\n",
    "- [2. About Jupyter](#IV)\n",
    "    * [2.1 Should I only work with Jupyter ?](#2.1-Should-I-only-work-with-Jupyter-?)\n",
    "    * [2.2 Jupyter key shortcuts](#2.2-Jupyter-key-shortcuts-Cheat-sheet)\n",
    "    * [2.3 Magic jupyter commands](#2.3-List-of-Magic-Jupyter-commands)\n",
    "- [References and Additional material](#V)"
   ]
  },
  {
   "cell_type": "markdown",
   "metadata": {},
   "source": [
    "## 2 About Jupyter       <a class=\"anchor\" id=\"IV\"></a>\n",
    "\n",
    "\n",
    "Project Jupyter was born out of the IPython project. It started as Ipython notebook but evolved to be a multi-language notebook environment. The name Jupyter is an indirect acronym of the three core languages it was designed for: **JU**lia, **PYT**hon, and **R**. So it is not because of its \"planet's\" sounding (the acronym has been designed for this !) that I have picked it up for this class ... but because this is a very useful tool and handy way to use python. As it is a notebook, you keep track of everything you want which is an important feature for:     \n",
    "- (i) Repeatability of work/research    \n",
    "- (ii) Finding out the origin of strange results (that were in fact bugs)    \n",
    "- (iii) Sharing results with collaborators, giving them the opportunity to understand in details what you did.  "
   ]
  },
  {
   "cell_type": "markdown",
   "metadata": {},
   "source": [
    "### 2.1 Should I only work with Jupyter? \n",
    "\n",
    "I think that Jupyter is very handy for number of daily work but not for everything. You may need, from time to time, to run python scripts (we'll see later how to do this) in non interactive mode. These would be scripts you have developped and that are e.g. quite demanding in memory, perform long and/or complex calculation, or maybe need to be run on a powerful machine (which is not your Desktop). Use of GUI (Graphical User Interface) is also recommended (in my opinion) to write your functions/packages and debug them. For this, there is IDE (Interactive Development environment) that provides you with editor, debuger, (i-)python consoles, command history consoles, help windows, \"variable\" properties consoles, ...  \n",
    "\n",
    "Non exhaustive list of IDEs to develop your code: \n",
    "- Pycharm: A very popular one developed by JetBrains  https://www.jetbrains.com/pycharm/\n",
    "- SPYDER that comes with anaconda python distribution. https://www.spyder-ide.org/\n",
    "- Enthought tool suite also provides a powerful IDE. https://docs.enthought.com/ets/\n",
    "\n",
    "**Another reason** why knowing a bit jupyter is useful is that it becomes the entrance door to several big online science platforms. As introduced in this paper by Juneau et al. 2021 https://arxiv.org/abs/2104.06527, the American Astronomical Society has developped jupyter interfaces to access their science ecosystems. This is the case e.g. of the [AtroDataLab](https://datalab.noirlab.edu/) and of the [DESIHUB](https://desihub.github.io/). Not all the platforms are public but this an illustration, among others, that Jupyter is being more and more popular for collaboration in the astronomical community.  "
   ]
  },
  {
   "cell_type": "markdown",
   "metadata": {},
   "source": [
    "### 2.2 Jupyter key-shortcuts Cheat sheet \n",
    "\n",
    "Type `Esc-H`  to see them all ... \n",
    "\n",
    "Two modes: Command mode (type Esc; the cell is outlines with a Blue border) and Edit mode (type Enter; Green border).  \n",
    "We recommend learning the command mode shortcuts in the following rough order:\n",
    "\n",
    "-    Basic navigation: `enter`, `shift-enter`, `up/k`, `down/j`\n",
    "-    Saving the notebook: `s`\n",
    "-    Change Cell types: `y`, `m`, `1-6`, `t`\n",
    "-    Cell creation: `a`, `b`\n",
    "-    Cell editing: `x`, `c`, `v`, `d`, `z`\n",
    "-    Kernel operations: `i`, `0` (press twice)\n",
    "\n",
    "Overview of useful shortcuts (mostly Command-mode): "
   ]
  },
  {
   "cell_type": "markdown",
   "metadata": {},
   "source": [
    "\n",
    "| Command       | Action                 |\n",
    "|:--------------|:----------------------:|\n",
    "| Enter         | enter edit mode        | \n",
    "| Shift-Enter   | run cell, select below |   \n",
    "| Ctrl-Enter    | run cell               |   \n",
    "| Alt-Enter     | run cell, insert below | \n",
    "| Shift-Tab     | Help on a function     |\n",
    "| Shift-Tab (2times)  | Detailed Help on a function     |\n",
    "| Shift-Tab (3times)  | Try it out !     |\n",
    "| Esc-Y         | code cell              |   \n",
    "| Esc-M         | to markdown            |   \n",
    "| Esc-R         | to raw                 |  \n",
    "| Esc-1         | to heading 1           |   \n",
    "| Esc-2,3,4,5,6 | to heading 2,3,4,5,6   |   \n",
    "| Up/Esc-K      | select cell above      |   \n",
    "| Down/Esc-J    | select cell below      |  \n",
    "| Esc-A/B       | insert cell above/below|   \n",
    "| Esc-X         | cut selected cell      |   \n",
    "| Esc-C         | copy selected cell     |   \n",
    "| Shift-V       | paste cell above       |   \n",
    "| Esc-V         | paste cell below       |   \n",
    "| Esc-Z         | undo last cell deletion|   \n",
    "| Shift-M       | merge cell below       |   \n",
    "| Ctrl-S        | Save and Checkpoint    |       "
   ]
  },
  {
   "cell_type": "markdown",
   "metadata": {},
   "source": [
    "###  2.3 List of Magic Jupyter commands \n",
    "\n",
    "\"Magic\" commands always start with \"%\" or \"%%\"    \n",
    "The \"%\" commands also work if you are simply running ipython. \n",
    "\n",
    "And guess what, there is a magic command to have a quick overview of all the \"magic\" Jupyter commands. Simply enter:"
   ]
  },
  {
   "cell_type": "code",
   "execution_count": null,
   "metadata": {},
   "outputs": [],
   "source": [
    "%quickref"
   ]
  },
  {
   "cell_type": "markdown",
   "metadata": {},
   "source": [
    "## References and Additional material:   <a class=\"anchor\" id=\"V\"></a>\n",
    "\n",
    "**Appendix A** of the book *Statistics, data mining and Machine learning in astronomy* by Z. Ivezic et al. in Princeton Series in Modern Astronomy.  \n",
    "\n",
    "Other useful references to know more about the topics covered in this class: \n",
    "\n",
    "* Jupyter Notebooks: \n",
    "    - General: https://www.datacamp.com/community/tutorials/tutorial-jupyter-notebook#gs.HoI=454\n",
    "    - Syntax: https://guides.github.com/features/mastering-markdown/\n",
    "    - Youtube Video: https://www.youtube.com/embed/inN8seMm7UI\n"
   ]
  },
  {
   "cell_type": "code",
   "execution_count": null,
   "metadata": {},
   "outputs": [],
   "source": []
  }
 ],
 "metadata": {
  "kernelspec": {
   "display_name": "Python [conda env:intel-python3]",
   "language": "python",
   "name": "conda-env-intel-python3-py"
  },
  "language_info": {
   "codemirror_mode": {
    "name": "ipython",
    "version": 3
   },
   "file_extension": ".py",
   "mimetype": "text/x-python",
   "name": "python",
   "nbconvert_exporter": "python",
   "pygments_lexer": "ipython3",
   "version": "3.7.9"
  }
 },
 "nbformat": 4,
 "nbformat_minor": 4
}
