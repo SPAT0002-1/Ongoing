{
 "cells": [
  {
   "cell_type": "markdown",
   "id": "cc81b2c8-115a-4a70-b2d8-e279b4f8dd70",
   "metadata": {},
   "source": [
    "# `Python` in a nutshell: Part 2"
   ]
  },
  {
   "cell_type": "markdown",
   "id": "012dbc40-c2ba-4ab5-99f8-7624094cd403",
   "metadata": {},
   "source": [
    "## Table of Content\n",
    "\n",
    "- [1. Landing on Planet Python](#III)\n",
    "    * 1.1 [Motivation](Python_in_a_nutshell_Part1.ipynb)\n",
    "    * 1.2 [History](Python_in_a_nutshell_Part1.ipynb)\n",
    "    * 1.3 [What is an interpreted language?](Python_in_a_nutshell_Part1.ipynb)\n",
    "    * 1.4 [First steps](Python_in_a_nutshell_Part1.ipynb)\n",
    "    * 1.5 [Arithmetic operators](Python_in_a_nutshell_Part1.ipynb)\n",
    "    * 1.6 [Container objects](#IIIe)\n",
    "        - 1.6.1 [Lists](#I.6.1-Lists:)\n",
    "        - 1.6.2 [Sets](#1.6.2-Sets:)\n",
    "        - 1.6.3 [Tuples](#1.6.3-Tuples)\n",
    "        - 1.6.4 [Lists, sets and tuple methods](#1.6.4-Lists,-sets-and-tuple-methods:)\n",
    "        - 1.6.5 [Dictionnaries](#1.5.5-Dictionaries)\n",
    "    * 1.7 [Control flow statements](#IIIg)\n",
    "        - 1.7.1 `if` [statements](#1.7.1-if-statements)\n",
    "        - 1.7.2 `for` [loops](#1.7.2-for-loops)\n",
    "        - 1.7.3 `while` [loops](#1.7.3-while-loops)\n",
    "        - 1.7.4 [List comprehensions](#1.7.4-List-Comprehensions)\n",
    "    * 1.8 [Scripts and functions](Scripts_and_functions.ipynb)\n",
    "    * 1.9 [Python coding recommendations](#IIIh)\n",
    "    * 1.10 [Summary](#1.10-Summary)\n",
    "    \n",
    "- [References and additional material](#References-and-Additional-material:)"
   ]
  },
  {
   "cell_type": "markdown",
   "id": "cad80ff3-ec38-449d-b0b7-7cc5a489371d",
   "metadata": {},
   "source": [
    "## 1. Landing on Planet Python <a class=\"anchor\" id=\"III\"></a>\n",
    "\n",
    "See [Python_in_a_nutshell_Part1.ipynb](Python_in_a_nutshell_Part1.ipynb) for part 1 of this notebook (Section 1.1 -> 1.5)"
   ]
  },
  {
   "cell_type": "markdown",
   "id": "bf317da6-eb5c-4ab9-8e19-5aeef5dc9d86",
   "metadata": {
    "nbpresent": {
     "id": "d283d81b-28ee-4be4-b84d-52006dd64e02"
    }
   },
   "source": [
    "### 1.6 Container Objects  <a class=\"anchor\" id=\"IIIe\"></a>\n",
    "\n",
    "Besides strings, and numeric variables (floats, integer), there is in python a variety of container types. These containers include **lists**, **tuples**, **sets** and **dictionaries**"
   ]
  },
  {
   "cell_type": "markdown",
   "id": "a0a298f0-4464-47e3-9719-b3966924c7e8",
   "metadata": {
    "nbpresent": {
     "id": "9cb72dfe-2771-4234-98a7-47933e6dc652"
    }
   },
   "source": [
    "#### 1.6.1 Lists: \n",
    "\n",
    "A list is an *ordered* sequence of objects that can be accessed by item indexing via square brackets `[ ]`. In python, indexing **is always zero-based**, i.e. the first index of a list (but this is also true for arrays -that we will study later-) is zero.\n",
    "\n",
    "**Example:**\n",
    "``` python\n",
    "L = [1,2,3,4]\n",
    "L[0] \n",
    "    Out: 1\n",
    "L[2]\n",
    "    Out: 3\n",
    "```\n",
    "\n",
    "An important characteristic of lists is that they can include objects of *various types*, including other lists. \n",
    "\n",
    "**Example:**\n",
    "``` python\n",
    "L2 = [1., L, 'hello world']\n",
    "L2[2]\n",
    "    Out: 'hello world'\n",
    "```"
   ]
  },
  {
   "cell_type": "code",
   "execution_count": 1,
   "id": "7c4f7300-4bfc-46bc-8b64-f11adf94f884",
   "metadata": {
    "nbpresent": {
     "id": "67d8eefe-a4b9-419b-8d1e-8039493d90d6"
    }
   },
   "outputs": [
    {
     "name": "stdout",
     "output_type": "stream",
     "text": [
      "[1, 4, 'hello world', 4.0]\n"
     ]
    }
   ],
   "source": [
    "# Experiment with the above command lines \n",
    "L = [1, 4, 'hello world', 4.0]\n",
    "print(L)"
   ]
  },
  {
   "cell_type": "code",
   "execution_count": 2,
   "id": "1c4518fa-8fe4-433f-8866-5516282e58a0",
   "metadata": {},
   "outputs": [
    {
     "data": {
      "text/plain": [
       "list"
      ]
     },
     "execution_count": 2,
     "metadata": {},
     "output_type": "execute_result"
    }
   ],
   "source": [
    "type(L)"
   ]
  },
  {
   "cell_type": "code",
   "execution_count": 3,
   "id": "05743482",
   "metadata": {},
   "outputs": [
    {
     "name": "stdout",
     "output_type": "stream",
     "text": [
      "4.0\n"
     ]
    }
   ],
   "source": [
    "print(L[3])"
   ]
  },
  {
   "cell_type": "code",
   "execution_count": 4,
   "id": "9cd916a1",
   "metadata": {},
   "outputs": [
    {
     "data": {
      "text/plain": [
       "[1, 4, 'hello world']"
      ]
     },
     "execution_count": 4,
     "metadata": {},
     "output_type": "execute_result"
    }
   ],
   "source": [
    "L[0:3]"
   ]
  },
  {
   "cell_type": "markdown",
   "id": "6e40061f-892c-4ebb-aa28-1d5c7b247c1d",
   "metadata": {
    "nbpresent": {
     "id": "e4e8417d-a462-4948-a340-c89f4d988d44"
    }
   },
   "source": [
    "To access several elements of a list/a sublist, this is called **index slicing**, you can use the semicolon `:`. The slicing can work in various ways:   \n",
    "**Example:**\n",
    "``` python\n",
    "L[0:2]   # First two elements of a list  ; note that item with index #2 is EXCLUDED\n",
    "L[:2]    # First two elements, 0 is implicit\n",
    "L[::2]   # every 2 elements (from the first one with index 0)\n",
    "L[-2:]   # Last two items \n",
    "L[i:]    # From the item i until the end (last entry is implicit). No error message if i > len(L) \n",
    "L[::-1]  # All items in reverse order\n",
    "    \n",
    "```\n",
    "List can be generated also using the function list()\n",
    "\n",
    "One way to remember how slices work is to think of the indices as pointing between characters, with the left edge of the first character numbered 0. Then the right edge of the last character of a string of n characters has index n, for example:\n",
    "``` python\n",
    " +---+---+---+---+---+---+\n",
    " | P | y | t | h | o | n |\n",
    " +---+---+---+---+---+---+\n",
    " 0   1   2   3   4   5   6\n",
    "-6  -5  -4  -3  -2  -1\n",
    "```\n",
    "The first row of numbers gives the position of the indices 0...6 (hereabove, in the string `'python'`); the second row gives the corresponding negative indices. The slice `[i:j]` from `i` to `j` consists of all characters between the edges labeled `i` and `j`, respectively.  \n",
    "\n",
    "By calling item \\# i, one gets the item at the right side of i. This is why calling item `n` of a list or string or (...) of size `n` will result an error message: there is no item on the right side of position `n` (n=6 in the example above).   \n",
    "\n",
    "For non-negative indices, the length of a slice is the difference of the indices, if both are within bounds. \n",
    "\n",
    "\n",
    "**Notes**: \n",
    "- A list is an *[iterable](https://docs.python.org/2/glossary.html#term-iterable)*, which means that one can iterate over the elements of a list. (`list.__iter__()`, `enumerate(list)`). This also means that there is special *methods* that allow you to get e.g. its length (`list.__len__()` or `len(list)`). \n",
    "- Contrary to a `string`, a `list` is mutable, which means that you can replace values of elements, or even clear elements of a list. For example `L[2:4] = []`, will clear elements \\#2 and \\#3 of list `L`.    \n",
    "- *Slicing* in `python` works for any *[sequence](https://docs.python.org/2/glossary.html#term-sequence)* type  object. This includes built-in iterables (i.e. `string`, `list`, `tuple`), but also non iterable objects such as `dict` whose length can also be accessed with method `len()`. "
   ]
  },
  {
   "cell_type": "code",
   "execution_count": 5,
   "id": "efb98a66",
   "metadata": {},
   "outputs": [
    {
     "name": "stdout",
     "output_type": "stream",
     "text": [
      "[1, 4, 'hello world', 4.0]\n"
     ]
    }
   ],
   "source": [
    "print(L)"
   ]
  },
  {
   "cell_type": "code",
   "execution_count": 6,
   "id": "77246a4a-5805-4f85-abec-0938969b1827",
   "metadata": {},
   "outputs": [
    {
     "data": {
      "text/plain": [
       "[1, 4, 'hello world']"
      ]
     },
     "execution_count": 6,
     "metadata": {},
     "output_type": "execute_result"
    }
   ],
   "source": [
    "# use this cell to experiment with lists as described in the above examples, \n",
    "# and experiment with the various ways to slice through a list as described above\n",
    "L[:3]"
   ]
  },
  {
   "cell_type": "code",
   "execution_count": 7,
   "id": "973a4e93",
   "metadata": {},
   "outputs": [
    {
     "data": {
      "text/plain": [
       "[4, 'hello world', 4.0]"
      ]
     },
     "execution_count": 7,
     "metadata": {},
     "output_type": "execute_result"
    }
   ],
   "source": [
    "L[1:]"
   ]
  },
  {
   "cell_type": "code",
   "execution_count": 8,
   "id": "8560c532-5251-4ef2-978f-387c8a59b898",
   "metadata": {},
   "outputs": [
    {
     "data": {
      "text/plain": [
       "[1, 'hello world']"
      ]
     },
     "execution_count": 8,
     "metadata": {},
     "output_type": "execute_result"
    }
   ],
   "source": [
    "# Slicing with step\n",
    "L[0:4:2]"
   ]
  },
  {
   "cell_type": "code",
   "execution_count": 9,
   "id": "5c383593-91ec-4c7b-ac54-9af1239c4446",
   "metadata": {},
   "outputs": [
    {
     "data": {
      "text/plain": [
       "[4.0, 'hello world', 4, 1]"
      ]
     },
     "execution_count": 9,
     "metadata": {},
     "output_type": "execute_result"
    }
   ],
   "source": [
    "# Slicing with reversed order\n",
    "L[::-1]"
   ]
  },
  {
   "cell_type": "code",
   "execution_count": 10,
   "id": "2bf4124b-e76f-4f40-83f2-5c1d167389b3",
   "metadata": {},
   "outputs": [
    {
     "data": {
      "text/plain": [
       "['p', 't', 'o']"
      ]
     },
     "execution_count": 10,
     "metadata": {},
     "output_type": "execute_result"
    }
   ],
   "source": [
    "# Slicing of a list of strings \n",
    "L2 = ['p', 'y', 't', 'h', 'o', 'n']\n",
    "L2[0:5:2]"
   ]
  },
  {
   "cell_type": "code",
   "execution_count": 11,
   "id": "3ebd99ac-cd1a-475c-86da-fa1092c71363",
   "metadata": {},
   "outputs": [
    {
     "data": {
      "text/plain": [
       "'pto'"
      ]
     },
     "execution_count": 11,
     "metadata": {},
     "output_type": "execute_result"
    }
   ],
   "source": [
    "# Slicing for a single string (i.e. not a list)\n",
    "my_string = 'python'\n",
    "my_string[0:5:2]"
   ]
  },
  {
   "cell_type": "code",
   "execution_count": 12,
   "id": "369e30c5-63eb-4695-b84e-81ef1e570fe3",
   "metadata": {
    "nbpresent": {
     "id": "c206a7a1-051b-4041-ad3e-ef807dc37013"
    }
   },
   "outputs": [
    {
     "name": "stdout",
     "output_type": "stream",
     "text": [
      "p\n",
      "y\n",
      "t\n",
      "h\n",
      "o\n",
      "n\n"
     ]
    }
   ],
   "source": [
    "# List is an iterable (use for loop ... we'll come back to the syntax below)\n",
    "for list_element in L2: \n",
    "    print(list_element)"
   ]
  },
  {
   "cell_type": "code",
   "execution_count": 13,
   "id": "b8be114e",
   "metadata": {},
   "outputs": [
    {
     "name": "stdout",
     "output_type": "stream",
     "text": [
      "p\n",
      "y\n",
      "t\n",
      "h\n",
      "o\n",
      "n\n"
     ]
    }
   ],
   "source": [
    "# a more \"natural\"but less nice way to iterate over elements of a list \n",
    "index_of_my_list = [0, 1, 2, 3, 4, 5]\n",
    "for i in index_of_my_list:\n",
    "    print(L2[i])"
   ]
  },
  {
   "cell_type": "code",
   "execution_count": 16,
   "id": "4d69258b-076c-4799-b66a-0a6de7b32bb7",
   "metadata": {},
   "outputs": [
    {
     "name": "stdout",
     "output_type": "stream",
     "text": [
      "0 p\n",
      "1 y\n",
      "2 t\n",
      "3 h\n",
      "5 n\n",
      "['p', 'y', 't', 'h', 'o', 'n']\n"
     ]
    }
   ],
   "source": [
    "# You can also define the list of indices on the fly and skip some indices  \n",
    "for i in [0,1,2, 3, 5]:\n",
    "    print(i, L2[i])\n",
    "print(L2)"
   ]
  },
  {
   "cell_type": "code",
   "execution_count": 17,
   "id": "61ccd285",
   "metadata": {},
   "outputs": [
    {
     "data": {
      "text/plain": [
       "6"
      ]
     },
     "execution_count": 17,
     "metadata": {},
     "output_type": "execute_result"
    }
   ],
   "source": [
    "len(L2)"
   ]
  },
  {
   "cell_type": "markdown",
   "id": "0cd2b8b9-5bfa-4576-bb6d-af783c3a5e42",
   "metadata": {
    "nbpresent": {
     "id": "e9cbadd1-4e47-4356-91ce-bf2871014f7f"
    }
   },
   "source": [
    "#### 1.6.2 Sets:\n",
    "\n",
    "A **set** is a bit like a list BUT its elements are **unordered** and **unique** (no repetition).  \n",
    "A set is built using the function `set([])`\n",
    "\n",
    "**Example:**\n",
    "``` python \n",
    "S = set([1,1,2,4,3,5])\n",
    "\n",
    "S = {1,1,2,4,3,5}  # Another way to define a set object !\n",
    "```\n",
    "Use the cell below to see the output of `set` (`set` did not exist before python 2.6)\n"
   ]
  },
  {
   "cell_type": "code",
   "execution_count": 18,
   "id": "fa3fbacd-9efd-48fc-8763-4ef8ca282108",
   "metadata": {
    "nbpresent": {
     "id": "7214e273-2b7a-4883-b83d-6851231b0563"
    }
   },
   "outputs": [
    {
     "data": {
      "text/plain": [
       "{1, 2, 3, 4, 5}"
      ]
     },
     "execution_count": 18,
     "metadata": {},
     "output_type": "execute_result"
    }
   ],
   "source": [
    "# Example of set defined using set()\n",
    "L3 = [1,1,1, 3, 1, 2,4,3,5]\n",
    "set(L3)"
   ]
  },
  {
   "cell_type": "code",
   "execution_count": 19,
   "id": "3c9001f7-392b-46d7-bd06-01b32143deba",
   "metadata": {
    "nbpresent": {
     "id": "d1e75721-c39c-43d7-b7be-d9ba21021f74"
    }
   },
   "outputs": [
    {
     "name": "stdout",
     "output_type": "stream",
     "text": [
      "{1, 2, 3, 4, 5}\n"
     ]
    }
   ],
   "source": [
    "# Implicit definition with {} \n",
    "S1 = {1,1,1, 3, 1, 2, 4, 3, 5}\n",
    "print(S1)"
   ]
  },
  {
   "cell_type": "code",
   "execution_count": 20,
   "id": "f0459be6-a6b0-4b0b-b440-67e69cfd8393",
   "metadata": {},
   "outputs": [
    {
     "ename": "TypeError",
     "evalue": "'set' object is not subscriptable",
     "output_type": "error",
     "traceback": [
      "\u001b[0;31m---------------------------------------------------------------------------\u001b[0m",
      "\u001b[0;31mTypeError\u001b[0m                                 Traceback (most recent call last)",
      "\u001b[0;32m/var/folders/9c/nn9vyf350tq3pbbll3zq6n8h0000gn/T/ipykernel_95846/3165382695.py\u001b[0m in \u001b[0;36m<module>\u001b[0;34m\u001b[0m\n\u001b[1;32m      1\u001b[0m \u001b[0;31m# Show that set is not subscriptable\u001b[0m\u001b[0;34m\u001b[0m\u001b[0;34m\u001b[0m\u001b[0;34m\u001b[0m\u001b[0m\n\u001b[0;32m----> 2\u001b[0;31m \u001b[0mS1\u001b[0m\u001b[0;34m[\u001b[0m\u001b[0;36m1\u001b[0m\u001b[0;34m]\u001b[0m\u001b[0;34m\u001b[0m\u001b[0;34m\u001b[0m\u001b[0m\n\u001b[0m",
      "\u001b[0;31mTypeError\u001b[0m: 'set' object is not subscriptable"
     ]
    }
   ],
   "source": [
    "# Show that set is not subscriptable \n",
    "S1[1]"
   ]
  },
  {
   "cell_type": "code",
   "execution_count": 22,
   "id": "f24a1776",
   "metadata": {},
   "outputs": [
    {
     "name": "stdout",
     "output_type": "stream",
     "text": [
      "['p', 'y', 't', 'h', 'o', 'n']\n"
     ]
    },
    {
     "data": {
      "text/plain": [
       "{'h', 'n', 'o', 'p', 't', 'y'}"
      ]
     },
     "execution_count": 22,
     "metadata": {},
     "output_type": "execute_result"
    }
   ],
   "source": [
    "# Illustrate that the order in a set is not conserved \n",
    "print(L2)\n",
    "set(L2)"
   ]
  },
  {
   "cell_type": "code",
   "execution_count": 23,
   "id": "40a5f64b",
   "metadata": {},
   "outputs": [
    {
     "name": "stdout",
     "output_type": "stream",
     "text": [
      "[1, 4, 'hello world', 4.0]\n"
     ]
    },
    {
     "data": {
      "text/plain": [
       "{1, 4, 'hello world'}"
      ]
     },
     "execution_count": 23,
     "metadata": {},
     "output_type": "execute_result"
    }
   ],
   "source": [
    "print(L)\n",
    "set(L)"
   ]
  },
  {
   "cell_type": "code",
   "execution_count": 24,
   "id": "ca4f6481",
   "metadata": {},
   "outputs": [
    {
     "data": {
      "text/plain": [
       "{1, 3, 'hello world'}"
      ]
     },
     "execution_count": 24,
     "metadata": {},
     "output_type": "execute_result"
    }
   ],
   "source": [
    "L4 = [1, 3, 'hello world', 3.0]\n",
    "set(L4)"
   ]
  },
  {
   "cell_type": "markdown",
   "id": "11895f2c-8bbd-4caa-b443-0d8a47ec4f87",
   "metadata": {
    "nbpresent": {
     "id": "36e33cde-c585-4a5c-b194-656607c0c818"
    }
   },
   "source": [
    "#### 1.6.3 Tuples\n",
    "\n",
    "Tuples are similar to lists but they are separated by parentheses `( )` instead of square brackets `[ ]`.   \n",
    "They support indexing and slicing like lists. However, Tuples (like strings) are **immutable**, which means that once they are created, the items cannot be changed. \n",
    "\n",
    "**Example:**\n",
    "``` python\n",
    "L = [1,2,3,4]  # this is a List\n",
    "T = (1,2,3,4)  # this is a Tuple\n",
    "```"
   ]
  },
  {
   "cell_type": "code",
   "execution_count": 25,
   "id": "d193966e-b4ee-4571-9912-ead71b0ed2a6",
   "metadata": {},
   "outputs": [
    {
     "data": {
      "text/plain": [
       "(1, 2, 3, 'Hello', (1+4j))"
      ]
     },
     "execution_count": 25,
     "metadata": {},
     "output_type": "execute_result"
    }
   ],
   "source": [
    "# Define a tuple \n",
    "T = (1,2, 3, 'Hello', 1 + 4j )\n",
    "T"
   ]
  },
  {
   "cell_type": "code",
   "execution_count": 26,
   "id": "597ad941-2909-45ce-a70a-0c3584315360",
   "metadata": {},
   "outputs": [
    {
     "data": {
      "text/plain": [
       "tuple"
      ]
     },
     "execution_count": 26,
     "metadata": {},
     "output_type": "execute_result"
    }
   ],
   "source": [
    "type(T)"
   ]
  },
  {
   "cell_type": "code",
   "execution_count": 27,
   "id": "fd4a9660-8379-427e-965f-98e4b6b363fb",
   "metadata": {
    "nbpresent": {
     "id": "4db800e8-bc31-42e6-9420-584f723312f8"
    }
   },
   "outputs": [
    {
     "name": "stdout",
     "output_type": "stream",
     "text": [
      "[1, 4857834, 3, 'Hello', (1+4j)]\n"
     ]
    }
   ],
   "source": [
    "# Create a list of length 5, and assign a value to item #2. \n",
    "# Do the same with a tuple. What is the difference ? \n",
    "L5 = [1, 2, 3, 'Hello', (1+4j)] \n",
    "L5[1] = 4857834\n",
    "print(L5)"
   ]
  },
  {
   "cell_type": "code",
   "execution_count": 28,
   "id": "bcdd1d9b-82fb-4c5e-aa1f-003675a22bf2",
   "metadata": {},
   "outputs": [
    {
     "ename": "TypeError",
     "evalue": "'tuple' object does not support item assignment",
     "output_type": "error",
     "traceback": [
      "\u001b[0;31m---------------------------------------------------------------------------\u001b[0m",
      "\u001b[0;31mTypeError\u001b[0m                                 Traceback (most recent call last)",
      "\u001b[0;32m/var/folders/9c/nn9vyf350tq3pbbll3zq6n8h0000gn/T/ipykernel_95846/4015821673.py\u001b[0m in \u001b[0;36m<module>\u001b[0;34m\u001b[0m\n\u001b[0;32m----> 1\u001b[0;31m \u001b[0mT\u001b[0m\u001b[0;34m[\u001b[0m\u001b[0;36m1\u001b[0m\u001b[0;34m]\u001b[0m \u001b[0;34m=\u001b[0m \u001b[0;36m4857834\u001b[0m\u001b[0;34m\u001b[0m\u001b[0;34m\u001b[0m\u001b[0m\n\u001b[0m\u001b[1;32m      2\u001b[0m \u001b[0mprint\u001b[0m\u001b[0;34m(\u001b[0m\u001b[0mT\u001b[0m\u001b[0;34m)\u001b[0m\u001b[0;34m\u001b[0m\u001b[0;34m\u001b[0m\u001b[0m\n",
      "\u001b[0;31mTypeError\u001b[0m: 'tuple' object does not support item assignment"
     ]
    }
   ],
   "source": [
    "T[1] = 4857834\n",
    "print(T)"
   ]
  },
  {
   "cell_type": "code",
   "execution_count": 29,
   "id": "0b91490f",
   "metadata": {},
   "outputs": [
    {
     "data": {
      "text/plain": [
       "(1,)"
      ]
     },
     "execution_count": 29,
     "metadata": {},
     "output_type": "execute_result"
    }
   ],
   "source": [
    "T2 = (1,)\n",
    "T2"
   ]
  },
  {
   "cell_type": "code",
   "execution_count": 30,
   "id": "62e5dd66",
   "metadata": {},
   "outputs": [
    {
     "data": {
      "text/plain": [
       "1"
      ]
     },
     "execution_count": 30,
     "metadata": {},
     "output_type": "execute_result"
    }
   ],
   "source": [
    "T2[0]"
   ]
  },
  {
   "cell_type": "markdown",
   "id": "cbdfb37e",
   "metadata": {},
   "source": [
    "At first sight, tuples may look unecessary, but they are NOT. It is important to be able to define some quantities that are immutable (e.g. to be sure that your code is not modifying a key quantity used). Tuples have another advantage that may not be apparent at first sight: they are more memory efficient. It may therefore be useful to use it for storing large data structure. It is also often tuples which are returned by python functions (don't worry, we'll see later what is a function in python). "
   ]
  },
  {
   "cell_type": "markdown",
   "id": "0164207a-f7ea-49fb-ab75-900a0a1ab251",
   "metadata": {
    "nbpresent": {
     "id": "c856176f-5222-4cbd-b43d-3b9ee775f83b"
    }
   },
   "source": [
    "#### 1.6.4 Lists, sets and tuple methods:\n",
    "\n",
    "There are many operations that can be done on lists, sets and tuples and that you may want to do very soon.\n",
    "\n",
    "- Add and remove elements from a list:\n",
    "``` python\n",
    "L.append(5) # Append an object at the end of a list\n",
    "L.insert(3, 'q')  # insert a string \"q\" at location 3. \n",
    "L.pop()     # Removes last object (or object at a specified index) of a list\n",
    "L.extend([6,8])  # Extend list, 'in-place'\n",
    "```\n",
    "- Concatenate and repeat lists:\n",
    "``` python\n",
    "L + L     # Concatenation\n",
    "    Out: [1,2,3,4,1,2,3,4]\n",
    "2 * L     # Repetition\n",
    "    Out: [1, 2, 3, 4, 1, 2, 3, 4]\n",
    "```\n",
    "- Sort elements of a list:\n",
    "\n",
    "``` python\n",
    "L.sort()   # sort in-place\n",
    "\n",
    "```\n",
    "\n",
    "- Conversion of lists to other types:\n",
    "\t* Convert list to a tuple (Remember that tuple are immutable -> cannot be changed !):   \n",
    "        `tuple(mylist)` \n",
    "\t* Convert list to set: (set is a unordered collection of unique items => duplicates are LOST!)    \n",
    "        `set(mylist)`\n",
    "    * Convert list of strings to strings:    \n",
    "        `''.join(Ls)`  \n",
    "\n",
    "**Notes**: \n",
    "- For a more exhaustive overview of the methods applicable to lists, consult the [Data Structure section](https://docs.python.org/3/tutorial/datastructures.html#more-on-lists) of the Python tutorial.\n",
    "- Convert list of integers to strings:\n",
    "    ``` python\n",
    "        listOfNumbers = [1, 2, 3]\n",
    "        strOfNumbers = ''.join(str(n) for n in listOfNumbers)\n",
    "\t```"
   ]
  },
  {
   "cell_type": "code",
   "execution_count": 31,
   "id": "08c00c29-b664-4404-8171-4afb5604e24a",
   "metadata": {},
   "outputs": [
    {
     "name": "stdout",
     "output_type": "stream",
     "text": [
      "[1, 4, 'hello world', 4.0]\n",
      "[1, 4, 'hello world', 4.0, 5]\n"
     ]
    }
   ],
   "source": [
    "# Append an element to a list \n",
    "print(L)\n",
    "L.append(5)\n",
    "print(L)"
   ]
  },
  {
   "cell_type": "code",
   "execution_count": 32,
   "id": "3167d282",
   "metadata": {},
   "outputs": [],
   "source": [
    "L.reverse()"
   ]
  },
  {
   "cell_type": "code",
   "execution_count": 33,
   "id": "a0847a93",
   "metadata": {},
   "outputs": [
    {
     "data": {
      "text/plain": [
       "[5, 4.0, 'hello world', 4, 1]"
      ]
     },
     "execution_count": 33,
     "metadata": {},
     "output_type": "execute_result"
    }
   ],
   "source": [
    "L"
   ]
  },
  {
   "cell_type": "code",
   "execution_count": 34,
   "id": "ba1905df",
   "metadata": {},
   "outputs": [
    {
     "name": "stdout",
     "output_type": "stream",
     "text": [
      "L= [5, 4.0, 'hello world', 4, 1]\n",
      "L6 = [5, 4.0, 'hello world', 4, 1]\n"
     ]
    }
   ],
   "source": [
    "# Difference between views and copy \n",
    "L6 = L\n",
    "print('L=', L)\n",
    "print('L6 =', L6)"
   ]
  },
  {
   "cell_type": "code",
   "execution_count": 38,
   "id": "72108eb1",
   "metadata": {},
   "outputs": [
    {
     "name": "stdout",
     "output_type": "stream",
     "text": [
      "L= [5, 4.0, 'hello world', 'Bye bye', 1]\n",
      "L6 = [5, 4.0, 'hello world', 'Bye bye', 1]\n"
     ]
    }
   ],
   "source": [
    "L[3]='Bye bye'\n",
    "print('L=', L)\n",
    "print('L6 =', L6)"
   ]
  },
  {
   "cell_type": "code",
   "execution_count": 39,
   "id": "fb4305c7",
   "metadata": {},
   "outputs": [
    {
     "name": "stdout",
     "output_type": "stream",
     "text": [
      "L= [5, 4.0, 'hello world', 'Bye bye', 1]\n",
      "L7 [5, 4.0, 'hello world', 'Bye bye', 1]\n",
      "L= [5, 4.0, 'hello world', 3.985, 1]\n",
      "L7 [5, 4.0, 'hello world', 'Bye bye', 1]\n"
     ]
    }
   ],
   "source": [
    "# Use copy to ensure that you modify only the list of interest \n",
    "L7 = L.copy()\n",
    "print('L=', L)\n",
    "print('L7', L7)\n",
    "L[3] = 3.985\n",
    "print('L=', L)\n",
    "print('L7', L7)"
   ]
  },
  {
   "cell_type": "code",
   "execution_count": 40,
   "id": "722d0b26-1a17-4716-8d4a-9fdcd9094fe2",
   "metadata": {
    "nbpresent": {
     "id": "f752f776-cc87-4dc1-bda0-c3549ef25c5e"
    }
   },
   "outputs": [
    {
     "name": "stdout",
     "output_type": "stream",
     "text": [
      "L7 [5, 4.0, 'a', 'hello world', 'Bye bye', 1]\n",
      "L7 [5, 4.0, 'a', 'hello world', 1, 'Bye bye', 1]\n"
     ]
    }
   ],
   "source": [
    "# Experiment with list and tuple methods: e.g. insert a string and an integer in a list you defined previously\n",
    "L7.insert(2, 'a')\n",
    "print('L7', L7)\n",
    "L7.insert(4, 1)\n",
    "print('L7', L7)"
   ]
  },
  {
   "cell_type": "code",
   "execution_count": 41,
   "id": "ca20452b-b023-4553-96e9-9c301d9721fe",
   "metadata": {
    "nbpresent": {
     "id": "745b3e7f-b8d6-4e9b-aa6d-db8fe7d327af"
    }
   },
   "outputs": [
    {
     "name": "stdout",
     "output_type": "stream",
     "text": [
      "[0, 1, 2, 4, 5]\n",
      "[0, 1, 2, 4, 5, ['s1', 's2']]\n"
     ]
    }
   ],
   "source": [
    "# Create a list of 6 integers, remove the 3rd one. Add a list of 2 strings. \n",
    "L8 = [0,1,2,3,4,5]\n",
    "L8.pop(3)\n",
    "print(L8)\n",
    "L8.append(['s1', 's2'])\n",
    "print(L8)"
   ]
  },
  {
   "cell_type": "code",
   "execution_count": 42,
   "id": "da2fffcc-9f23-4650-ac50-3816fe0a1e25",
   "metadata": {},
   "outputs": [
    {
     "name": "stdout",
     "output_type": "stream",
     "text": [
      "[5, 4.0, 'hello world', 3.985, 1]\n",
      "[5, 4.0, 'hello world', 3.985, 1, 9]\n"
     ]
    }
   ],
   "source": [
    "# use L.append(9)\n",
    "print(L)\n",
    "L.append(9)\n",
    "print(L)"
   ]
  },
  {
   "cell_type": "code",
   "execution_count": 43,
   "id": "57b66a4c-8231-443c-a37c-b8943f7f60e6",
   "metadata": {},
   "outputs": [
    {
     "name": "stdout",
     "output_type": "stream",
     "text": [
      "[5, 4.0, 'hello world', 3.985, 1, 9]\n",
      "[5, 4.0, 'hello world', 3.985, 1, 9, 17, 24]\n"
     ]
    }
   ],
   "source": [
    "# use L.extend([17, 24]) ; what is the difference between each method? \n",
    "print(L)\n",
    "L.extend([17, 24])\n",
    "print(L)"
   ]
  },
  {
   "cell_type": "code",
   "execution_count": 44,
   "id": "13ebfa88-87f9-4c6a-8f22-be994fefd857",
   "metadata": {},
   "outputs": [
    {
     "name": "stdout",
     "output_type": "stream",
     "text": [
      "[[5, 4.0, 'hello world', 3.985, 1, 9, 17, 24], [1, 1, 1, 3, 1, 2, 4, 3, 5]]\n",
      "hello world\n"
     ]
    }
   ],
   "source": [
    "# Access elements of a list within a list \n",
    "L9 = [L, L3]\n",
    "print(L9)\n",
    "print(L9[0][2])  # access element 2 of the first list "
   ]
  },
  {
   "cell_type": "code",
   "execution_count": 45,
   "id": "91fb5946-d3c9-4fce-96be-aa42c543e5f8",
   "metadata": {},
   "outputs": [
    {
     "name": "stdout",
     "output_type": "stream",
     "text": [
      "[5, 4.0, 'hello world', 3.985, 1, 9, 17, 24, 'p', 'y', 't', 'h', 'o', 'n']\n"
     ]
    }
   ],
   "source": [
    "# Use the '+' operator on two lists\n",
    "L10 = L + L2 \n",
    "print(L10)"
   ]
  },
  {
   "cell_type": "code",
   "execution_count": 46,
   "id": "f8a720e4-19a7-4d6d-ac5d-3de69f42d093",
   "metadata": {},
   "outputs": [
    {
     "ename": "TypeError",
     "evalue": "can't multiply sequence by non-int of type 'list'",
     "output_type": "error",
     "traceback": [
      "\u001b[0;31m---------------------------------------------------------------------------\u001b[0m",
      "\u001b[0;31mTypeError\u001b[0m                                 Traceback (most recent call last)",
      "\u001b[0;32m/var/folders/9c/nn9vyf350tq3pbbll3zq6n8h0000gn/T/ipykernel_95846/3578633942.py\u001b[0m in \u001b[0;36m<module>\u001b[0;34m\u001b[0m\n\u001b[1;32m      1\u001b[0m \u001b[0;31m# Usr the '*' operators on two lists\u001b[0m\u001b[0;34m\u001b[0m\u001b[0;34m\u001b[0m\u001b[0;34m\u001b[0m\u001b[0m\n\u001b[0;32m----> 2\u001b[0;31m \u001b[0mL2\u001b[0m \u001b[0;34m*\u001b[0m \u001b[0mL2\u001b[0m\u001b[0;34m\u001b[0m\u001b[0;34m\u001b[0m\u001b[0m\n\u001b[0m",
      "\u001b[0;31mTypeError\u001b[0m: can't multiply sequence by non-int of type 'list'"
     ]
    }
   ],
   "source": [
    "# Usr the '*' operators on two lists\n",
    "L2 * L2 "
   ]
  },
  {
   "cell_type": "code",
   "execution_count": 47,
   "id": "24d00ab2",
   "metadata": {},
   "outputs": [
    {
     "name": "stdout",
     "output_type": "stream",
     "text": [
      "['p', 'y', 't', 'h', 'o', 'n']\n",
      "['p', 'y', 't', 'h', 'o', 'n', 'p', 'y', 't', 'h', 'o', 'n']\n"
     ]
    }
   ],
   "source": [
    "print(L2)\n",
    "print(2 * L2)"
   ]
  },
  {
   "cell_type": "code",
   "execution_count": 48,
   "id": "abe4b622-18de-47d3-885e-bba91d0e99c2",
   "metadata": {},
   "outputs": [
    {
     "name": "stdout",
     "output_type": "stream",
     "text": [
      "[0, 2, 41, 1, 34, 24]\n",
      "[0, 1, 2, 24, 34, 41]\n"
     ]
    }
   ],
   "source": [
    "# Use the method 'sort' on a list of integers \n",
    "L_of_integers = [0, 2, 41, 1, 34, 24]\n",
    "print(L_of_integers)\n",
    "L_of_integers.sort()\n",
    "print(L_of_integers)"
   ]
  },
  {
   "cell_type": "code",
   "execution_count": 49,
   "id": "0bfb1d9b-749c-45fa-ab7e-ba5a42c17c0a",
   "metadata": {},
   "outputs": [],
   "source": [
    "# In case informations about arguments of a method are needed, there is always a \"help\" "
   ]
  },
  {
   "cell_type": "code",
   "execution_count": 50,
   "id": "451c5cb6-4686-498c-8120-fb2559735c09",
   "metadata": {},
   "outputs": [
    {
     "name": "stdout",
     "output_type": "stream",
     "text": [
      "([5, 4.0, 'hello world', 3.985, 1, 9, 17, 24], [1, 1, 1, 3, 1, 2, 4, 3, 5])\n"
     ]
    }
   ],
   "source": [
    "# Convert a list into a tuple \n",
    "T9 = tuple(L9)\n",
    "print(T9)"
   ]
  },
  {
   "cell_type": "markdown",
   "id": "8c80c733-0f53-4cff-b498-bcfc783b615b",
   "metadata": {
    "nbpresent": {
     "id": "520494ec-974a-43f5-bd3e-e3d1e105f174"
    }
   },
   "source": [
    "#### 1.6.5 Dictionaries\n",
    "\n",
    "Another common built-in `Python` object is the **dictionary**. The dictionnary stores unordered sequence(s) of key-value pairs. It is defined using curly brackets `{ }`, and like lists allows mixing of types. It is a bit like a `list` for which each element has a label such that you can access this element by its label instead of accessing it by its position.    \n",
    "**Example:**\n",
    "``` python\n",
    "D = {'one': 1, 'two': 2, 'three': 3, 'four': L}  # L is a list as defined above\n",
    "D['two']\n",
    "    Out:  2\n",
    "D = dict(one=1, two=2, three=3, four=L)  # Another way to create a dictionary \n",
    "```\n",
    "\n",
    "Dictionaries are often found as input/outputs of built-in or contributed functions. They work in fact behind the scene when you define new variables that you use within an `ipython` or `juPyter` session. You may have a look behind the curtain by calling `globals()` in the code-cell below. \n",
    "\n",
    "Also a dictionnary is NOT an iterable, you can get its length using the method `len(). "
   ]
  },
  {
   "cell_type": "code",
   "execution_count": 51,
   "id": "d875a71e-0a06-4a52-8618-8d176d95e0a2",
   "metadata": {
    "nbpresent": {
     "id": "83332953-7cb8-4484-a890-1dc824dacf58"
    }
   },
   "outputs": [],
   "source": [
    "# Use this cell  create a dictionnary with elements of different types (e.g. floats, lists, strings) \n",
    "L = [1, 4, 5765]\n",
    "D = {'one': 42, 'key_2': 984., 'three': 'a_string', 'four': L}"
   ]
  },
  {
   "cell_type": "code",
   "execution_count": 53,
   "id": "d25fdf07-21c9-4eae-9bc0-eede93fa0c7a",
   "metadata": {},
   "outputs": [
    {
     "name": "stdout",
     "output_type": "stream",
     "text": [
      "42\n",
      "[1, 4, 5765]\n",
      "a_string\n"
     ]
    }
   ],
   "source": [
    "# Access elements of a dictionnary \n",
    "print(D['one'])\n",
    "print(D['four'])\n",
    "print(D['three'])"
   ]
  },
  {
   "cell_type": "code",
   "execution_count": 56,
   "id": "2bcab7d1",
   "metadata": {},
   "outputs": [
    {
     "data": {
      "text/plain": [
       "dict_keys(['one', 'key_2', 'three', 'four'])"
      ]
     },
     "execution_count": 56,
     "metadata": {},
     "output_type": "execute_result"
    }
   ],
   "source": [
    "D.keys()"
   ]
  },
  {
   "cell_type": "code",
   "execution_count": 63,
   "id": "0295866d",
   "metadata": {},
   "outputs": [
    {
     "data": {
      "text/plain": [
       "{'one': 42, 'key_2': 984.0, 'three': 'a_string', 'four': [1, 4, 5765]}"
      ]
     },
     "execution_count": 63,
     "metadata": {},
     "output_type": "execute_result"
    }
   ],
   "source": [
    "D"
   ]
  },
  {
   "cell_type": "code",
   "execution_count": 68,
   "id": "cfe63614",
   "metadata": {},
   "outputs": [
    {
     "name": "stdout",
     "output_type": "stream",
     "text": [
      "42\n",
      "984.0\n",
      "a_string\n",
      "[1, 4, 5765]\n"
     ]
    }
   ],
   "source": [
    "for d_key in D.keys(): \n",
    "    print(D[d_key])"
   ]
  },
  {
   "cell_type": "code",
   "execution_count": 69,
   "id": "53b8f046-720c-4a6f-9df6-048407bf888b",
   "metadata": {},
   "outputs": [
    {
     "name": "stdout",
     "output_type": "stream",
     "text": [
      "{'one': 42, 'key_2': 984.0, 'three': 'a_string', 'four': [1, 4, 5765]}\n"
     ]
    }
   ],
   "source": [
    "# Modify the list containted in the dictionary ... and now check the content of the dictionary\n",
    "L = [2, 4, 'blabla']\n",
    "print(D)"
   ]
  },
  {
   "cell_type": "code",
   "execution_count": 70,
   "id": "898595d5",
   "metadata": {},
   "outputs": [
    {
     "data": {
      "text/plain": [
       "{'one': 42,\n",
       " 'key_2': 984.0,\n",
       " 'three': 'a_string',\n",
       " 'four': [2, 4, 'Changed element of L']}"
      ]
     },
     "execution_count": 70,
     "metadata": {},
     "output_type": "execute_result"
    }
   ],
   "source": [
    "D2 = {'one': 42, 'key_2': 984., 'three': 'a_string', 'four': L}\n",
    "L[2] = 'Changed element of L'\n",
    "D2 "
   ]
  },
  {
   "cell_type": "code",
   "execution_count": 71,
   "id": "499face7",
   "metadata": {},
   "outputs": [
    {
     "name": "stdout",
     "output_type": "stream",
     "text": [
      "[2, 4, 'Changed element of L']\n"
     ]
    },
    {
     "data": {
      "text/plain": [
       "{'one': 42,\n",
       " 'key_2': 984.0,\n",
       " 'three': 'a_string',\n",
       " 'four': [2, 4, 'Changed element of L']}"
      ]
     },
     "execution_count": 71,
     "metadata": {},
     "output_type": "execute_result"
    }
   ],
   "source": [
    "print(L)\n",
    "D2 = {'one': 42, 'key_2': 984., 'three': 'a_string', 'four': L.copy()}\n",
    "L[2] = 234\n",
    "D2 "
   ]
  },
  {
   "cell_type": "code",
   "execution_count": 60,
   "id": "4274df76-1793-4387-a408-03a4c31290b4",
   "metadata": {
    "nbpresent": {
     "id": "ae969c8f-1d9f-4a0b-89cf-66e64484ff26"
    }
   },
   "outputs": [],
   "source": [
    "# globals() \n",
    "# globals()"
   ]
  },
  {
   "cell_type": "markdown",
   "id": "cc35cfc3-d110-4468-9a60-750577b5d517",
   "metadata": {
    "nbpresent": {
     "id": "86236cb9-0fa2-4526-a29c-ce7afaa18f61"
    }
   },
   "source": [
    "#### Exercises on data structure"
   ]
  },
  {
   "cell_type": "code",
   "execution_count": 82,
   "id": "fac6a6f8-8b8a-4f17-9d43-0009b68b0a9b",
   "metadata": {
    "nbpresent": {
     "id": "e3bac3e2-e559-4844-a2db-4c1078696a63"
    }
   },
   "outputs": [
    {
     "name": "stdout",
     "output_type": "stream",
     "text": [
      "10\n"
     ]
    }
   ],
   "source": [
    "# (1) Define a variable x, give it a value and print its value on screen \n",
    "x = 10 \n",
    "print(x)"
   ]
  },
  {
   "cell_type": "code",
   "execution_count": 83,
   "id": "96ee1444-4665-4c2d-8cad-b33f91ffda37",
   "metadata": {
    "nbpresent": {
     "id": "1d864973-3ba1-4de0-ada0-5a8f4b08f07e"
    }
   },
   "outputs": [
    {
     "name": "stdout",
     "output_type": "stream",
     "text": [
      "[1, 1.0, 'a string']\n"
     ]
    }
   ],
   "source": [
    "# (2) Can a list contain different types of objects / elements of different types ? Illustrate with an example \n",
    "# YES \n",
    "L = [1,1.0, 'a string']\n",
    "print(L) "
   ]
  },
  {
   "cell_type": "code",
   "execution_count": 84,
   "id": "136afc4e-0e5b-4f87-86a7-d6964119b512",
   "metadata": {
    "nbpresent": {
     "id": "b8d1ea49-7f75-4cd7-8eef-6e545347953b"
    }
   },
   "outputs": [
    {
     "name": "stdout",
     "output_type": "stream",
     "text": [
      "{'one': 42, 'key_2': 984.0, 'three': 'a_string', 'four': [1, 1.0, 'a string']}\n"
     ]
    }
   ],
   "source": [
    "# (3) Can a 'dictionary' contain elements of different types ? Illustrate with an example \n",
    "# Yest\n",
    "D3 = {'one': 42, 'key_2': 984., 'three': 'a_string', 'four': L.copy()}\n",
    "print(D3)"
   ]
  },
  {
   "cell_type": "code",
   "execution_count": 85,
   "id": "edb12946-6b05-4b97-89dc-d6e4b447d302",
   "metadata": {
    "nbpresent": {
     "id": "baf0f561-2bb8-43e3-8863-c141aeeae3a6"
    }
   },
   "outputs": [
    {
     "name": "stdout",
     "output_type": "stream",
     "text": [
      "[1, 1.0, 'a string']\n"
     ]
    }
   ],
   "source": [
    "# (4) Can a 'tuple' contain elements of different types ? Illustrate with an example \n",
    "# yes\n",
    "T = [1,1.0, 'a string']\n",
    "print(T)"
   ]
  },
  {
   "cell_type": "code",
   "execution_count": 77,
   "id": "18401e18-3f91-4531-bf0a-122e73c2d26e",
   "metadata": {
    "nbpresent": {
     "id": "a1ab4411-9563-49ba-8c9a-3b544c6c75d2"
    }
   },
   "outputs": [
    {
     "name": "stdout",
     "output_type": "stream",
     "text": [
      "['blue', 'red', 'green']\n",
      "['blue', 'pink', 'red', 'green']\n"
     ]
    }
   ],
   "source": [
    "# (5) create a list of 3 color names and print it at the screen\n",
    "# (5b) insert a new color as 2nd list element\n",
    "colors = ['blue', 'red', 'green']\n",
    "print(colors)\n",
    "colors.insert(1, 'pink')\n",
    "print(colors)"
   ]
  },
  {
   "cell_type": "code",
   "execution_count": 87,
   "id": "3e5ebb8f",
   "metadata": {},
   "outputs": [],
   "source": [
    "colors.insert?"
   ]
  },
  {
   "cell_type": "code",
   "execution_count": 72,
   "id": "ac6a9b7a-838d-47df-9fcc-718c28944870",
   "metadata": {
    "nbpresent": {
     "id": "161294a5-fc64-4d55-aeea-b27ed3b27e6c"
    }
   },
   "outputs": [
    {
     "name": "stdout",
     "output_type": "stream",
     "text": [
      "[1, 4, 5, 6, 8, 10]\n"
     ]
    }
   ],
   "source": [
    "# (6) Create two lists L1 and L2 containing 3 elements each. \n",
    "# Create a third list L3 which \"merges\" the elements of L1 and L2 (and hence contains 6 elements)\n",
    "# Input: L1 = [1, 4, 5] , L2 = [6, 8, 10] ; OUTPUT: L3 = [6, 8, 10, 1, 4, 5]\n",
    "L1 = [1, 4, 5]  \n",
    "L2 = [6, 8, 10] \n",
    "L3 = L1 + L2 \n",
    "print(L3) "
   ]
  },
  {
   "cell_type": "code",
   "execution_count": 88,
   "id": "089e5c65",
   "metadata": {},
   "outputs": [
    {
     "name": "stdout",
     "output_type": "stream",
     "text": [
      "[1, 4, 5, [6, 8, 10]] 4\n",
      "None\n"
     ]
    }
   ],
   "source": [
    "L1 = [1, 4, 5] \n",
    "L2 = [6, 8, 10] \n",
    "L3 = L1.append(L2)\n",
    "print(L1, len(L1))\n",
    "print(L3)"
   ]
  },
  {
   "cell_type": "code",
   "execution_count": 75,
   "id": "ee8c541d",
   "metadata": {},
   "outputs": [
    {
     "name": "stdout",
     "output_type": "stream",
     "text": [
      "[1, 4, 5, 6, 8, 10]\n",
      "None\n"
     ]
    }
   ],
   "source": [
    "L1 = [1, 4, 5] \n",
    "L2 = [6, 8, 10] \n",
    "L3 = L1.extend(L2)\n",
    "print(L1)\n",
    "print(L3)"
   ]
  },
  {
   "cell_type": "code",
   "execution_count": 76,
   "id": "dbd0b001",
   "metadata": {},
   "outputs": [
    {
     "name": "stdout",
     "output_type": "stream",
     "text": [
      "[1, 4, 5]\n",
      "[1, 4, 5, 6, 8, 10]\n"
     ]
    }
   ],
   "source": [
    "L1 = [1, 4, 5] \n",
    "L2 = [6, 8, 10] \n",
    "L3 = L1.copy()\n",
    "L3.extend(L2)\n",
    "print(L1)\n",
    "print(L3)"
   ]
  },
  {
   "cell_type": "code",
   "execution_count": 89,
   "id": "7c28eaa8",
   "metadata": {},
   "outputs": [
    {
     "name": "stdout",
     "output_type": "stream",
     "text": [
      "L1 =  [1, 4, 5]\n",
      "L2 =  [6, 8, 10]\n",
      "L3 =  [1, 4, 5, 6, 8, 10]\n"
     ]
    }
   ],
   "source": [
    "L1 = [1, 4, 5] \n",
    "L2 = [6, 8, 10] \n",
    "L3 = L1 + L2 \n",
    "print('L1 = ', L1)\n",
    "print('L2 = ', L2)\n",
    "print('L3 = ', L3)"
   ]
  },
  {
   "cell_type": "code",
   "execution_count": null,
   "id": "20b17a80-5a1e-4b6b-a9d8-d0bc7b3c5d52",
   "metadata": {},
   "outputs": [],
   "source": [
    "# Warning APPEND would change the list in place ... and you cannot save it into another list"
   ]
  },
  {
   "cell_type": "markdown",
   "id": "86a6bfda-7636-4c16-9fe5-77f081764852",
   "metadata": {
    "nbpresent": {
     "id": "169fb3c0-9b00-4580-b378-6ff95dc3cb24"
    }
   },
   "source": [
    "### 1.7 Control flow statements:     <a class=\"anchor\" id=\"IIIg\"></a>\n",
    "\n",
    "Originally based on http://www.ster.kuleuven.be/~pieterd/python/html/pure_python/control_flow.html (broken link)\n",
    "\n",
    "#### 1.7.1 if statements\n",
    "\n",
    "The basic syntax for an if-statement is the following:\n",
    "``` python \n",
    "if condition:\n",
    "    # do something\n",
    "elif condition:\n",
    "    # do something else\n",
    "else:\n",
    "    # do yet something else\n",
    "```\n",
    "\n",
    "Notice that there is no statement to end the `if` statement. Beware of the presence of a colon (:) after each control flow statement. Python relies on indentation and colons to determine whether it is in a specific block of code. For example, in the following example:\n",
    "\n",
    "``` python \n",
    "if a == 1:\n",
    "    print(\"a is 1, changing to 2\")\n",
    "    a = 2\n",
    "print(\"finished\")\n",
    "```\n",
    "\n",
    "The first print statement, and the `a = 2` statement only get executed if a is 1. On the other hand, `print(\"finished\")` gets executed regardless, once Python exits the if statement.\n",
    "\n",
    "The conditions in the statements can be anything that returns a boolean value. For example, `a == 1`, `b != 4`, and `c <= 5` are valid conditions because they return either `True` or `False` depending on whether the statements are true or not. Standard comparisons can be used (`==` for equal, `!=` for not equal, `<=` for less or equal, `>=` for greater or equal, `<` for less than, and `>` for greater than), as well as logical operators (`and`, `or`, `not`). Parentheses can be used to isolate different parts of conditions, to make clear in what order the comparisons should be executed, for example:\n",
    "\n",
    "``` python\n",
    "if (a == 1 and b <= 3) or c > 3:\n",
    "    # do something\n",
    "```\n",
    "\n",
    "More generally, any function or expression that ultimately returns `True` or `False` can be used.\n",
    "\n",
    "Along with comparisons, another commonly-used operator is `in`. This is used to test whether an item is contained in any collection:\n",
    "\n",
    "``` python\n",
    "b = [1, 2, 3]   \n",
    "2 in b   \n",
    "    Out: True   \n",
    "5 in b   \n",
    "    Out: False\n",
    "```\n",
    "\n",
    "If `b` is a dictionary , this tests that the item is a key of `b`."
   ]
  },
  {
   "cell_type": "code",
   "execution_count": 98,
   "id": "4f59569f",
   "metadata": {},
   "outputs": [
    {
     "name": "stdout",
     "output_type": "stream",
     "text": [
      "a before if statement = 3\n",
      "finished\n"
     ]
    }
   ],
   "source": [
    "a = 3 \n",
    "print('a before if statement =', a)\n",
    "\n",
    "if a == 1:\n",
    "    print(\"a is 1, changing to 2\")\n",
    "    a = 2\n",
    "    if a == 2: \n",
    "        a = 4\n",
    "    print('a after the if statement ', a)\n",
    "print(\"finished\")"
   ]
  },
  {
   "cell_type": "code",
   "execution_count": 102,
   "id": "d42f35bc-b616-49f3-a101-de723c0231a3",
   "metadata": {
    "nbpresent": {
     "id": "501e44b0-1984-40ed-989a-c531f1cba6cd"
    }
   },
   "outputs": [],
   "source": [
    "# Try if statement with different kind of containers (i.e. list, set, tuple, dictionnary)\n",
    "a, b = 2, 4\n",
    "if (a+b == 3) | (a == 1):\n",
    "    print('a + b = ', a + b)\n"
   ]
  },
  {
   "cell_type": "code",
   "execution_count": 106,
   "id": "4035f520-9ac0-41c0-af80-63fe96890e03",
   "metadata": {},
   "outputs": [
    {
     "name": "stdout",
     "output_type": "stream",
     "text": [
      "a + b =  0.30000000000000004\n"
     ]
    }
   ],
   "source": [
    "a, b = 0.1, 0.2\n",
    "if (round(a + b, 1) == 0.3, 1): \n",
    "    print('a + b = ', a + b)"
   ]
  },
  {
   "cell_type": "code",
   "execution_count": 104,
   "id": "dbfed823-7d79-4771-9aaf-1fa3148806df",
   "metadata": {},
   "outputs": [
    {
     "name": "stdout",
     "output_type": "stream",
     "text": [
      "0.30000000000000004\n"
     ]
    }
   ],
   "source": [
    "print(a+b)"
   ]
  },
  {
   "cell_type": "code",
   "execution_count": 110,
   "id": "34903907",
   "metadata": {},
   "outputs": [
    {
     "name": "stdout",
     "output_type": "stream",
     "text": [
      "a + b =  0.30000000000000004\n"
     ]
    }
   ],
   "source": [
    "# A good way to deal with equality of floats is to fix a precision that we want to be reached\n",
    "epsilon = 1.e-13\n",
    "if abs((a + b - 0.3)) <= epsilon: \n",
    "    print('a + b = ', a + b)"
   ]
  },
  {
   "cell_type": "markdown",
   "id": "7486dd2d-66b9-4e86-aed3-61aa94489537",
   "metadata": {},
   "source": [
    "Most of the time, the above comparators will suffice for defining your `if` statement. There are however a few cases where this is not enough. To test if a variable is `True`, `False` or of type `NoneType` or if two variables are the same object, you should use the identity check reserved keyword `is` (or `is not`). This keyword enables one to check if two variables are the same object or if a boolean is `True` / `False`. \n",
    "\n",
    "``` python \n",
    "n = None \n",
    "if n is None:\n",
    "    print('n is None')\n",
    "\n",
    "Out[]: 'n is None'\n",
    "    \n",
    "b = True\n",
    "if b is not False:\n",
    "    print('b is True')\n",
    "\n",
    "Out[]: 'b is True'\n",
    "\n",
    "x = [1]\n",
    "y = x\n",
    "if x is y:\n",
    "    print('x and y are the same object')\n",
    "```"
   ]
  },
  {
   "cell_type": "code",
   "execution_count": 113,
   "id": "34cb6e11-ea6d-4d71-87bb-a0afe20dcd81",
   "metadata": {},
   "outputs": [],
   "source": [
    "n = ()   # empty tuple \n",
    "if n is None:\n",
    "    print('n is None')"
   ]
  },
  {
   "cell_type": "code",
   "execution_count": 114,
   "id": "832175ff",
   "metadata": {},
   "outputs": [
    {
     "name": "stdout",
     "output_type": "stream",
     "text": [
      "n is None\n"
     ]
    }
   ],
   "source": [
    "n = None   \n",
    "if n is None:\n",
    "    print('n is None')"
   ]
  },
  {
   "cell_type": "code",
   "execution_count": 115,
   "id": "6e4cc50f-a2f5-4962-a33f-dae21aca3efd",
   "metadata": {},
   "outputs": [
    {
     "name": "stdout",
     "output_type": "stream",
     "text": [
      "b is True\n"
     ]
    }
   ],
   "source": [
    "b = True\n",
    "if b is not False:\n",
    "    print('b is True')"
   ]
  },
  {
   "cell_type": "code",
   "execution_count": 116,
   "id": "c7316a83-8c8a-4a9e-9097-b9c4f6fff536",
   "metadata": {},
   "outputs": [
    {
     "name": "stdout",
     "output_type": "stream",
     "text": [
      "b is a boolean\n"
     ]
    }
   ],
   "source": [
    "if type(b) is bool:\n",
    "    print('b is a boolean')"
   ]
  },
  {
   "cell_type": "code",
   "execution_count": 117,
   "id": "1dac776a",
   "metadata": {},
   "outputs": [
    {
     "name": "stdout",
     "output_type": "stream",
     "text": [
      "b is a boolean\n"
     ]
    }
   ],
   "source": [
    "if type(b) is float:\n",
    "    print('b is a float')\n",
    "elif type(b) is bool:\n",
    "    print('b is a boolean')"
   ]
  },
  {
   "cell_type": "code",
   "execution_count": 118,
   "id": "25f04516-565b-4712-b718-a944d1feaba4",
   "metadata": {},
   "outputs": [
    {
     "name": "stdout",
     "output_type": "stream",
     "text": [
      "None is not True, or False, None is just None...\n",
      "n is of NoneType\n"
     ]
    }
   ],
   "source": [
    "n = None \n",
    "\n",
    "if n:\n",
    "    print(\"Do you think None is True?\")\n",
    "elif n is False:\n",
    "    print (\"Do you think None is False?\")\n",
    "else:\n",
    "    print(\"None is not True, or False, None is just None...\") \n",
    "\n",
    "if n is None:\n",
    "    print('n is of NoneType')"
   ]
  },
  {
   "cell_type": "code",
   "execution_count": 121,
   "id": "94bc6efa",
   "metadata": {},
   "outputs": [
    {
     "name": "stdout",
     "output_type": "stream",
     "text": [
      "True\n",
      "True because b is True \n",
      "if b is a shortcut for if b is True\n"
     ]
    }
   ],
   "source": [
    "print(b)\n",
    "if b:\n",
    "    print(b, 'because b is True ')\n",
    "    print('if b is a shortcut for if b is True')\n",
    "    "
   ]
  },
  {
   "cell_type": "code",
   "execution_count": 122,
   "id": "886cfc4a-72f9-4d02-838b-bf432fdfc557",
   "metadata": {},
   "outputs": [
    {
     "name": "stdout",
     "output_type": "stream",
     "text": [
      "x and y are the same object\n"
     ]
    }
   ],
   "source": [
    "x = [1]\n",
    "y = x\n",
    "if x is y:\n",
    "    print('x and y are the same object')"
   ]
  },
  {
   "cell_type": "markdown",
   "id": "ab8156fe-3b1c-4c3d-88ae-488d19bdedd0",
   "metadata": {
    "nbpresent": {
     "id": "6d2bc1b8-ae18-4014-bc4e-b2cd7c08e74f"
    }
   },
   "source": [
    "#### 1.7.2 `for` loops\n",
    "\n",
    "The most common type of loop is the `for` loop. In its most basic form, its synthax is straightforward:\n",
    "\n",
    "``` python\n",
    "for value in iterable:\n",
    "    # do things\n",
    "```\n",
    "\n",
    "The iterable can be any `Python` object that can be iterated over. This includes `lists`, `tuples`, `dictionaries`, `strings`. ``"
   ]
  },
  {
   "cell_type": "code",
   "execution_count": 123,
   "id": "74d96d1b-7ced-4739-8698-9578e0539bb3",
   "metadata": {
    "nbpresent": {
     "id": "4066fc04-46eb-44a8-acc2-f4fe92fe5f1b"
    }
   },
   "outputs": [
    {
     "name": "stdout",
     "output_type": "stream",
     "text": [
      "P\n",
      "y\n",
      "t\n",
      "h\n",
      "o\n",
      "n\n"
     ]
    }
   ],
   "source": [
    "# Try this out\n",
    "mystring = 'Python'\n",
    "for s in mystring:\n",
    "    print(s)"
   ]
  },
  {
   "cell_type": "code",
   "execution_count": 124,
   "id": "b99f8acf-425f-4467-b01e-e1b7fa87c148",
   "metadata": {},
   "outputs": [
    {
     "name": "stdout",
     "output_type": "stream",
     "text": [
      "0\n",
      "2\n",
      "3\n",
      "56\n"
     ]
    }
   ],
   "source": [
    "for i in [0,2,3,56]:\n",
    "    print(i)"
   ]
  },
  {
   "cell_type": "markdown",
   "id": "bc7e5eed-1e7e-4211-aa2e-6d0044e8f5ee",
   "metadata": {
    "nbpresent": {
     "id": "0add590a-451e-430f-b226-a0e32781a476"
    }
   },
   "source": [
    "A common type of for loop is one where the value should go between two integers with a specific set size. To do this, we can use the `range` function. If given a single value, it will give a sequence ranging from 0 to the value minus 1:\n",
    "\n",
    "``` python\n",
    "range(10)\n",
    "    Out: [0, 1, 2, 3, 4, 5, 6, 7, 8, 9]  # Warning, it is not a list\n",
    "range(3, 12)   # 3 and 12 are the starting and one plus the ending value\n",
    "    Out: [3, 4, 5, 6, 7, 8, 9, 10, 11]  # Warning, it is not a list\n",
    "range(2, 20, 2)  # the third number, if specified, is taken to be the step size\n",
    "    Out: [2, 4, 6, 8, 10, 12, 14, 16, 18]  # Warning, it is not a list\n",
    "``` \n",
    "\n",
    "The range function can be used as the iterable in a for loop. `range` is not a list (in python 3), but a specific object. "
   ]
  },
  {
   "cell_type": "code",
   "execution_count": 127,
   "id": "14c004e1",
   "metadata": {},
   "outputs": [
    {
     "name": "stdout",
     "output_type": "stream",
     "text": [
      "0\n",
      "1\n",
      "2\n",
      "3\n",
      "4\n",
      "5\n",
      "6\n",
      "7\n",
      "8\n",
      "9\n"
     ]
    }
   ],
   "source": [
    "for r in range(10):\n",
    "    print(r)"
   ]
  },
  {
   "cell_type": "code",
   "execution_count": 128,
   "id": "28a0faa8",
   "metadata": {},
   "outputs": [
    {
     "name": "stdout",
     "output_type": "stream",
     "text": [
      "2\n",
      "4\n",
      "6\n",
      "8\n"
     ]
    }
   ],
   "source": [
    "for r in range(2, 10, 2):\n",
    "    print(r)"
   ]
  },
  {
   "cell_type": "code",
   "execution_count": 129,
   "id": "a9d67944",
   "metadata": {},
   "outputs": [
    {
     "ename": "TypeError",
     "evalue": "'float' object cannot be interpreted as an integer",
     "output_type": "error",
     "traceback": [
      "\u001b[0;31m---------------------------------------------------------------------------\u001b[0m",
      "\u001b[0;31mTypeError\u001b[0m                                 Traceback (most recent call last)",
      "\u001b[0;32m/var/folders/9c/nn9vyf350tq3pbbll3zq6n8h0000gn/T/ipykernel_95846/3521777395.py\u001b[0m in \u001b[0;36m<module>\u001b[0;34m\u001b[0m\n\u001b[0;32m----> 1\u001b[0;31m \u001b[0;32mfor\u001b[0m \u001b[0mr\u001b[0m \u001b[0;32min\u001b[0m \u001b[0mrange\u001b[0m\u001b[0;34m(\u001b[0m\u001b[0;36m2.0\u001b[0m\u001b[0;34m,\u001b[0m \u001b[0;36m10.0\u001b[0m\u001b[0;34m,\u001b[0m \u001b[0;36m2.2\u001b[0m\u001b[0;34m)\u001b[0m\u001b[0;34m:\u001b[0m\u001b[0;34m\u001b[0m\u001b[0;34m\u001b[0m\u001b[0m\n\u001b[0m\u001b[1;32m      2\u001b[0m     \u001b[0mprint\u001b[0m\u001b[0;34m(\u001b[0m\u001b[0mr\u001b[0m\u001b[0;34m)\u001b[0m\u001b[0;34m\u001b[0m\u001b[0;34m\u001b[0m\u001b[0m\n",
      "\u001b[0;31mTypeError\u001b[0m: 'float' object cannot be interpreted as an integer"
     ]
    }
   ],
   "source": [
    "for r in range(2.0, 10.0, 2.2):\n",
    "    print(r)"
   ]
  },
  {
   "cell_type": "code",
   "execution_count": 130,
   "id": "2f95fabf",
   "metadata": {},
   "outputs": [
    {
     "name": "stdout",
     "output_type": "stream",
     "text": [
      "<class 'range'>\n"
     ]
    }
   ],
   "source": [
    "R = range(2, 10, 2)\n",
    "print(type(R))"
   ]
  },
  {
   "cell_type": "code",
   "execution_count": 132,
   "id": "57034317",
   "metadata": {},
   "outputs": [
    {
     "name": "stdout",
     "output_type": "stream",
     "text": [
      "(-2, 0, 2, 4, 6, 8)\n"
     ]
    }
   ],
   "source": [
    "T = tuple(range(-2, 10, 2))\n",
    "print(T)"
   ]
  },
  {
   "cell_type": "code",
   "execution_count": 133,
   "id": "15b35221-b601-46f0-8560-cd223ec3e104",
   "metadata": {},
   "outputs": [
    {
     "name": "stdout",
     "output_type": "stream",
     "text": [
      "i= 0 : a= 1\n",
      "i= 1 : a= 2\n",
      "i= 2 : a= 3\n",
      "i= 3 : a= 4\n",
      "i= 4 : a= 5\n"
     ]
    }
   ],
   "source": [
    "# For loop can loop over any iterable (i.e. not integers)\n",
    "a = 0 \n",
    "for i in range(5):\n",
    "    a = a+1\n",
    "    print('i=', i, ': a=', a)"
   ]
  },
  {
   "cell_type": "code",
   "execution_count": 134,
   "id": "7aaebab3-59d7-432d-9542-b486d5469ae2",
   "metadata": {
    "nbpresent": {
     "id": "d65f263a-6449-48a5-9177-d3f85095e3f7"
    }
   },
   "outputs": [
    {
     "name": "stdout",
     "output_type": "stream",
     "text": [
      "1\n",
      "4\n",
      "aba\n",
      "cbd\n",
      "8\n"
     ]
    }
   ],
   "source": [
    "# Use for loop to print at the screen the elements of a list that contains both integers and strings. \n",
    "# Try to do it using range and try again without looping over the indices (I.E. without using range)\n",
    "\n",
    "L_of_i_and_s = [1, 4, 'aba', 'cbd', 8]   # Defining the list \n",
    "# Now use a for loop and range to visualise the elements of the list \n",
    "for L_element in L_of_i_and_s: \n",
    "    print(L_element)"
   ]
  },
  {
   "cell_type": "code",
   "execution_count": 138,
   "id": "eab49a88-04c9-4cd7-95ee-37943c00a5a7",
   "metadata": {},
   "outputs": [
    {
     "name": "stdout",
     "output_type": "stream",
     "text": [
      "0 1\n",
      "1 4\n",
      "2 aba\n",
      "3 cbd\n",
      "4 8\n",
      "5 443\n"
     ]
    }
   ],
   "source": [
    "# Do the same using range \n",
    "L_of_i_and_s = [1, 4, 'aba', 'cbd', 8, 443] \n",
    "for i in range(len(L_of_i_and_s)): \n",
    "    print(i, L_of_i_and_s[i])"
   ]
  },
  {
   "cell_type": "markdown",
   "id": "a68df3dd-c6e3-4c99-b331-03b241295747",
   "metadata": {
    "nbpresent": {
     "id": "9aac2ba1-8279-4d0c-986b-311a08e1dc2e"
    }
   },
   "source": [
    "#### Note: `enumerate()` \n",
    "\n",
    "To iterate over elements of a list and also get in return the indices of these elements in the list, you may use `enumerate`.\n",
    "``` python\n",
    "for i, item in enumerate(L): \n",
    "    print('i=', i, ' : L = ', item)\n",
    "```"
   ]
  },
  {
   "cell_type": "code",
   "execution_count": 139,
   "id": "024dcb2f-c786-403d-a158-cea891d8efc1",
   "metadata": {
    "nbpresent": {
     "id": "cbb5f8c2-e6fd-4a3b-8247-3c9cc189d5a3"
    }
   },
   "outputs": [
    {
     "name": "stdout",
     "output_type": "stream",
     "text": [
      "my string is aba is id  2\n",
      "my string is cbd is id  3\n"
     ]
    }
   ],
   "source": [
    "# What you might be used to \n",
    "i = 0\n",
    "for l in L_of_i_and_s:\n",
    "    if type(l) == str:\n",
    "        print('my string is', l, 'is id ', i)\n",
    "    i = i + 1 "
   ]
  },
  {
   "cell_type": "code",
   "execution_count": 142,
   "id": "06afb9f5",
   "metadata": {},
   "outputs": [
    {
     "name": "stdout",
     "output_type": "stream",
     "text": [
      "0 1\n",
      "1 4\n",
      "2 aba\n",
      "3 cbd\n",
      "4 8\n"
     ]
    }
   ],
   "source": [
    "L_of_i_and_s = [1, 4, 'aba', 'cbd', 8]   \n",
    "for i in range(len(L_of_i_and_s)): \n",
    "    print(i, L_of_i_and_s[i])"
   ]
  },
  {
   "cell_type": "code",
   "execution_count": 143,
   "id": "4e52d563",
   "metadata": {},
   "outputs": [
    {
     "name": "stdout",
     "output_type": "stream",
     "text": [
      "0 1\n",
      "1 4\n",
      "2 aba\n",
      "3 cbd\n",
      "4 8\n"
     ]
    }
   ],
   "source": [
    "L_of_i_and_s = [1, 4, 'aba', 'cbd', 8]   \n",
    "for i, l in enumerate(L_of_i_and_s): \n",
    "    print(i, l)"
   ]
  },
  {
   "cell_type": "code",
   "execution_count": 140,
   "id": "1f3cc5be-d427-473c-9d03-a283282d1deb",
   "metadata": {},
   "outputs": [
    {
     "name": "stdout",
     "output_type": "stream",
     "text": [
      "my string is aba is id  2\n",
      "my string is cbd is id  3\n"
     ]
    }
   ],
   "source": [
    "# Saving two lines of code with enumerate\n",
    "for i, l in enumerate(L_of_i_and_s):\n",
    "    if type(l) == str:\n",
    "        print('my string is', l, 'is id ', i)"
   ]
  },
  {
   "cell_type": "markdown",
   "id": "1916537e-e29f-4121-9b6c-0b336f115faf",
   "metadata": {
    "nbpresent": {
     "id": "4e1b81d2-1d3f-4072-8254-830bcc573fbd"
    }
   },
   "source": [
    "#### Note:`zip()`\n",
    "\n",
    "You can also iterate over elements of 2 lists (of the same length) in parallel using `zip()`\n",
    "``` Python\n",
    "L1, L2 = list(range(4)), list(range(10,14))\n",
    "for l1, l2 in zip(L1, L2): \n",
    "    print('l1=', l1, 'l2=', l2)\n",
    "```"
   ]
  },
  {
   "cell_type": "code",
   "execution_count": 148,
   "id": "a1b53fbf-a8b4-4b9b-a272-5a6ae5ad0d43",
   "metadata": {
    "nbpresent": {
     "id": "88592ec2-76ee-48f5-879a-e1610ceb0e60"
    }
   },
   "outputs": [
    {
     "name": "stdout",
     "output_type": "stream",
     "text": [
      "[0, 1, 2, 3] [10, 11, 12, 13, 14]\n",
      "r1= 0 r2= 10 r3= 20\n",
      "r1= 1 r2= 11 r3= 21\n",
      "r1= 2 r2= 12 r3= 22\n",
      "r1= 3 r2= 13 r3= 23\n"
     ]
    }
   ],
   "source": [
    "R1, R2, R3 = list(range(4)), list(range(10,15)), list(range(20,24))\n",
    "print(R1, R2)\n",
    "for r1, r2, r3 in zip(R1, R2, R3): \n",
    "    print('r1=', r1, 'r2=', r2, 'r3=', r3)"
   ]
  },
  {
   "cell_type": "markdown",
   "id": "f93e5056-b516-4437-bd55-2baed1e4af50",
   "metadata": {
    "nbpresent": {
     "id": "03749de4-f072-4976-9d0e-d5118c17adb9"
    }
   },
   "source": [
    "#### 1.7.3 `while` loops\n",
    "\n",
    "Python also provides a `while` loop which is similar to a for loop, but where the number of iterations is defined by a condition rather than an iterator:\n",
    "\n",
    "``` python \n",
    "a = 0\n",
    "while a < 10:   # a < 10 is the condition\n",
    "    print(a)    # This line is the first \"looping block\n",
    "    a += 1      # This line is the second \"looping block\"\n",
    "\n",
    "```"
   ]
  },
  {
   "cell_type": "code",
   "execution_count": 151,
   "id": "2be93e73-ce76-44ca-95f5-968f2ccebcc3",
   "metadata": {
    "nbpresent": {
     "id": "883e85c2-a9e4-4bea-a749-4e5fd5eb86be"
    }
   },
   "outputs": [
    {
     "name": "stdout",
     "output_type": "stream",
     "text": [
      "0\n",
      "1\n",
      "2\n",
      "3\n",
      "4\n",
      "5\n",
      "6\n",
      "7\n",
      "8\n",
      "9\n"
     ]
    }
   ],
   "source": [
    "# Visualize the output of the above code\n",
    "a = 0\n",
    "while a < 10 :   # a < 10 is the condition\n",
    "    print(a)    # This line is the first \"looping block\n",
    "    a += 1      # This line is the second \"looping block\"\n"
   ]
  },
  {
   "cell_type": "markdown",
   "id": "6f7ce374-8141-4e87-afdb-536b630da551",
   "metadata": {
    "nbpresent": {
     "id": "10e6b494-2b58-4284-874a-f21fde4e846f"
    }
   },
   "source": [
    "#### 1.7.4 List Comprehensions\n",
    "\n",
    "This is very useful and often overlooked by beginners ... this is however very efficient and quite \"pythonic\" to use list comprehension. **When possible try to favor list comprehensions over the use of `for` loops**.\n",
    "A common programming structure when assigning values to a list is the following:\n",
    "\n",
    "```python\n",
    "l = []                      # create the list\n",
    "for i in range(10):\n",
    "    l.append(i**2)\n",
    "```\n",
    "\n",
    "List comprehensions provide a shorter and more readable way of writing the same loop:\n",
    "\n",
    "``` python\n",
    "l = [i**2 for i in range(10)]\n",
    "``` "
   ]
  },
  {
   "cell_type": "code",
   "execution_count": 152,
   "id": "1ab8daab-2ec9-4e6b-98ea-690bb0b6ea45",
   "metadata": {
    "nbpresent": {
     "id": "cf18081b-cd20-4071-a348-d9cd6cd6cb85"
    }
   },
   "outputs": [
    {
     "name": "stdout",
     "output_type": "stream",
     "text": [
      "[1, 4, 9, 16, 25, 36, 49, 64, 81]\n"
     ]
    }
   ],
   "source": [
    "# Write a list comprehension that creates a list of 10 odd numbers\n",
    "# The way to do it with a \"for loop\" \n",
    "l = []                      # create the list\n",
    "for i in range(1, 10):\n",
    "    l.append(i**2)\n",
    "print(l)"
   ]
  },
  {
   "cell_type": "code",
   "execution_count": 153,
   "id": "fe0510ce-2410-4e7b-8a3c-623d3217f77f",
   "metadata": {},
   "outputs": [
    {
     "data": {
      "text/plain": [
       "[1, 4, 9, 16, 25, 36, 49, 64, 81]"
      ]
     },
     "execution_count": 153,
     "metadata": {},
     "output_type": "execute_result"
    }
   ],
   "source": [
    "l = [i**2 for i in range(1, 10)]\n",
    "l"
   ]
  },
  {
   "cell_type": "markdown",
   "id": "04fb27f1-8ce9-4098-952b-8b5956360966",
   "metadata": {
    "nbpresent": {
     "id": "bdf05d84-6fc6-41bb-8bd1-f027ae22fd90"
    }
   },
   "source": [
    "**Note:** `and`, `or` are boolean operators. `&`, `|` are the equivalent bitwise operator. The difference is that boolean operators are used on boolean values (i.e. the two expression that are compared should be boolean) while `&` and `|` are generally used on integer values (they just compare the bits and so work at a low level). This means that: boolean operators evaluate the first operand for its truth value, and depending on that value, either evaluate and return the second argument, or don't evaluate the second argument and return the first. In other words, the `and` operator works like: ``` x and y => if x is false, then x, else y ```  \n",
    "For that reason we will have the following behaviour: \n",
    "``` Python\n",
    "mylist1 = [True,  True,  True,  False,  True]\n",
    "mylist2 = [False, True, False,  True, False]  \n",
    "\n",
    "# ---- Example 1 ----  Boolean comparison, each elements of the list are compared pair-wise\n",
    ">>>mylist1 and mylist2 \n",
    "[False, True, False, True, False]\n",
    "# You would have expected [False, True, False, False, False]\n",
    "# However as explained above\n",
    "# something_true and x -> x\n",
    "# something_false and x -> something_false\n",
    "```\n",
    "Another important thing to keep in mind is that empty built-in object is treated as logically `False`. This means that:\n",
    "``` Python\n",
    "if []:\n",
    "    print('True')\n",
    "    >>> # Returns nothing\n",
    "    \n",
    "if [False]:\n",
    "    print('True')\n",
    "    >>> 'True'\n",
    "```\n",
    "Finally, the comparison of 2 lists of booleans, as defined above, with bitwise operator will raise an error because bitwise operations work only on numbers (or conversion of objects to bits, e.g. a string): \n",
    "``` python\n",
    "# ---- Example 2 ----  Comparison of the 2 lists with bitwise operators\n",
    "mylist1 & mylist2 \n",
    "TypeError: unsupported operand type(s) for &: 'list' and 'list'\n",
    "\n",
    "```\n",
    "\n",
    "See [here](https://stackoverflow.com/questions/22646463/difference-between-and-boolean-vs-bitwise-in-python-why-difference-i) for more detailed explanation of those subtelties and use of bitwise operators with numpy arrays (that we will introduce later). \n"
   ]
  },
  {
   "cell_type": "code",
   "execution_count": null,
   "id": "6b174122-ff43-46f6-910c-6e7a54bdde90",
   "metadata": {
    "nbpresent": {
     "id": "7327b838-1a9e-4bde-a946-d4636883772b"
    }
   },
   "outputs": [],
   "source": [
    "if []:\n",
    "    print('True')\n",
    "\n",
    "if [False]:\n",
    "    print('True')"
   ]
  },
  {
   "cell_type": "code",
   "execution_count": null,
   "id": "3a726945-131a-45fa-af07-e3f5c56e68b2",
   "metadata": {
    "nbpresent": {
     "id": "7bdd14c5-cd3a-432d-848f-66a52afe2a69"
    }
   },
   "outputs": [],
   "source": [
    "mylist1 = [True,  True,  True,  False,  True]\n",
    "mylist2 = [False, True, False,  True, False]  \n",
    "\n",
    "mylist1 and mylist2"
   ]
  },
  {
   "cell_type": "code",
   "execution_count": null,
   "id": "26314a06-afb4-4fcf-9631-ef29f435db7f",
   "metadata": {
    "nbpresent": {
     "id": "2876851c-66df-41be-a731-35c4b279a26a"
    }
   },
   "outputs": [],
   "source": [
    "mylist1 & mylist2"
   ]
  },
  {
   "cell_type": "code",
   "execution_count": null,
   "id": "05511910-35b3-4c92-9d93-163cb00d61c5",
   "metadata": {},
   "outputs": [],
   "source": []
  },
  {
   "cell_type": "code",
   "execution_count": null,
   "id": "4052f719-8707-47a8-a543-d6e7f3ff7eea",
   "metadata": {},
   "outputs": [],
   "source": []
  },
  {
   "cell_type": "markdown",
   "id": "d1b9f772-b1b3-4b67-b6e7-f60ab838eeb4",
   "metadata": {},
   "source": [
    "## 1.8 Scripts and Functions\n",
    "\n",
    "Now that we are familiar with basic syntax, variables, and containers, we will see how to group command lines to run them all at once. This can be done thanks to what is called a `function`. Second, we will also see how to run python outside a Jupyter notebook and manage scripts. \n",
    "\n",
    "The Notebook [Scripts_and_functions.ipynb](Scripts_and_functions.ipynb) explains those aspects.  "
   ]
  },
  {
   "cell_type": "markdown",
   "id": "f309a071-5834-4b1b-9d9f-ec47e1452909",
   "metadata": {},
   "source": [
    "## 1.9 A brief summary of the Python coding recommendations    <a class=\"anchor\" id=\"IIIh\"></a>\n",
    "\n",
    "From Official `Python` doc https://docs.python.org/3.8/tutorial/controlflow.html   \n",
    "The full style guide for python coding: https://www.python.org/dev/peps/pep-0008/\n",
    "\n",
    "- Use 4-space indentation, and no tabs.\n",
    "- 4 spaces are a good compromise between small indentation (allows greater nesting depth) and large indentation (easier to read). Tabs introduce confusion, and are best left out.\n",
    "- Wrap lines so that they don’t exceed 79 characters. This helps users with small displays and makes it possible to have several code files side-by-side on larger displays.\n",
    "- Use blank lines to separate functions and classes, and larger blocks of code inside functions.\n",
    "- When possible, put comments on a line of their own.\n",
    "- Use docstrings.\n",
    "- Use spaces around operators and after commas, but not directly inside bracketing constructs: `a = f(1, 2) + g(3, 4)`.\n",
    "- Don’t use fancy encodings if your code is meant to be used in international environments. Plain ASCII works best in any case."
   ]
  },
  {
   "cell_type": "markdown",
   "id": "b21068dc-d01a-4484-bc34-6cc0be4820e9",
   "metadata": {
    "nbpresent": {
     "id": "9abbe30e-5f03-4178-8587-c33eab2fc3df"
    }
   },
   "source": [
    "## 1.10 Summary\n",
    "\n",
    "\n",
    "We have seen that `python` is a multi-paradigm language, namely both *interpreted* and *compiled*. This is the reason why it is very versatile, portable and powerful.  \n",
    "We have learned about: \n",
    "- The main variable types (`int`, `float`, `string`, `complex`), but also the `None` keyword (the unique member of the type `NoneType`); see [Part 1 of this notebook](Python_in_a_nutshell_Part1.ipynb)\n",
    "- The main comparison operators. Quite standard. For instance, remember that '==' is used for testing an equality. ; see [Part 1 of this notebook](Python_in_a_nutshell_Part1.ipynb)  \n",
    "- The main built-in structures: `list`, `tuple`, `dictionary`, `set`\n",
    "- The importance of indentation in writing code, especially when defining a `function`, create `loops`, set `conditions`. \n",
    "- We have seen that there is in general no need to pre-declare a variable, nor its type. However, one should be careful that *numbers not followed by a .* are interpreted as integers, but are float otherwise. This can generate bugs as the division of 2 integers is an integer (in python 2.7, not for version > 3). \n",
    "- We have been introduced to [iterables](https://www.pythonlikeyoumeanit.com/Module2_EssentialsOfPython/Iterables.html) (lists, tuples, sets, dict) and found out tha one can iterate over their elements via a for loop. \n",
    "- We are getting familiar with slicing through lists, and realise that the *first index* of a sequence is *zero*. \n",
    "- We have seen that it is very easy to add documentation to a function using triple quotes \"\"\"\n",
    "- We have learned how to write `list comprehensions` ( [ x+1 for x in L] ) to increase speed and improve readability. "
   ]
  },
  {
   "cell_type": "markdown",
   "id": "40563e25-782e-458d-986c-03a8c9803324",
   "metadata": {
    "nbpresent": {
     "id": "f13ef757-04a6-4b88-b7f9-9e5dc8d65e8d"
    }
   },
   "source": [
    "## References and Additional material:  \n",
    "\n",
    "**Appendix A** of the book *Statistics, data mining and Machine learning in astronomy* by Z. Ivezic et al. in Princeton Series in Modern Astronomy.  \n",
    "\n",
    "Other useful references to know more about the topics covered in this class: \n",
    "\n",
    "* Introduction to python and solid references:  \n",
    "    - An Introduction to Python - The Python Tutorial by Guido van Rossum (python creator) and Fred L. Drake, Jr. https://docs.python.org/3/tutorial/index.html\n",
    "    - Python for astronomers course http://python4esac.github.io/  written by Tom Aldcroft, Tom Robitaille, Brian Refsdal, Gus Muench (Copyright 2011, Smithsonian Astrophysical Observatory; Creative common license), and their version adapted by  Eli Bressert, Neil Creighton and Pieter Degroote : http://www.ster.kuleuven.be/~pieterd/python/html/index.html\n",
    "    - Python web-tutorial written by Bernd Klein: https://python-course.eu/python-tutorial/\n",
    "    - Visual way to see how a code is running and how objects are called and filled  http://www.pythontutor.com/visualize.html#mode=edit\n",
    "    - Concise overview of python capabilities (containers, variable types, operators, ...): https://www.tutorialspoint.com/python/index.htm\n",
    "    - Style guide for python coding: https://www.python.org/dev/peps/pep-0008/\n",
    "    - args and kwargs: https://realpython.com/python-kwargs-and-args/\n",
    "    \n",
    "* Jupyter Notebooks (we'll go in more details in a future [lecture](Jupyter.ipynb)): \n",
    "    - General: https://www.datacamp.com/community/tutorials/tutorial-jupyter-notebook#gs.HoI=454\n",
    "    - Syntax: https://guides.github.com/features/mastering-markdown/\n",
    "    - Youtube video: https://www.youtube.com/embed/inN8seMm7UI\n",
    "\n",
    "* About interpreted/compiled language:   \n",
    "    - General: https://thesocietea.org/2015/07/programming-concepts-compiled-and-interpreted-languages/  \n"
   ]
  },
  {
   "cell_type": "code",
   "execution_count": null,
   "id": "191dad9b-864b-4d41-b7d9-db849c29bbf8",
   "metadata": {},
   "outputs": [],
   "source": []
  }
 ],
 "metadata": {
  "kernelspec": {
   "display_name": "Python [conda env:py3_lectures]",
   "language": "python",
   "name": "conda-env-py3_lectures-py"
  },
  "language_info": {
   "codemirror_mode": {
    "name": "ipython",
    "version": 3
   },
   "file_extension": ".py",
   "mimetype": "text/x-python",
   "name": "python",
   "nbconvert_exporter": "python",
   "pygments_lexer": "ipython3",
   "version": "3.7.12"
  }
 },
 "nbformat": 4,
 "nbformat_minor": 5
}
