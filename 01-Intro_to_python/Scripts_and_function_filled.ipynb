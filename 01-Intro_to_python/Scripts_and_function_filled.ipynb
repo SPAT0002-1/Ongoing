{
 "cells": [
  {
   "cell_type": "markdown",
   "id": "17b559d0-cfa1-4b0d-a05a-ecd70b1ddc2f",
   "metadata": {},
   "source": [
    "# 1.8 Scripting and functions \n",
    "\n",
    "\n",
    "We have two ways to run python, either [interactively](#Interactive-python-outside-Jupyter), or from scripts. *Interactive* use is favoured when you want to do small exploratory analysis, test part of codes, visualise some results, while [scripts](#Scripting-python) will be used in general to run (and re-run) more complex programs. After discussing those two uses of programs, we will see how to assemble lines of codes to complete a specific task, namely how to write what one knows as `procedure` or `function` .  \n"
   ]
  },
  {
   "cell_type": "markdown",
   "id": "f3677fc6-ef33-4ec4-97d6-d9eb8009a587",
   "metadata": {},
   "source": [
    "## Interactive python outside `Jupyter`\n",
    "\n",
    "There are 2 main ways to run python interactively within a console or a terminal window. One can use the standard Python prompt, which can be launched by typing `python` in a terminal. Instead, one can use a feature enhanced prompt, `ipython`, where \"i\" stands for interactive (which also means that IPython is an *interpreter*). This is an add-on package that adds many features to the default Python shell, including the ability to edit and navigate the history of previous commands, as well as the ability to tab-complete variable and function names. You can also write several commands one after the other before executing them by typing `Ctrl Enter` between each command instead of `Enter`. For some versions of ipython, this is rather `Ctrl o`. `IPython` allows you also to use any shell command by preceding it with a `!` as we did at the beginning of this Notebook (If this does not work, try without the `!`). This is basically telling Ipython that this shell is activated in the *code* cells of this Jupyter Notebook.    \n",
    "\n",
    "Once you have launched `ipython`, you can proceed as follows to type your `python` commands: \n",
    "``` python\n",
    "x = 10\n",
    "x\n",
    "\n",
    "Out[1]: 10\n",
    "```\n",
    "\n",
    "When you use an `ipython` shell, you can access the command history by pressing up/down arrows. This feature doesn't work within jupyter.  "
   ]
  },
  {
   "cell_type": "markdown",
   "id": "8fe06c38-cd27-4345-9918-ca6ad5c9ff40",
   "metadata": {},
   "source": [
    "To test interactive python outside jupyter, you may want to open a console or a terminal window. \n",
    "\n",
    "#### How to open a terminal window?   \n",
    "\n",
    "- Under Linux: Try to find in the menu form `Terminal` or `Terminal emulator` or `xgterm` or `xterm`\n",
    "- Under Mac OS: Use the search engine and type `Terminal`. If it does not work, open `Finder`, go to `Applications`, then `Utilitaries` and search for `Terminal`. \n",
    "- Under Windows OS: If you installed python using anaconda, then search for `Anaconda prompt` using Windows search engine. \n",
    "\n",
    "Once the terminal window is opened, your can launch `python`or `ipython`. To **QUIT** this python/ipython, you can simply type `quit()`. \n",
    "\n",
    "**Note:** Depending of how/which version of python has been installed (syntax differs between python 2.7 and python 3.6), you may run ipython with command `ipython2` or `ipython3` (or `ipython` the latter being linked to either `ipython2` or `ipython3`). "
   ]
  },
  {
   "cell_type": "markdown",
   "id": "1e69f8d2-d9d3-4eed-a81e-c5b7bfe05266",
   "metadata": {},
   "source": [
    "## Scripting python \n",
    "\n",
    "While the interactive Python mode is very useful for exploring and trying out code, you will eventually want to write a script to record and reproduce what you did, or to do things that are too complex to type in interactively (defining functions, classes, etc.). To write a Python script, just use your favorite code editor to put the code in a file with a .py extension. For example, we can create a file called `test.py` containing:\n",
    "``` python\n",
    "x = 10\n",
    "print(x)\n",
    "```\n",
    "And then you can run it within a terminal by typing `python test.py`\n",
    "\n",
    "**Note:** It is also possible to make Python scripts executable. Simply add `#!/usr/bin/env python` (or the path towards your `python` \"executable\") on the first line of your test.py script and change the file permission to make it executable with `chmod +x test.py`. Now the script can be run without the preceeding python command; instead you can just type `./test.py` in the command line. Note that this will only work on Linux and Macs, not on Windows.\n",
    "\n",
    "### About text editors\n",
    "\n",
    "*Warning*: you need a text editor that is able to save file is plain ascii / with minimal additional formating. You should **NOT** use text editor like Microsoft Word, Open/Libre Office, Apple Pages, ... Instead, there are simple text editor available with every OS, or more advanced ones which recognise code syntax and provide enriched coloring of your code to help legibility. Even more advanced solutions exist withing what is called IDE (Integrated Development Environment). IDEs provide you with an exhaustive toolbox that enables not only to edit code, but test it, version it, etc.   \n",
    "\n",
    "Non exhaustive list of text editor: \n",
    "\n",
    "| Name | OS | Comment | \n",
    "| ------| ----| --------| \n",
    "| Notepad | Windows | Basic, no font enhancement, not recommended for daily coding |\n",
    "| nano    | Linux, MacOS   | Basic, lightweight, work with terminal, not recommended for daily coding |\n",
    "| vi      | Linux, MacOS   | Works within terminal, a bit unintuitive shortcuts, popular among \"geeks\", not recommended for daily coding | \n",
    "| Emacs   | Linux, Windows, MacOs | GNU, many functionalities (semi-IDE), font enhancement, ..., can work within console |  \n",
    "| Atom    | Linux, Windows, MacOs| Provide some IDE components, font enhancement, ... | \n",
    "| PyCharm | Linux, Windows, MacOs | Powerful but heavy, Education licences for free | \n",
    "| Spyder  | Linux, Windows, MacOs | IDE can be installed within Anaconda |"
   ]
  },
  {
   "cell_type": "markdown",
   "id": "4229fbeb-8e08-4208-9b8c-a5ab8640f667",
   "metadata": {},
   "source": [
    "### Run a script within interactive environment\n",
    "\n",
    "It can sometimes be useful to run a script to set things up, and to continue in interactive mode. This can be done using the `%run` IPython command to run the script, which then gets executed.     \n",
    "\n",
    "``` python\n",
    "%run test.py\n",
    "```\n",
    "This way, the IPython session then has access to the last state of the variables from the script."
   ]
  },
  {
   "cell_type": "code",
   "execution_count": 1,
   "id": "d6e39629",
   "metadata": {
    "nbpresent": {
     "id": "dbc00205-2123-4ca4-abb9-4dd0deb2b346"
    }
   },
   "outputs": [
    {
     "name": "stdout",
     "output_type": "stream",
     "text": [
      "10\n"
     ]
    }
   ],
   "source": [
    "# Try creating a file using a text editor (e.g. run nano or gedit in a terminal, or search for a an editor in a menu) \n",
    "# and launch the editor from a terminal window or in a cell of a jupyter notebook (Do not forget the `!` in that case)\n",
    "%run test.py"
   ]
  },
  {
   "cell_type": "code",
   "execution_count": 2,
   "id": "6a25e464-0ca4-4d36-a810-9373478997d3",
   "metadata": {},
   "outputs": [
    {
     "data": {
      "text/plain": [
       "10"
      ]
     },
     "execution_count": 2,
     "metadata": {},
     "output_type": "execute_result"
    }
   ],
   "source": [
    "x"
   ]
  },
  {
   "cell_type": "markdown",
   "id": "a987e024-cdac-425c-a316-3f991fed03f1",
   "metadata": {
    "nbpresent": {
     "id": "3f0c1867-2f8b-423c-8be2-c36955da99e0"
    }
   },
   "source": [
    "Later on, we will learn functional programming and how to call modules and execute user defined functions in an interactive prompt or within a standalone program. "
   ]
  },
  {
   "cell_type": "markdown",
   "id": "97cef668-453f-4da3-86fb-17c4e588712b",
   "metadata": {
    "nbpresent": {
     "id": "274f94a8-afc2-409f-b222-808f2dea8d9e"
    },
    "tags": []
   },
   "source": [
    "## Functions: \n",
    "\n",
    "We have seen the first bricks of python coding, but once it is necessary to automate some task, it becomes convenient to define **functions**. A function is a kind of \"mini-script\" that can accept (optionally) one or several `arguments`. Here is how you define a function:\n",
    "\n",
    "``` python\n",
    "def moffat1D(r, I, alpha, beta):\n",
    "    arg = (r / alpha)**2 + 1\n",
    "    y = I / arg**(beta)\n",
    "    return y\n",
    "```\n",
    "\n",
    "This function returns the value of a Moffat profile/function at position `r`:  \n",
    "\n",
    "$y = I_0  \\left( \\left ( \\frac{r}{\\alpha} \\right )^2 +1 \\right)^{-\\beta}$\n",
    "\n",
    "This Moffat profile is characterized by the parameters `I`, a normalization factor, `alpha`, the width of the moffat, or rather a scale parameter, and `beta`, a parameter governing the shape of the profile. When $\\beta = 1$, the Moffat profile is identical to a Lorentz \"profile\".    \n",
    "\n",
    "The characteristics of functions are:\n",
    "- They start with the `def` keyword, followed by the function name\n",
    "- The argument of the function is in parentheses \n",
    "- After the parentheses, starts a colon `:` which marks the beginning of the code block corresponding to your operation. \n",
    "- The code block associated with the function is **indentated** w.r.t. the main text. This is a *very important* property the python language: indentation (with tabulation or 4-spaces -4-spaces are officially recommended by many python-friendly editors convert your tab into space within your code.) are part of the code, they help legibility BUT not only. They tell the code that something special is happening. \n",
    "- In the above code, a **local variable** (you won't have access to it outside your function) `arg` has been defined\n",
    "- The function ends when new code is NOT indented or when a `return` statement is encountered.\n",
    "- There are some rules regarding function arguments:\n",
    "    * First argument(s) of a function should be mandatory arguments, with no default value. \n",
    "    * Next argument(s) are optional arguments for which you give default values\n",
    "    * You cannot put an argument without default value *after* one with a default value. \n",
    "    * Arguments without default value are positional ones, so if you define `def f(a):`, you do no have to specify the keyword of the function when giving it a value. i.e. `f(0)` will evaluate the function at 0, but `f(a=0)` will also work. On the other hand `f(0, a=0)` will return an Error !\n",
    "    \n",
    "\n",
    "**Note:**\n",
    "- `Python` has many built-in functions (some are called methods when they are defined in some objects-classes). For example, the function `range(5)` returns a sequential list of integers.\n",
    "- Python 3 disallows mixing the use of tabs and spaces for indentation. Python 2 code indented with a mixture of tabs and spaces should be converted to using spaces exclusively. \n",
    "- When a final formal parameter of the form `**name` (often `**kwargs` is used) is present, it receives a dictionary containing all keyword arguments except for those corresponding to a formal parameter. This may be combined with a formal parameter of the form `*name` (`*args`) which receives a tuple containing the positional arguments beyond the formal parameter list. (`*name` must occur before `**name`.) You may have a look [here](https://pythontips.com/2013/08/04/args-and-kwargs-in-python-explained/) for more detailed explanations "
   ]
  },
  {
   "cell_type": "code",
   "execution_count": 2,
   "id": "e5e392bf",
   "metadata": {},
   "outputs": [
    {
     "data": {
      "text/plain": [
       "1.3846153846153846"
      ]
     },
     "execution_count": 2,
     "metadata": {},
     "output_type": "execute_result"
    }
   ],
   "source": [
    "# Function that takes no default value\n",
    "def moffat1D_no_default(r, I0, alpha, beta):\n",
    "    arg = (r / alpha)**2 + 1\n",
    "    y = I0 / arg**(beta)\n",
    "    return y\n",
    "\n",
    "moffat1D_no_default(r=2,  beta=1, I0=2, alpha=3,)"
   ]
  },
  {
   "cell_type": "code",
   "execution_count": 3,
   "id": "a7d78496",
   "metadata": {},
   "outputs": [
    {
     "data": {
      "text/plain": [
       "1.3846153846153846"
      ]
     },
     "execution_count": 3,
     "metadata": {},
     "output_type": "execute_result"
    }
   ],
   "source": [
    "moffat1D_no_default(2,  beta=1, I0=2, alpha=3,)"
   ]
  },
  {
   "cell_type": "code",
   "execution_count": 4,
   "id": "ec2e455e",
   "metadata": {},
   "outputs": [
    {
     "ename": "SyntaxError",
     "evalue": "positional argument follows keyword argument (1056213015.py, line 1)",
     "output_type": "error",
     "traceback": [
      "\u001b[0;36m  File \u001b[0;32m\"/var/folders/9c/nn9vyf350tq3pbbll3zq6n8h0000gn/T/ipykernel_46116/1056213015.py\"\u001b[0;36m, line \u001b[0;32m1\u001b[0m\n\u001b[0;31m    moffat1D_no_default(2,  beta=1, 2, I0=3,)\u001b[0m\n\u001b[0m                                   ^\u001b[0m\n\u001b[0;31mSyntaxError\u001b[0m\u001b[0;31m:\u001b[0m positional argument follows keyword argument\n"
     ]
    }
   ],
   "source": [
    "# non keyword arguments should be called before keyword arguments \n",
    "moffat1D_no_default(2,  beta=1, 2, I0=3,)"
   ]
  },
  {
   "cell_type": "code",
   "execution_count": 5,
   "id": "642cd3f3",
   "metadata": {},
   "outputs": [],
   "source": [
    "# Function for which 1 default value is considered. Mind the order ! \n",
    "def moffat1D_w_default(r, I0, alpha, beta=3):\n",
    "    arg = (r / alpha)**2 + 1\n",
    "    y = I0 / arg**(beta)\n",
    "    return y"
   ]
  },
  {
   "cell_type": "code",
   "execution_count": 7,
   "id": "2f1a9a25",
   "metadata": {},
   "outputs": [
    {
     "data": {
      "text/plain": [
       "0.6636322257624033"
      ]
     },
     "execution_count": 7,
     "metadata": {},
     "output_type": "execute_result"
    }
   ],
   "source": [
    "moffat1D_w_default(r=2, I0=2, alpha=3)"
   ]
  },
  {
   "cell_type": "code",
   "execution_count": 8,
   "id": "97a63247",
   "metadata": {},
   "outputs": [
    {
     "data": {
      "text/plain": [
       "0.9585798816568047"
      ]
     },
     "execution_count": 8,
     "metadata": {},
     "output_type": "execute_result"
    }
   ],
   "source": [
    "moffat1D_w_default(r=2, I0=2, alpha=3, beta=2)"
   ]
  },
  {
   "cell_type": "code",
   "execution_count": 12,
   "id": "3c38099c",
   "metadata": {},
   "outputs": [],
   "source": [
    "# Example where the default is of Nonetype (useful if argument optionally used or to force the user to check)\n",
    "def moffat1D_w_None(r, I0, alpha, beta=3, verbose=None):\n",
    "    arg = (r / alpha)**2 + 1\n",
    "    y = I0 / arg**(beta)\n",
    "    if verbose is not None:\n",
    "        print('The function works')\n",
    "    return y"
   ]
  },
  {
   "cell_type": "code",
   "execution_count": 16,
   "id": "5d52f958",
   "metadata": {},
   "outputs": [
    {
     "name": "stdout",
     "output_type": "stream",
     "text": [
      "The function works\n"
     ]
    },
    {
     "data": {
      "text/plain": [
       "0.6636322257624033"
      ]
     },
     "execution_count": 16,
     "metadata": {},
     "output_type": "execute_result"
    }
   ],
   "source": [
    "moffat1D_w_None(r=2, I0=2, alpha=3, verbose='')"
   ]
  },
  {
   "cell_type": "code",
   "execution_count": 19,
   "id": "b784c844",
   "metadata": {},
   "outputs": [
    {
     "ename": "NameError",
     "evalue": "name 'beta' is not defined",
     "output_type": "error",
     "traceback": [
      "\u001b[0;31m---------------------------------------------------------------------------\u001b[0m",
      "\u001b[0;31mNameError\u001b[0m                                 Traceback (most recent call last)",
      "\u001b[0;32m/var/folders/9c/nn9vyf350tq3pbbll3zq6n8h0000gn/T/ipykernel_46116/933545714.py\u001b[0m in \u001b[0;36m<module>\u001b[0;34m\u001b[0m\n\u001b[1;32m      1\u001b[0m \u001b[0;31m# Arguments of functions are local variables\u001b[0m\u001b[0;34m\u001b[0m\u001b[0;34m\u001b[0m\u001b[0;34m\u001b[0m\u001b[0m\n\u001b[0;32m----> 2\u001b[0;31m \u001b[0mbeta\u001b[0m\u001b[0;34m\u001b[0m\u001b[0;34m\u001b[0m\u001b[0m\n\u001b[0m",
      "\u001b[0;31mNameError\u001b[0m: name 'beta' is not defined"
     ]
    }
   ],
   "source": [
    "# Arguments of functions are local variables \n",
    "beta"
   ]
  },
  {
   "cell_type": "markdown",
   "id": "6a6b9093-9446-4d23-91ba-df095a1af971",
   "metadata": {},
   "source": [
    "#### Exercise on functions"
   ]
  },
  {
   "cell_type": "code",
   "execution_count": 28,
   "id": "b5dcd572",
   "metadata": {
    "nbpresent": {
     "id": "9b6d5232-0a9d-41ba-8b8a-9339be5c9c9f"
    }
   },
   "outputs": [],
   "source": [
    "# Define a function that converts an angle given in degrees into radians\n",
    "def deg_to_rad(angle):\n",
    "    pi = 3.14159 \n",
    "    angle_rad = pi * angle / 180 \n",
    "    return angle_rad"
   ]
  },
  {
   "cell_type": "code",
   "execution_count": 31,
   "id": "8a10cda1",
   "metadata": {},
   "outputs": [
    {
     "name": "stdout",
     "output_type": "stream",
     "text": [
      "3.14159\n"
     ]
    }
   ],
   "source": [
    "theta = deg_to_rad(180)\n",
    "print(theta)"
   ]
  },
  {
   "cell_type": "code",
   "execution_count": 32,
   "id": "5d38cd39",
   "metadata": {},
   "outputs": [],
   "source": [
    "def deg_to_rad_v2(angle):\n",
    "    pi = 3.14159  \n",
    "    return pi * angle / 180 "
   ]
  },
  {
   "cell_type": "code",
   "execution_count": 33,
   "id": "d34e6095",
   "metadata": {},
   "outputs": [
    {
     "name": "stdout",
     "output_type": "stream",
     "text": [
      "3.14159\n"
     ]
    }
   ],
   "source": [
    "theta = deg_to_rad_v2(180)\n",
    "print(theta)"
   ]
  },
  {
   "cell_type": "code",
   "execution_count": 35,
   "id": "42bbd218",
   "metadata": {},
   "outputs": [],
   "source": [
    "# Example of function returning 2 quantities - The output is a tuple \n",
    "def deg_to_rad_2output(angle):\n",
    "    '''\n",
    "    Description: Function that converts an angle from deg to radian\n",
    "    \n",
    "    Parameters: \n",
    "    angle (float): input value in degree\n",
    "    \n",
    "    Returns: \n",
    "    tuple \n",
    "        angle (float): input value \n",
    "        angle_rad (float): angle in radians\n",
    "    '''\n",
    "    pi = 3.14159 \n",
    "    angle_rad = pi * angle / 180 \n",
    "    return angle, angle_rad"
   ]
  },
  {
   "cell_type": "code",
   "execution_count": 36,
   "id": "16e7a1d1",
   "metadata": {},
   "outputs": [],
   "source": [
    "deg_to_rad_2output?"
   ]
  },
  {
   "cell_type": "code",
   "execution_count": 26,
   "id": "59bd8b52",
   "metadata": {},
   "outputs": [
    {
     "data": {
      "text/plain": [
       "(90, 1.570795)"
      ]
     },
     "execution_count": 26,
     "metadata": {},
     "output_type": "execute_result"
    }
   ],
   "source": [
    "output = deg_to_rad_2output(90)\n",
    "output"
   ]
  },
  {
   "cell_type": "code",
   "execution_count": 27,
   "id": "41dc3029",
   "metadata": {},
   "outputs": [
    {
     "data": {
      "text/plain": [
       "tuple"
      ]
     },
     "execution_count": 27,
     "metadata": {},
     "output_type": "execute_result"
    }
   ],
   "source": [
    "type(output)"
   ]
  },
  {
   "cell_type": "code",
   "execution_count": null,
   "id": "f0c8d19b",
   "metadata": {},
   "outputs": [],
   "source": []
  },
  {
   "cell_type": "markdown",
   "id": "fc9dd3b1-1b90-4564-bb15-2438f98353b3",
   "metadata": {
    "nbpresent": {
     "id": "ce10df8b-d67f-4738-86dd-c1ac2b41961f"
    }
   },
   "source": [
    "#### 1.6.1 Functions and docstrings \n",
    "\n",
    "A **very useful** functionality of python is the ability to write, together with your function a simple `help` / basic documentation. For this, you simply have to start the \"help\"-block with triple-quotes (i.e. `\"\"\"`) and end it similarly (this `help()` block needs to be indentated). In python jargon, this help block is effectively called a `Docstring`.\n",
    "\n",
    "This `Docstring` can be called in interactive mode (`help(myfunction)`) will return the information present in that Doctring. *Within Jupyter notebooks*, you can use the combination of keys `Shift + Tab` when your cursor is positioned just after the opening parenthese, to see the help in a small *pop-up window* (repeat `Shift+Tab` for different options). Alternatively, just run the cell calling your function followed by a question mark: `myfunction?`\n",
    "\n",
    "Because `Docstrings` are used to design the `help`, it means that it is better to follow some rules when writing them. While those rules are not universal, a recommended and widely used format is the following (NumPy-style dcstrings, which is also compliant with Sphinx Documentation tool):\n",
    "``` python \n",
    "\"\"\"\n",
    "One-line description of what the function does.\n",
    "\n",
    "Optionally followed by a paragraph providing a \n",
    "more detailed description of the inner workings\n",
    "of the function.\n",
    "\n",
    "Parameters\n",
    "----------\n",
    "first : float\n",
    "    the 1st param name `first`\n",
    "second : tuple\n",
    "    the 2nd param, should be a pair of floats\n",
    "    (e.g. xy coordinates).\n",
    "third : int\n",
    "    the 3rd param\n",
    "fourth : string, {'value', 'other'}, optional\n",
    "    the 4th param, by default 'value'\n",
    "\n",
    "Returns\n",
    "-------\n",
    "string\n",
    "    a value in a string\n",
    "\n",
    "Raises #optional\n",
    "------\n",
    "KeyError\n",
    "    when a key error\n",
    "OtherError\n",
    "    when an other error\n",
    "\"\"\"\n",
    "```\n",
    "\n",
    "Let's apply this to the `moffat1D()` function that we defined above:\n",
    "\n",
    "``` python\n",
    "def moffat1D(r, I, alpha, beta):\n",
    "    \"\"\"\n",
    "    Evaluate a Moffat profile at position r.\n",
    "    \n",
    "    The equation for the 1D Moffat function is\n",
    "    given by:\n",
    "    y = I * (1+(r/alpha)^2)^(-beta)\n",
    "    \n",
    "    Parameters\n",
    "    ----------\n",
    "    r : float\n",
    "        Position at which function is evaluated\n",
    "    I : float\n",
    "        Intensity\n",
    "    alpha: float\n",
    "        alpha parameter\n",
    "    beta: float\n",
    "        beta parameter\n",
    "        \n",
    "    Returns\n",
    "    -------\n",
    "    float\n",
    "        The value of the Moffat function at position r\n",
    "    \"\"\"\n",
    "    arg = (r / alpha)**2 + 1\n",
    "    y = I / arg**(beta)\n",
    "    return y\n",
    "```\n",
    "\n",
    "\n",
    "**Notes:**\n",
    "- You can read the [Docstring convention](https://www.python.org/dev/peps/pep-0257/) that lists recommendations in writing the help of your function. The one described above, the one used by the numpy programmers, is explained on the [numpydoc webapge](https://numpydoc.readthedocs.io/en/latest/format.html#format) \n",
    "- In the \"programming\" section of this class, we *learn to drive* (code in python) but we won't spend too much time on the *traffic regulation* (i.e. how to code well following best practices). The [Style guide for Python code](https://www.python.org/dev/peps/pep-0008/) is probably a good way to get recommendations on *good practices* for programming in `Python`. We'll try to get used to some of them (as above), but cannot afford spending too much time on this topic.\n",
    "- When publishing papers, you may be encouraged to also release your codes along with your scientific results, or may want to release a public code in the future. Reading the good practices linked above is therefore recommended before doing any serious programming. (See at the end of this notebook for a summary)"
   ]
  },
  {
   "cell_type": "code",
   "execution_count": null,
   "id": "11277f6e",
   "metadata": {
    "nbpresent": {
     "id": "4fcc907d-ce41-4551-aae6-be444d0adaee"
    }
   },
   "outputs": [],
   "source": [
    "# Add a Docstring to the function you have defined above to create degrees to Radians. \n",
    "# Visualise the help() you have created using help() "
   ]
  },
  {
   "cell_type": "markdown",
   "id": "de455e9d-cc62-4976-8bce-874be59d43f6",
   "metadata": {},
   "source": [
    "#### 1.6.2 Args and kwargs\n",
    "\n",
    "*The content of this section will be discussed later, once you are more familiar with the use of functions. At the end of the day, you should NOT ignore this section.*\n",
    "\n",
    "Sometimes, when you look at a function definition in Python, you might see that it takes two strange arguments: `*args` and `**kwargs`. What is this ? `*args` and `**kwargs` allow you to pass multiple arguments or keyword arguments to a function. `*args` is a way to accept positional arguments to a function without defining them.     \n",
    "\n",
    "**Example:** \n",
    "``` python\n",
    "def line(x, a, b):\n",
    "    y = a * x + b \n",
    "    return y\n",
    "```\n",
    "instead, you can do: \n",
    "``` python\n",
    "def line(x, *args):\n",
    "    a, b = args \n",
    "    y = a * x + b \n",
    "    return y\n",
    "```\n",
    "\n",
    "`*` is an unpacking operator. Note that the (iterable) object you build with this operator (i.e.`*args` is a new object) is a tuple, not a list. This also means that you can access arguments of a function using `*args` instead of explicitly listing your parameters but remember that order is crucial !  \n",
    "\n",
    "`**kwargs` works just like `*args`, but instead of accepting *positional arguments* it accepts *keyword* arguments. What is important here is the unpacking operator `**`. You can see it as unpacking twice the entries: first creating a tuple of names, second a tuple of values, and associating them by pairs. This is basically what does a dictionary, and the object created by the `**` operator is effectively a dictionary.\n",
    "\n",
    "``` python\n",
    "def line3(**kwargs):\n",
    "    y = [kwargs['a'] * xi + kwargs['b'] for xi in kwargs['x']]\n",
    "    return y\n",
    "```\n",
    "\n",
    "Finally, note that it is not necessary to write `*args` or `**kwargs`. Only the `*` (aesteric) is necessary. You could have also written `*var` and `**var`. This also means that if you have, for your function, an explicit definition of parameters, you can also access them using the `*` or `**` operators. \n",
    "\n",
    "``` python\n",
    "def line(x, a, b):\n",
    "    y = [a * xi + b for xi in x] \n",
    "    return y\n",
    "params = (a, b)\n",
    "y = line(x, *params)\n",
    "```\n",
    "But you can also do: \n",
    "```python\n",
    "kw = {'a':0.5, 'b':1, 'x':x}\n",
    "y = line(**kw)\n",
    "```\n",
    "\n",
    "Finally, one needs to know that if you use `*args` and `**kwargs` as arguments of a function, you need to respect the following order: \n",
    "```python\n",
    "myfunction(arg1, arg2, ..., *args, **kwargs)\n",
    "```"
   ]
  },
  {
   "cell_type": "code",
   "execution_count": null,
   "id": "cfc20ba7-1798-4f8c-8c17-d47bc8a24d11",
   "metadata": {},
   "outputs": [],
   "source": [
    "def line(x, a, b):\n",
    "    '''\n",
    "    x: list\n",
    "    a,b: float\n",
    "    '''\n",
    "    y = []\n",
    "    for xi in x:\n",
    "        yi = a * xi + b \n",
    "        y.append(yi)\n",
    "    return y\n",
    "\n",
    "x = [0,1,2,3,4]\n",
    "y = line(x, 0.5, 1)\n",
    "y"
   ]
  },
  {
   "cell_type": "code",
   "execution_count": null,
   "id": "af38573c-ad1d-4142-ae71-e3c35bc3534b",
   "metadata": {},
   "outputs": [],
   "source": [
    "def line2(x, *args):\n",
    "    '''\n",
    "    x: list\n",
    "    '''\n",
    "    a, b = args \n",
    "    y = [a * xi + b for xi in x]  # List comprehension \n",
    "    return y\n",
    "\n",
    "y = line2(x, 0.5, 1)\n",
    "y"
   ]
  },
  {
   "cell_type": "code",
   "execution_count": null,
   "id": "e7cbd5f8-5ce6-4040-85a2-2b33313370a8",
   "metadata": {},
   "outputs": [],
   "source": [
    "var = (x, 0.5, 1)    # can be a tuple or a list or other iterables\n",
    "y = line(*var)\n",
    "y"
   ]
  },
  {
   "cell_type": "code",
   "execution_count": null,
   "id": "23f89100-db94-436a-8e34-f4ad6e286c07",
   "metadata": {},
   "outputs": [],
   "source": [
    "var = (x, 0.5, 1)\n",
    "y = line2(*var)\n",
    "y"
   ]
  },
  {
   "cell_type": "code",
   "execution_count": null,
   "id": "529f7567-2700-4e28-86a4-2881dad86f88",
   "metadata": {},
   "outputs": [],
   "source": [
    "params = (0.5, 1)\n",
    "y = line(x, *params)\n",
    "y"
   ]
  },
  {
   "cell_type": "code",
   "execution_count": null,
   "id": "7f3d6efb-c4b9-45f4-9eaf-fd06332c681f",
   "metadata": {},
   "outputs": [],
   "source": [
    "def line_w_kwargs(**kwargs):\n",
    "    y = [kwargs['a'] * xi + kwargs['b'] for xi in kwargs['x']]\n",
    "    return y"
   ]
  },
  {
   "cell_type": "code",
   "execution_count": null,
   "id": "6570a80a-29d8-46a6-9551-9cdd201de567",
   "metadata": {},
   "outputs": [],
   "source": [
    "kw = {'a':0.5, 'b':1, 'x':x}\n",
    "line_w_kwargs(**kw)"
   ]
  },
  {
   "cell_type": "code",
   "execution_count": null,
   "id": "4956b2d4-a947-4112-9352-18b0a20c4f66",
   "metadata": {},
   "outputs": [],
   "source": [
    "# You can also use a dictionnary with the arguments that are needed and use the unpacking operator to feed them to your function\n",
    "kw = {'a':0.5, 'b':1, 'x':x}\n",
    "line(**kw)"
   ]
  }
 ],
 "metadata": {
  "kernelspec": {
   "display_name": "Python [conda env:py3_lectures]",
   "language": "python",
   "name": "conda-env-py3_lectures-py"
  },
  "language_info": {
   "codemirror_mode": {
    "name": "ipython",
    "version": 3
   },
   "file_extension": ".py",
   "mimetype": "text/x-python",
   "name": "python",
   "nbconvert_exporter": "python",
   "pygments_lexer": "ipython3",
   "version": "3.7.12"
  }
 },
 "nbformat": 4,
 "nbformat_minor": 5
}
