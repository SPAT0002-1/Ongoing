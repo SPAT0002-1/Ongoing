{
 "cells": [
  {
   "cell_type": "markdown",
   "id": "cc81b2c8-115a-4a70-b2d8-e279b4f8dd70",
   "metadata": {},
   "source": [
    "# `Python` in a nutshell: Part 1"
   ]
  },
  {
   "cell_type": "markdown",
   "id": "012dbc40-c2ba-4ab5-99f8-7624094cd403",
   "metadata": {},
   "source": [
    "## Table of Content\n",
    "\n",
    "- [1. Landing on Planet Python](#III)\n",
    "    * 1.1 [Motivation](#IIIa)\n",
    "    * 1.2 [History](#IIIb)\n",
    "    * 1.3 [What is an interpreted language?](#IIIc)\n",
    "    * 1.4 [First steps](#IIId)\n",
    "    * 1.5 [Arithmetic operators](#1.5-Arithmetic-and-comparison-operators) \n",
    "    * 1.6 [Container objects](Python_in_a_nutshell_Part2.ipynb)\n",
    "        - 1.6.1 Lists\n",
    "        - 1.6.2 Sets\n",
    "        - 1.6.3 Tuples\n",
    "        - 1.6.4 Lists, sets and tuple methods\n",
    "        - 1.6.5 Dictionnaries\n",
    "    * 1.7 [Control flow statements](Python_in_a_nutshell_Part2.ipynb)\n",
    "        - 1.7.1 `if` statements\n",
    "        - 1.7.2 `for` loops\n",
    "        - 1.7.3 `while` loops\n",
    "        - 1.7.4 List comprehensions\n",
    "    * 1.8 [Scripts and functions](Scripts_and_functions.ipynb)\n",
    "    * 1.9 [Python coding recommendations](#IIIh)\n",
    "    * 1.10 [Summary](#1.10-Summary)\n",
    "    \n",
    "- [References and additional material](#References-and-Additional-material:)"
   ]
  },
  {
   "cell_type": "markdown",
   "id": "cad80ff3-ec38-449d-b0b7-7cc5a489371d",
   "metadata": {},
   "source": [
    "## 1. Landing on Planet Python <a class=\"anchor\" id=\"III\"></a>\n",
    "\n",
    "### 1.1 Why should we learn `python` ? <a class=\"anchor\" id=\"IIIa\"></a>\n",
    "\n",
    "Is it Yet Another Language ? No, this is, in my opinion, the most important programming language you should masterize before the end of your cursus. In the last (two) decade(s), `Python` became one of the most popular/used language in data science and in particular in astronomy. The reasons for this are rooted in several of the advantages of `Python`:\n",
    "- Readability\n",
    "- Flexibility\n",
    "- High-level language\n",
    "- Robust methods for binding with `C`, `C++` and `FORTRAN` libraries (speed, legacy)\n",
    "- Growing number of libraries (coordinated by a very active community) and modules dedicated to specific scientific problems\n",
    "- You can use basically one single scripting language for every task you may need to do in astronomy. \n",
    "- Data reduction for a growing number of space observatories are running in python. This is the case for ALMA ([CASA](https://casa.nrao.edu/) environment calls C/C++ programs within ipython), JWST (see [data reduction tools](https://jwst.stsci.edu/observing-programs/data-analysis-toolbox) develloped in python), `HST`, `Chandra` (there is `CIAO` modules for python), ... and many others. All the data reduction developped within iraf are available through `pyraf`. The only noticable exception remains `ESO` data reduction tools ... but `python` still allows you to analyze the data. So most of the time, you can *reduce* and *analyse* your data within the same environment ! You may even be able, some times, to query them through `python`.\n",
    "\n",
    "If you are not yet convinced, I encourage you to have a look to this Nature paper (Nature 518, 7537) by J.M. Perkel http://www.nature.com/news/programming-pick-up-python-1.16833?WT.ec_id=NATURE-20150206  \n",
    "The following quote from this paper summarizes what I have just said before: \n",
    "> \" With the explosive growth of 'big data' in disciplines such as bioinformatics, neuroscience and astronomy, programming know-how is becoming ever more crucial. Researchers who can write code in Python can deftly manage their data sets, and work much more efficiently on a whole host of research-related tasks — from crunching numbers to cleaning up, analysing and visualizing data. Whereas some programming languages, such as MATLAB and R, focus on mathematical and statistical operations, Python is a general-purpose language, along the lines of C and C++ (the languages in which much commercial software and operating systems are written). As such, it is perhaps more complicated, Brown says, but also more capable: it is amenable to everything from automating small sets of instructions, to building websites, to fully fledged applications.\""
   ]
  },
  {
   "cell_type": "markdown",
   "id": "07079e75-8a2c-4f55-b6e2-89d19dc2df13",
   "metadata": {},
   "source": [
    "### 1.2 An (ultra-) brief history   <a class=\"anchor\" id=\"IIIb\"></a>\n",
    "\n",
    "The inventor of this language is the Dutch programer Guido Van Rossum. It was conceptualized in the late 1980s. Guido van Rossum worked at that time in a project called Amoeba, a distributed operating system. He programmed in a language called ABC but was not fully happy with that language. \n",
    "\n",
    "Those more interested into the python history can look at the interview of Guido van Rossum by Bill Venners: https://www.artima.com/intv/  and at this presentation of the language by van Rossum: https://www.python.org/doc/essays/foreword/. \n",
    "\n",
    "In the latter one, you'll discover that the origin of the naming `Python` has nothing to do with the snake, but refers to the BBC show [Monty Python's Flying Circus](https://en.wikipedia.org/wiki/Monty_Python%27s_Flying_Circus) "
   ]
  },
  {
   "cell_type": "markdown",
   "id": "67ec1c77-111d-42db-aa42-65eb949749c3",
   "metadata": {},
   "source": [
    "### 1.3 Python is an interpreted language <a class=\"anchor\" id=\"IIIc\"></a>\n",
    "\n",
    "What does it mean? Programming languages are generally categorized in two classes: *compiled* and *interpreted*. `python` may be seen as an *interpreted* language (although at some level it is *compiled*). One speaks of **compiled** language when a code is executed natively through the operating system after an operation, called *compilation* that converts the original code into a code natively understandable by the machine. *Instead*, when the code is evaluated line by line through another program (which is NOT the OS) which handles its execution (in principle this execution is done in a language natively understood by the machine, also called *low-level* language) via *interpretation*, one speaks of an **interpreted** language. \n",
    "\n",
    "Why is this important ? Although a given language often exists in different flavours/implementations that are either interpreted or compiled, the difference has an impact on the language properties. \n",
    "\n",
    "#### Advantages of interpreted language:\n",
    "1. platform independence (you can easily transport a code from one machine to another\n",
    "2. dynamic typing / flexibility (you do not have to do \"compile/recompile/test/recompile\" all the time !; you can run individual commands without writing a full script.)\n",
    "3. ease of debugging (it is easier to get source code information in interpreted languages)\n",
    "4. small program size (since interpreted languages have flexibility to choose instruction code)\n",
    "5. automatic memory management    \n",
    "\n",
    "#### Disadvantages of interpreted language: \n",
    "1. Speed\n",
    "2. Speed\n",
    "3. Speed\n",
    "\n",
    "`Python` is effectively a (very) high-level language, which means that there is *a lot* of built-in data-types (and we will spend most of the remaining of this class to go though the most important ones: arrays, dictionnary, lists). This variety of data types is part of the reason why python became so popular as it can deal easily with many different kind of input/outputs. \n",
    "\n",
    "Examples of compiled/interpreted languages:    \n",
    "\n",
    "| Name | Category |\n",
    "|:-----|:---------|\n",
    "| C/C++| Compiled |\n",
    "| Fortran | Compiled |\n",
    "| Perl | Interpreted |\n",
    "| Python | Interpreted (but compiled to byte code) |\n",
    "| MATLAB  | Interpreted | \n"
   ]
  },
  {
   "cell_type": "markdown",
   "id": "33084c97-c453-4ae2-adab-64d4c89b0f84",
   "metadata": {},
   "source": [
    "### 1.4 First steps  <a class=\"anchor\" id=\"IIId\"></a>\n",
    "\n",
    "*When do we start ?*  Now.    \n",
    "We have two ways to run python, either interactively, or from scripts. *Interactive* use is favoured when you want to do small exploratory analysis, test part of codes, visualise some results, while scripts will be used in general to run (and re-run) more complex programs. For now, we will only use *interactive* mode, within `jupyter notebooks`. An overview of other ways for using python is outlined in this [Notebook](Scripts_IDEs_and_Jupyter.ipynb).     "
   ]
  },
  {
   "cell_type": "code",
   "execution_count": null,
   "id": "6d28758a-debd-4f16-b28e-1124fa32cd6b",
   "metadata": {
    "nbpresent": {
     "id": "7b99bace-8929-4e92-bf9f-3fd2bc2ffdea"
    }
   },
   "outputs": [],
   "source": [
    "# Use this cell to experiment typing commands.\n",
    "print(\"Hello\")  # comment "
   ]
  },
  {
   "cell_type": "code",
   "execution_count": null,
   "id": "2b72caff-7705-4a67-84ae-efb4c5c1f996",
   "metadata": {},
   "outputs": [],
   "source": [
    "# Note that the following also works\n",
    "\"Hello world! \""
   ]
  },
  {
   "cell_type": "markdown",
   "id": "dd7a64f9-8700-4b9b-82ed-1c0539f2bedd",
   "metadata": {},
   "source": [
    "There is is general no need to declare a variable type before using it. Let's try the following `python` command:   \n",
    "\n",
    "``` python\n",
    "x = 10\n",
    "x\n",
    "\n",
    "Out[1]: 10\n",
    "```"
   ]
  },
  {
   "cell_type": "code",
   "execution_count": null,
   "id": "daa8f1cb-a350-49c1-8cac-81295a337dcd",
   "metadata": {},
   "outputs": [],
   "source": [
    "# try other commands \n",
    "x = 10"
   ]
  },
  {
   "cell_type": "code",
   "execution_count": null,
   "id": "d9627d3f-ded5-4f83-8179-86afaec1f59e",
   "metadata": {},
   "outputs": [],
   "source": []
  },
  {
   "cell_type": "code",
   "execution_count": null,
   "id": "43427496-bb80-412e-b6a2-b87c0480175d",
   "metadata": {},
   "outputs": [],
   "source": [
    "print(x)"
   ]
  },
  {
   "cell_type": "markdown",
   "id": "793150b9-916c-4a99-afde-8beee1de613e",
   "metadata": {},
   "source": [
    "It is important to note that in `python`, variables are *CASE sensitive*, so `x` and `X` refer to two *different* objects."
   ]
  },
  {
   "cell_type": "code",
   "execution_count": null,
   "id": "b54aa3bb-50cf-438a-870c-f959c9644f46",
   "metadata": {},
   "outputs": [],
   "source": []
  },
  {
   "cell_type": "code",
   "execution_count": null,
   "id": "1be0a73e-74e7-4d67-b214-5285042f8da7",
   "metadata": {},
   "outputs": [],
   "source": []
  },
  {
   "cell_type": "markdown",
   "id": "c573e38a-1d04-4efa-b662-d25ddb946c0d",
   "metadata": {},
   "source": [
    "You can also print the result of an operation and some text, separating the objects to be printed with `,`:\n",
    "``` python\n",
    "print('Result=', x/2) \n",
    "\n",
    "```\n",
    "\n",
    "You have also a possibility to format the output (we'll see this in more details later):\n",
    "\n",
    "``` python\n",
    "print('Result= %.2f, %.i' %(x, x/2) )   # .2f = float with 2 digits ; .i = integer\n",
    "\n",
    "```"
   ]
  },
  {
   "cell_type": "code",
   "execution_count": null,
   "id": "b9cbb7f9-95c5-4632-9884-5a1e971bffd2",
   "metadata": {},
   "outputs": [],
   "source": []
  },
  {
   "cell_type": "markdown",
   "id": "2c2071f6-9f77-41bd-9393-ef33597a7055",
   "metadata": {},
   "source": [
    "**Notes**: \n",
    "- If you use version 2 of python, you'll type `print \"mytext\"` , but with version 3 of python, you need to type `print(\"mytext\")`. \n",
    "- Operations work as expected. Note however a difference of behaviour between python 2 and 3 for the DIVISION of two integers: it gives an integer (3/2 = 1) in python 2, but a float in python 3. To get a float, you can convert number into float (float(x) or add a `.` after integers to define them as floats (`3` is an integer but `2.` is a float).\n",
    "- Unless `r` or `R` is preceding a string, escape sequences *in strings* are interpreted according to rules similar to standard `C`. The most common escape sequences are `\"\\n\"` (adds a new line at the end of the string), `\"\\t\"` (adds a tab), `\"\\b\"` (Backspace). Note that typing in an interactive shell `\"Hello \\n\"`, or`print(r\"Hello \\n\")` wont' have the same effect. When `r` or prefix is preceding the string, the backslash is left in the string. See https://docs.python.org/3/library/stdtypes.html for more details regarding string formatting. (We'll come back to strings and number formatting later). "
   ]
  },
  {
   "cell_type": "markdown",
   "id": "6ef8db1f-f444-4e30-91d4-b71b3070af26",
   "metadata": {},
   "source": [
    "#### Algebraic operations\n",
    "\n",
    "The operators `+`, `-`,`*` and `/`work just like in most other languages. To take the power of a number, you should use `**`. "
   ]
  },
  {
   "cell_type": "code",
   "execution_count": null,
   "id": "992afe58-35ad-416b-b4ab-8fb53b175b8c",
   "metadata": {},
   "outputs": [],
   "source": [
    "# Try it out \n"
   ]
  },
  {
   "cell_type": "code",
   "execution_count": null,
   "id": "cf61ed71-6585-4495-a4bc-8080bef01714",
   "metadata": {},
   "outputs": [],
   "source": []
  },
  {
   "cell_type": "markdown",
   "id": "b85f4486-f9b4-4acb-826e-a57d49bf52c2",
   "metadata": {},
   "source": [
    "The integer numbers (e.g. 2, 4, 20) have type `int`, the ones with a fractional part (e.g. 5.0, 1.6) have type `float`. You can know the type of a variable simply by typing: \n",
    "``` python \n",
    "my_variable = 2.\n",
    "type(my_variable)\n",
    "\n",
    "Out[]: float\n",
    "```"
   ]
  },
  {
   "cell_type": "code",
   "execution_count": null,
   "id": "5bd1afe7-f9a4-4675-9010-4946004791b8",
   "metadata": {},
   "outputs": [],
   "source": []
  },
  {
   "cell_type": "code",
   "execution_count": null,
   "id": "3e2b143e-1845-482a-a125-e07195e07c19",
   "metadata": {},
   "outputs": [],
   "source": []
  },
  {
   "cell_type": "code",
   "execution_count": null,
   "id": "464da6da-94ef-40e1-8b0c-164abec27727",
   "metadata": {},
   "outputs": [],
   "source": []
  },
  {
   "cell_type": "markdown",
   "id": "30e19d35-cb64-49fc-aa9b-c0baddfaf4e4",
   "metadata": {},
   "source": [
    "#### Variable types\n",
    "\n",
    "The main types of numbers are `float`, `int`, `complex`.   \n",
    "By default, if you do not use the `.` after a digit, the variable will be an integer. It will otherwise be a float. \n",
    "\n",
    "##### Syntax: \n",
    "\n",
    "Explicit syntax: \n",
    "\n",
    "``` python \n",
    "# complex\n",
    "complex([real[, imag]])\n",
    "# Float\n",
    "float(number)\n",
    "# Integer\n",
    "int(number)\n",
    "```\n",
    "\n",
    "Implicit syntax:   \n",
    "``` python\n",
    "# complex\n",
    "c = real + imaginary * j\n",
    "# float\n",
    "f = 3.\n",
    "# integer\n",
    "i = 3\n",
    "```"
   ]
  },
  {
   "cell_type": "code",
   "execution_count": null,
   "id": "5e04cf3e-d963-4ebc-b423-b59f5264f817",
   "metadata": {},
   "outputs": [
    {
     "name": "stdout",
     "output_type": "stream",
     "text": [
      "<class 'complex'>\n",
      "(4+7j)\n"
     ]
    }
   ],
   "source": [
    "# write a complex number \n",
    "c = 4 +7j\n",
    "print(type(c))\n",
    "print(c)"
   ]
  },
  {
   "cell_type": "code",
   "execution_count": null,
   "id": "ab79377c-05a3-49ea-9349-8e525ced8af5",
   "metadata": {},
   "outputs": [],
   "source": [
    "# ANother way to define a complex number \n",
    "c1 = complex(4,7)\n",
    "print(type(c1))\n",
    "print(c1)"
   ]
  },
  {
   "cell_type": "code",
   "execution_count": null,
   "id": "84b3292d-8d4d-41ae-b776-a508ca458a5e",
   "metadata": {},
   "outputs": [],
   "source": []
  },
  {
   "cell_type": "markdown",
   "id": "c71d623c-1147-4661-9b31-a0b29a3f11a9",
   "metadata": {},
   "source": [
    "You can convert a float to an integer"
   ]
  },
  {
   "cell_type": "code",
   "execution_count": null,
   "id": "7ad3ad84-d233-4b2f-9e7e-f2535d6904dd",
   "metadata": {},
   "outputs": [],
   "source": []
  },
  {
   "cell_type": "markdown",
   "id": "16ce5ff7-d23f-47dd-970e-44549f96126a",
   "metadata": {},
   "source": [
    "`Boolean` is another important variable type. \n",
    "\n",
    "```python \n",
    "False = bool(0)\n",
    "True = bool(1)\n",
    "# implicit definition\n",
    "b = True\n",
    "```"
   ]
  },
  {
   "cell_type": "code",
   "execution_count": null,
   "id": "90f3329e-c452-4b6a-ad69-8a0458f0384b",
   "metadata": {},
   "outputs": [],
   "source": [
    "bool(1), bool(0)"
   ]
  },
  {
   "cell_type": "markdown",
   "id": "2d87eaba-26e4-42fa-b722-8f13f13bbf25",
   "metadata": {},
   "source": [
    "#### The `None` keyword\n",
    "\n",
    "The `None` keyword is used to define a null value, or no value at all.\n",
    "None is **not** the same as `0`,  `False`, or an `empty` string. `None` is a data type of its own (`NoneType`) and only `None` can be `None`."
   ]
  },
  {
   "cell_type": "code",
   "execution_count": null,
   "id": "f59fc6d3-1592-41b7-a4c8-27211a20aa25",
   "metadata": {},
   "outputs": [],
   "source": [
    "a = None\n",
    "type(a) "
   ]
  },
  {
   "cell_type": "markdown",
   "id": "e0464623-1946-42cf-9034-76adb631b154",
   "metadata": {},
   "source": [
    "### 1.5 Arithmetic and comparison operators\n",
    "\n",
    "On top of the 4 classical operations, modulus division is `%`, floor division is `//` and exponent is `**`. The following table summarizes the different operations. \n",
    "\n",
    "In the following examples, `a=10`, `b=20`.\n",
    "\n",
    "|Operator \t| Name | Description |\tExample   |\n",
    "|-----------|-------|------|-----------|\n",
    "| `+` | Addition \t| Adds values on either side of the operator. | \t`a + b = 30`  |\n",
    "| `-` | Subtraction |\tSubtracts right hand operand from left hand operand. |\t`a – b = -10` | \n",
    "| `*` | Multiplication |\tMultiplies values on either side of the operator  |\t`a * b = 200` | \n",
    "| `/` | Division \t| Divides left hand operand by right hand operand |\t`b / a = 2` |\n",
    "| `%` | Modulus \t| Divides left hand operand by right hand operand and returns remainder |\t`b % a = 0` | \n",
    "| `**` | Exponent |\tPerforms exponential (power) calculation on operators |\t`a**b =` $10^{20}$ |\n",
    "| `//` | Floor Division | The division of operands where the result is the quotient in which the digits after the decimal point are removed. But if one of the operands is negative, the result is floored, i.e., rounded away from zero (towards negative infinity) | \t`9//2 = 4` and `9.0//2.0 = 4.0`, `-11//3 = -4`, `-11.0//3 = -4.0` |\n",
    "\n",
    "Comparison operators are like in `C` programming language.    \n",
    "\n",
    "\n",
    "|Operator \t| Description |\tExample |\n",
    "|-----------|-------------|---------|\n",
    "|`==` | \tIf the values of two operands are equal, then the condition becomes true. |\t`(a == b)` is False |\n",
    "| `!=` |\tIf values of two operands are not equal, then condition becomes true. \t| `(a != b)` is True. |\n",
    "| `>` \t| If the value of left operand is greater than the value of right operand, then condition becomes true. | \t`(a > b)` is False. | \n",
    "| `<` \t| If the value of left operand is less than the value of right operand, then condition becomes true. \t| `(a < b)` is True. | \n",
    "| `>=` \t| If the value of left operand is greater than or equal to the value of right operand, then condition becomes true.| \t`(a >= b)` is False. | \n",
    "| `<= `|\tIf the value of left operand is less than or equal to the value of right operand, then condition becomes true. \t| `(a <= b)` is True.| \n"
   ]
  },
  {
   "cell_type": "code",
   "execution_count": null,
   "id": "c74c0b7f-0c8b-423e-98bc-774be289d5a6",
   "metadata": {},
   "outputs": [],
   "source": [
    "# Try out the operators \n",
    "a = 3.2\n",
    "b = 3. \n",
    "c = 3.2 \n",
    "print('a = ', a, 'b = ', b, 'c = ', c)\n",
    "print(' a != b:', a != b, '\\n a == c:', a == c,  '\\n a <= c:', a <= c)"
   ]
  },
  {
   "cell_type": "markdown",
   "id": "b21068dc-d01a-4484-bc34-6cc0be4820e9",
   "metadata": {
    "nbpresent": {
     "id": "9abbe30e-5f03-4178-8587-c33eab2fc3df"
    }
   },
   "source": [
    "## Summary\n",
    "\n",
    "\n",
    "We have seen that `python` is a multi-paradigm language, namely both *interpreted* and *compiled*. This is the reason why it is very versatile, portable and powerful.  \n",
    "We have learned about: \n",
    "- The main variable types (`int`, `float`, `string`, `complex`), but also the `None` keyword (the unique member of the type `NoneType`) \n",
    "- The main operators: Quite standard. Remember that the exponent is `**` \n",
    "- The main comparison operators. Quite standard. For instance, remember that '==' is used for testing an equality. "
   ]
  },
  {
   "cell_type": "markdown",
   "id": "40563e25-782e-458d-986c-03a8c9803324",
   "metadata": {
    "nbpresent": {
     "id": "f13ef757-04a6-4b88-b7f9-9e5dc8d65e8d"
    }
   },
   "source": [
    "## References and Additional material:  \n",
    "\n",
    "**Appendix A** of the book *Statistics, data mining and Machine learning in astronomy* by Z. Ivezic et al. in Princeton Series in Modern Astronomy.  \n",
    "\n",
    "Other useful references to know more about the topics covered in this class: \n",
    "\n",
    "* Introduction to python and solid references:  \n",
    "    - An Introduction to Python - The Python Tutorial by Guido van Rossum (python creator) and Fred L. Drake, Jr. https://docs.python.org/3/tutorial/index.html\n",
    "    - Python for astronomers course http://python4esac.github.io/  written by Tom Aldcroft, Tom Robitaille, Brian Refsdal, Gus Muench (Copyright 2011, Smithsonian Astrophysical Observatory; Creative common license), and their version adapted by  Eli Bressert, Neil Creighton and Pieter Degroote : http://www.ster.kuleuven.be/~pieterd/python/html/index.html\n",
    "    - Python web-tutorial written by Bernd Klein: https://python-course.eu/python-tutorial/\n",
    "    - Visual way to see how a code is running and how objects are called and filled  http://www.pythontutor.com/visualize.html#mode=edit\n",
    "    - Concise overview of python capabilities (containers, variable types, operators, ...): https://www.tutorialspoint.com/python/index.htm\n",
    "    - Style guide for python coding: https://www.python.org/dev/peps/pep-0008/\n",
    "    - args and kwargs: https://realpython.com/python-kwargs-and-args/\n",
    "    \n",
    "* Jupyter Notebooks (we'll go in more details in a future [lecture](Jupyter.ipynb)): \n",
    "    - General: https://www.datacamp.com/community/tutorials/tutorial-jupyter-notebook#gs.HoI=454\n",
    "    - Syntax: https://guides.github.com/features/mastering-markdown/\n",
    "    - Youtube video: https://www.youtube.com/embed/inN8seMm7UI\n",
    "\n",
    "* About interpreted/compiled language:   \n",
    "    - General: https://thesocietea.org/2015/07/programming-concepts-compiled-and-interpreted-languages/  \n"
   ]
  },
  {
   "cell_type": "code",
   "execution_count": null,
   "id": "198dff53-9256-45f3-b8ea-4e6158181b03",
   "metadata": {},
   "outputs": [],
   "source": []
  }
 ],
 "metadata": {
  "kernelspec": {
   "display_name": "Python [conda env:py3_lectures]",
   "language": "python",
   "name": "conda-env-py3_lectures-py"
  },
  "language_info": {
   "codemirror_mode": {
    "name": "ipython",
    "version": 3
   },
   "file_extension": ".py",
   "mimetype": "text/x-python",
   "name": "python",
   "nbconvert_exporter": "python",
   "pygments_lexer": "ipython3",
   "version": "3.7.12"
  }
 },
 "nbformat": 4,
 "nbformat_minor": 5
}
