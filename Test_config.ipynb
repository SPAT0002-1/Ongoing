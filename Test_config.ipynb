{
 "cells": [
  {
   "cell_type": "markdown",
   "metadata": {},
   "source": [
    "This notebook aims at checking that all the modules (libraries) used in this lecture are installed on your machine\n",
    "\n",
    "A simple way to run multiple python installations or set of libraries is by using virtual environment. `Conda` enable a simple management of virtual environments on YOUR machine. \n",
    "\n",
    "Within conda, the following command will enable you to install the main packages / librarires needed for this lecture within a new specific environment (We call this environment py_SPAT0002 herebelow, but feel free to chose another name ; DO NOT RUN THIS ON the local desktop provided in the compture room): \n",
    "\n",
    "``` sh\n",
    "conda create --name py_SPAT0002 python=3.11 numpy scipy matplotlib astropy scikit-learn emcee pandas seaborn -c conda-forge \n",
    "conda activate py_SPAT0002\n",
    "pip install astroML\n",
    "# To have the kernel appearing in a notebook, it may be needed to do the following\n",
    "conda install ipykernel nb_conda_kernels \n",
    "```"
   ]
  },
  {
   "cell_type": "code",
   "execution_count": 1,
   "metadata": {},
   "outputs": [
    {
     "name": "stdout",
     "output_type": "stream",
     "text": [
      "3.7.11 (default, Sep 23 2021, 15:10:44) \n",
      "[Clang 10.0.0 ]\n"
     ]
    }
   ],
   "source": [
    "# Check python version\n",
    "import sys\n",
    "print(sys.version)"
   ]
  },
  {
   "cell_type": "code",
   "execution_count": 2,
   "metadata": {},
   "outputs": [
    {
     "name": "stdout",
     "output_type": "stream",
     "text": [
      "numpy: \n",
      "1.21.4\n",
      "scipy: \n",
      "1.7.2\n",
      "matplotlib: \n",
      "3.1.2\n",
      "sklearn: \n",
      "1.0.1\n",
      "astropy: \n",
      "4.3.1\n",
      "emcee: \n",
      "3.1.1\n",
      "os Installed\n",
      "subprocess Installed\n",
      "sys Installed\n",
      "random Installed\n",
      "************Optional modules************\n",
      "astroML: \n",
      "0.4.1\n",
      "corner: \n",
      "2.2.1\n",
      "ipywidgets: \n",
      "7.6.5\n"
     ]
    }
   ],
   "source": [
    "module_list = ['numpy', 'scipy','matplotlib', 'sklearn', 'astropy', 'emcee', 'os', 'subprocess', 'sys', 'random']\n",
    "optional_list = ['astroML', 'corner', 'ipywidgets']\n",
    "for module in module_list:\n",
    "    try:\n",
    "        exec('import ' + module)\n",
    "        if (module != 'os') & (module != 'subprocess') & (module != 'sys') & (module != 'random'):\n",
    "            print(module+': ')\n",
    "            exec('print(%s.__version__)'%module)\n",
    "        else:\n",
    "            print(module + ' Installed')\n",
    "    except:\n",
    "        print(module + ' not available')\n",
    "        \n",
    "print('{0:*^40}'.format('Optional modules'))\n",
    "for module in optional_list:\n",
    "    try:\n",
    "        exec('import ' + module)\n",
    "        print(module+': ')\n",
    "        exec('print(%s.__version__)'%module)\n",
    "    except:\n",
    "        print(module + ' not available')\n",
    "        "
   ]
  },
  {
   "cell_type": "code",
   "execution_count": null,
   "metadata": {},
   "outputs": [],
   "source": []
  }
 ],
 "metadata": {
  "kernelspec": {
   "display_name": "Python [conda env:py3_lectures]",
   "language": "python",
   "name": "conda-env-py3_lectures-py"
  },
  "language_info": {
   "codemirror_mode": {
    "name": "ipython",
    "version": 3
   },
   "file_extension": ".py",
   "mimetype": "text/x-python",
   "name": "python",
   "nbconvert_exporter": "python",
   "pygments_lexer": "ipython3",
   "version": "3.7.12"
  }
 },
 "nbformat": 4,
 "nbformat_minor": 4
}
