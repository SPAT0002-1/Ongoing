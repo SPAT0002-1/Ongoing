{
 "cells": [
  {
   "cell_type": "markdown",
   "metadata": {},
   "source": [
    "# Introduction to `matplotlib`"
   ]
  },
  {
   "cell_type": "markdown",
   "metadata": {},
   "source": [
    "This Notebook provides an overview of the capabilities of the `matplotlib` module. It covers Sect. III of [Modules_in__python.ipynb](Modules_in__python.ipynb). \n",
    "\n",
    "## Table of Content\n",
    "\n",
    "[III. Matplotlib](#III)\n",
    "- [III.1 Simple plot](#III.1)\n",
    "- [III.2 A bit more advanced plotting](#III.2)\n",
    "    * [III.2.1 Plot properties](#III.2.1)\n",
    "    * [III.2.2 Create multiple subplots](#III.2.2)\n",
    "    * [III.2.3 Twin axes](#III.2.3)\n",
    "    * [III.2.4 Export your figure](#III.2.4)\n",
    "    * [III.2.5 Import styling options for your figure](#III.2.5)\n",
    "- [III.3 References](#VI)"
   ]
  },
  {
   "cell_type": "markdown",
   "metadata": {},
   "source": [
    "## III. `matplotlib`: Visualisation with python   <a class=\"anchor\" id=\"III\"></a>\n",
    "\n",
    "For now, we have basically only used in-line coding and reading/writing results at screen/in files. This is nice but for an interactive language one would like to be able to visualise/plot results easily, without using other software. Even better, one would like to be able to generate publishing-quality figures. This capability to visualize data/results with a high flexibility and generate the figures you will present in your paper/report/poster is fortunatelly also one of the strengths of `Python` ... People sometimes complain that generating figures that match exactly what you aim at is not always easy ... This is *partly* true. As you'll see below, you can already do a lot with the basic commands you have access with matplotlib.\n",
    "\n",
    "*What is `matplotlib` ?* Matplotlib is a python 2-d plotting library which produces publication quality figures in a variety of formats and interactive environments across platforms. Matplotlib can be used in Python scripts, the Python and IPython shell, web application servers, and six graphical user interface toolkits. A good way to see the matplotlib capabilities is to skim through the [documentation](https://matplotlib.org/), and more specifically have a look to the [Thumbnail gallery](https://matplotlib.org/stable/gallery/index). See the Section [References](#VI) of this notebook to find more specific links to Matplotlib documentation.\n",
    "\n",
    "In order to be able to plot a figure, you may import the `pyplot` package using \n",
    "``` python\n",
    "import matplotlib.pyplot as plt\n",
    "```\n",
    "This package gives you access to set of commands that are similar to `MATLAB` commands. \n",
    "In addition, within a `JuPyter` notebook, you may want to see your figure within your notebook. For this purpose, you need (e.g. at the begining of your notebook, or before making your first figure) use the `magic` command\n",
    "``` python\n",
    "%matplotlib inline\n",
    "```"
   ]
  },
  {
   "cell_type": "code",
   "execution_count": null,
   "metadata": {},
   "outputs": [],
   "source": [
    "%matplotlib inline\n",
    "import matplotlib.pyplot as plt\n",
    "import numpy as np"
   ]
  },
  {
   "cell_type": "markdown",
   "metadata": {},
   "source": [
    "You may use another *backend* (a \"program\" that is used behind the scene, in the back of \"python-store\") to plot your figure. Type `%matplotlib -list` to see the various possibilities. One needs to experiment to see what is localy available (while \"inline\" should generally work and allows you to keep your figure in the notebook, which is useful to share your work). If you want to make interactive plots, I advise you to do them within an `IPython` console (but/even if this can be done within jupyter as well, e.g. with `%matplotlib notebook`).  \n",
    "\n",
    "Note that it is common to use the alias `plt` to import matplotlib.pyplot:\n",
    "``` python\n",
    "import matplotlib.pyplot as plt  # set plt as alias for matplotlib.pyplot\n",
    "plt.plot([1,2], [3,4])\n",
    "```\n",
    "\n",
    "This is good practice for writing scripts and programs, since it is clear that the plot command is from the `matplotlib.pyplot` package. We’ll adopt this alias for the examples in this course and you will generally find it on internet. "
   ]
  },
  {
   "cell_type": "markdown",
   "metadata": {},
   "source": [
    "### III.1 Simple plot <a class=\"anchor\" id=\"III.1\"></a>\n",
    "\n",
    "Once you have imported pyplot, plotting a figure showing e.g. a line with coordinates `x=np.arange(10)`, and `y = 2. * x + 1.` is as simple as:"
   ]
  },
  {
   "cell_type": "code",
   "execution_count": null,
   "metadata": {},
   "outputs": [],
   "source": [
    "x = np.arange(10)\n",
    "y = 2. * x + 1.    \n",
    "plt.plot(x, y, '-.', x+3, y, '-.')\n",
    "plt.xlabel('x')\n",
    "plt.ylabel('y')"
   ]
  },
  {
   "cell_type": "markdown",
   "metadata": {},
   "source": [
    "Note that if you do simply `plot(y)`, you will also get an answer: the x axis will then be assumed to be a sequence of same length as y, and starting at 0.   \n",
    "\n",
    "You have basically four different ways to call `plot()` without looking too much into the details to its arguments:\n",
    "``` python\n",
    "plt.plot(y)   # assumes x = np.arange(len(y))\n",
    "plt.plot(x, y) # Assumes solid line styles\n",
    "plt.plot(x, y, 'd') # The third argument is the linestyle\n",
    "plt.plot(x1, y1, 'd', x2, y2, '3', x3, y3, '--')  # plot n different sets of of curves with n different linestyles (here n=3)\n",
    "```\n",
    "you may sometimes also need to add `plt.show()` to visualize your plot. This is now often implicit when Ipython is loaded with option --matplotlib or --pylab, but if you do not see your plotting window popping up, this may mean that you need to use `plt.show()`\n",
    "\n",
    "Finally, as a figure without axis name does not make much sense, you can add labels to abcissa and ordinate axis using:\n",
    "``` python\n",
    "plt.xlabel('My x quantity')\n",
    "plt.ylabel('My y quantity')\n",
    "```"
   ]
  },
  {
   "cell_type": "code",
   "execution_count": null,
   "metadata": {},
   "outputs": [],
   "source": [
    "# Try out the above plotting commands "
   ]
  },
  {
   "cell_type": "markdown",
   "metadata": {},
   "source": [
    "Who said plotting with python is complicated ? Basic plotting is rather simple, and you can customize your plot a bit more using various plotting optional parameters as arguments of the function plot:"
   ]
  },
  {
   "cell_type": "markdown",
   "metadata": {},
   "source": [
    "#### Set the color using *color* (or *c*)"
   ]
  },
  {
   "cell_type": "code",
   "execution_count": null,
   "metadata": {},
   "outputs": [],
   "source": [
    "plt.plot(x1, y1, '-', color='red')   # main colors are 'b', 'g', 'r', 'c', 'm', 'y', 'k', 'w' for blue, green, red, ..."
   ]
  },
  {
   "cell_type": "markdown",
   "metadata": {},
   "source": [
    "#### Set the line width using *linewidth* (or *lw*)"
   ]
  },
  {
   "cell_type": "code",
   "execution_count": null,
   "metadata": {},
   "outputs": [],
   "source": [
    "plt.plot(x1, y1, lw=5)  "
   ]
  },
  {
   "cell_type": "markdown",
   "metadata": {},
   "source": [
    "#### Set the line transparency using parameter *alpha*"
   ]
  },
  {
   "cell_type": "code",
   "execution_count": null,
   "metadata": {},
   "outputs": [],
   "source": [
    "plt.plot(x1, y1-1., '-', lw=4, alpha=0.2)\n",
    "plt.plot(x1, y1, '-', lw=4, alpha=1.) "
   ]
  },
  {
   "cell_type": "markdown",
   "metadata": {},
   "source": [
    "#### Add a *legend* for each line by associating a label to it and then do `plt.legend()`"
   ]
  },
  {
   "cell_type": "code",
   "execution_count": null,
   "metadata": {},
   "outputs": [],
   "source": [
    "plt.plot(x1, y1) # , label=\"line 1\")\n",
    "plt.plot(x1+2, y1)\n",
    "#plt.legend()\n",
    "plt.legend(['line1', 'line2'], loc='best')  # loc is for location: see help of plt.legend()"
   ]
  },
  {
   "cell_type": "markdown",
   "metadata": {},
   "source": [
    "#### Use special characters (latex style) by adding `r` or `R` before your string and call math character with '$$'"
   ]
  },
  {
   "cell_type": "code",
   "execution_count": null,
   "metadata": {},
   "outputs": [],
   "source": [
    "plt.plot(x1, y1, color='g', lw=2, ls=\"-.\")\n",
    "plt.xlabel(r\"$\\sigma$\")"
   ]
  },
  {
   "cell_type": "markdown",
   "metadata": {},
   "source": [
    "#### Set limits of your plot: `plt.xlim()`, `plt.ylim()`"
   ]
  },
  {
   "cell_type": "code",
   "execution_count": null,
   "metadata": {},
   "outputs": [],
   "source": [
    "plt.plot(x1, y1, color='g', lw=2, ls=\"-.\")\n",
    "plt.xlim(5, 10)\n",
    "plt.ylim(y1.min() - 1., y1.max() + 1.)"
   ]
  },
  {
   "cell_type": "markdown",
   "metadata": {},
   "source": [
    "#### set ticks location and label: `plt.xticks(), plt.yticks()`"
   ]
  },
  {
   "cell_type": "code",
   "execution_count": null,
   "metadata": {},
   "outputs": [],
   "source": [
    "plt.plot(x1, y1, color='g', lw=2, ls=\"-.\")\n",
    "plt.xticks([2,4,6,8], ['two', 'four', 'six', 'height'])\n",
    "plt.yticks([0,1,2,5], ['zero', 'one', '2.00', '5E1'])"
   ]
  },
  {
   "cell_type": "markdown",
   "metadata": {},
   "source": [
    "#### Add some text at a specific position: `plt.text()`"
   ]
  },
  {
   "cell_type": "code",
   "execution_count": null,
   "metadata": {},
   "outputs": [],
   "source": [
    "plt.plot(x1, y1, color='g', lw=2, ls=\"-.\")\n",
    "plt.text(1,2, 'Waw !')"
   ]
  },
  {
   "cell_type": "markdown",
   "metadata": {},
   "source": [
    "#### Add a title to your plot: `plt.title()`"
   ]
  },
  {
   "cell_type": "code",
   "execution_count": null,
   "metadata": {},
   "outputs": [],
   "source": [
    "plt.title('What a wonderful plot (humm)')"
   ]
  },
  {
   "cell_type": "markdown",
   "metadata": {},
   "source": [
    "#### Use log scale: `plt.xscale()`, `plt.yscale()`"
   ]
  },
  {
   "cell_type": "code",
   "execution_count": null,
   "metadata": {},
   "outputs": [],
   "source": [
    "x = np.logspace(0.1, 1, 10)\n",
    "y = np.log10(x)\n",
    "plt.plot(x,y)\n",
    "plt.xscale('log')"
   ]
  },
  {
   "cell_type": "markdown",
   "metadata": {},
   "source": [
    "#### Create, clear and/or close a figure: `plt.figure()`, `plt.clf()`, `plt.close()`\n",
    "\n",
    "- `f = plt.figure()` creates a new figure object `f` with options you can specify (e.g. figsize=(w, h), num). \n",
    "- `plt.clf()` (i.e. clear figure) *empty* your figure, and make it ready for a new plot.   \n",
    "- `plt.close()` removes any internal reference to your figure (if you create a figure `fig = plt.figure()`, `fig = plt.figure()`, python will give different numbers to each figure and so keep both in memory). Hence, if you plot many figures, close your figure once not used to free memory. If you do it within Jupyter, your figure will not appear at the screen (but you may be able to [save it](#III.2.4) into an exernal file before closing it). Use `plt.close('all')` to close ALL your figures, or give the figure name (e.g. `f` in the example above, or id, to close a specific figure. "
   ]
  },
  {
   "cell_type": "code",
   "execution_count": null,
   "metadata": {},
   "outputs": [],
   "source": [
    "# What will be the output of the following command lines ? \n",
    "# (guess before printing enter)\n",
    "fig = plt.figure()\n",
    "plt.plot(x,y)\n",
    "plt.plot(np.arange(6))\n",
    "\n",
    "fig = plt.figure()\n",
    "plt.plot(np.arange(6))\n",
    "plt.clf()\n",
    "plt.plot(x,y)\n",
    "plt.savefig('nicefig.pdf', dpi=200, format='pdf' )\n",
    "plt.close(fig)\n",
    "# Comment the last line and re-run the cell"
   ]
  },
  {
   "cell_type": "markdown",
   "metadata": {},
   "source": [
    "### Summary\n",
    "\n",
    "- To make a plot, we need first to import the `matplotlib.pyplot` (`as plt`). If you are in jupyter, use the `magic` command `%matplotlib inline` to be able to see your plot in your browser. \n",
    "- For simple plots (i.e. to quickly visualize the results of an operation) you may use `plt.plot()`, filling the functions with the parameters you want to change (linesize, linewidth, color, alpha, label). \n",
    "- There are series of methods to modify some of the main properties of your plot: add a label (`plt.xlabel`/`plt.ylabel`), add a title (`plt.title`), change the plotting limits (`plt.xlim`, `plt.ylim`), modify the ticks (`plt.xticks`, `plt.yticks`), add text (`plt.text`), add a legend (`plt.legend()`). \n",
    "- Use `plt.clf()` to clear the content of a figure, and `plt.close()` to close a figure. "
   ]
  },
  {
   "cell_type": "markdown",
   "metadata": {},
   "source": [
    "### III.2 A bit more advanced plotting <a class=\"anchor\" id=\"III.2\"></a>\n",
    "\n",
    "You can also do many different kind of \"simple plots\" like:\n",
    "- Scatter plot `plt.scatter(x, y, s, c)` (s=pt size, c=color, sequence of colors or sequence of numbers)\n",
    "- Plot with errorbars: `plt.errorbar(x, y, yerr, xerr)`\n",
    "- Plot values in a 2D-array: `plt.imshow(X, aspect='equal', interpolation='nearest')`   (X is a 2D array)\n",
    "- Calculate an histogram and plot it on-the-fly: `plt.hist(x, bins=20, range=[your_min, your_max])`  (bins is number of bins)\n",
    "- Plot a step function: `plt.step(x, y)`  (x is assumed to be uniformly increasing)\n"
   ]
  },
  {
   "cell_type": "code",
   "execution_count": null,
   "metadata": {},
   "outputs": [],
   "source": [
    "# Experiment with scatter plot, error bars, imshow, hist and step"
   ]
  },
  {
   "cell_type": "code",
   "execution_count": null,
   "metadata": {},
   "outputs": [],
   "source": []
  },
  {
   "cell_type": "code",
   "execution_count": null,
   "metadata": {},
   "outputs": [],
   "source": []
  },
  {
   "cell_type": "code",
   "execution_count": null,
   "metadata": {},
   "outputs": [],
   "source": []
  },
  {
   "cell_type": "code",
   "execution_count": null,
   "metadata": {},
   "outputs": [],
   "source": []
  },
  {
   "cell_type": "markdown",
   "metadata": {},
   "source": [
    "But if you want to have more control on your figure, more flexibility in doing plots, you may need to consider your \"plot\" in an object oriented manner.\n",
    "\n",
    "In fact, when you do `plt.plot()`, you do three things:\n",
    "1. You create an *object* window (called **figure**), that is empty (no axis): `f = plt.figure()`\n",
    "2. You then create an **axes** object within that figure. This object **axes** is in fact a *subplot* that delimits the area where you will draw your plot: `ax = f.add_subplot(1,1,1)` (you add a subplot with 1 row, 1 column, and its id is 1). \n",
    "3. You draw your plot in the subplot we have just defined: `ax.plot(x, y)`\n",
    "\n",
    "Try this out in the cell below"
   ]
  },
  {
   "cell_type": "code",
   "execution_count": null,
   "metadata": {},
   "outputs": [],
   "source": [
    "plt.plot(x,y)\n",
    "f = plt.figure()\n",
    "axx = f.add_subplot(1,1,1)\n",
    "axx.plot(x,y)"
   ]
  },
  {
   "cell_type": "markdown",
   "metadata": {},
   "source": [
    "#### III.2.1 Plot properties    <a class=\"anchor\" id=\"III.2.1\"></a>\n",
    "\n",
    "The explicit use of an axes object is more convenient for advanced plot and you will often find this \"object oriented approach\" to make plots in the source code of the figures you find in the [matplotlib gallery](https://matplotlib.org/stable/gallery/index) and they may serve as source of inspiration for your own fancy figure. This approach is also the one followed to generate the figures of our reference [book](http://www.astroml.org/). \n",
    "\n",
    "Now that we know that the area where we draw is *one or several* **axes**, we may have a look to the functions (that we should call *methods*) that modify the aspect of the plot. Most of the commands we have seen before to define plot extension, ticks, labels, ... change slightly of naming, starting now with the prefix `set_`method. For example:\n",
    "``` python\n",
    "plt.xlabel()  -> ax.set_xlabel()   # Adds xlabel\n",
    "plt.xlim()    -> ax.set_xlim()     # defines the limits of x-axis\n",
    "plt.title()   -> ax.set_title()    # Set title of object ax / of your subplot\n",
    "plt.xticks()  -> ax.set_xticks()   # Set the xticks\n",
    "\n",
    "```\n",
    "And many more ! You may try `help(ax)` (after defining such an object) to see all its properties. Similarly to the `set_` methods, there is `get_` methods that allow you to know the existing (default) properties of `ax` and modify them. \n",
    "For example, you may want to know the values of the `xticks` of your subplot and modify them in the following way:\n",
    "``` python\n",
    "ax.get_xticks()  \n",
    "    Out: [1,2,3,4]\n",
    "# you can choose to show only two\n",
    "ax.set_xticks([1,3])\n",
    "# And change the way they are labeled:\n",
    "ax.set_xticklabels(['un', 'three'])\n",
    "```\n",
    "\n",
    "Finally, you can modify the appearance of the tick labels (size, color, ...) using:\n",
    "(this is not a well known command but very useful !! Keep it in mind)\n",
    "``` python\n",
    "ax.tick_params(axis='both', which='major', labelsize=10)\n",
    "ax.tick_params(axis='both', which='minor', labelsize=8)\n",
    "```\n",
    "\n",
    "**Exercise:**\n",
    "\n",
    "- Create a figure using `ax`, plot `y=sin(x)` between -2$\\pi$ and 2$\\pi$.  \n",
    "- Add labels and title, modify the `xticks` such that they show up in units of $\\pi$ (i.e. pi symbol). "
   ]
  },
  {
   "cell_type": "code",
   "execution_count": null,
   "metadata": {},
   "outputs": [],
   "source": []
  },
  {
   "cell_type": "code",
   "execution_count": null,
   "metadata": {},
   "outputs": [],
   "source": []
  },
  {
   "cell_type": "markdown",
   "metadata": {},
   "source": [
    "#### III.2.2 Create multiple subplots   <a class=\"anchor\" id=\"III.2.2\"></a>\n",
    "\n",
    "There are multiple options which enable more or less flexibility in the positioning of your *axes*. We'll see only one of them herebelow which enables you to create multiple plots \"on a grid\" (i.e. you can select the number of rows / column but all the \"subplots\" will have the same size).    \n",
    "\n",
    "See [Modules_in__python_matplotlib_adv.ipynb](Modules_in__python_matplotlib_adv.ipynb/#III.2.2) for alternatives.  "
   ]
  },
  {
   "cell_type": "code",
   "execution_count": null,
   "metadata": {},
   "outputs": [],
   "source": []
  },
  {
   "cell_type": "markdown",
   "metadata": {},
   "source": [
    "The simplest way to quickly make several subplots in the same figure is by using:\n",
    "``` python \n",
    "f, ax = plt.subplots(nrows=n, ncols=m)   # Replace `n` and `m` by integers.\n",
    "```\n",
    "`nrows` and `ncols` enables one to set the number of rows/columns.\n",
    "\n",
    "This command returns a `figure` object (that we call here `f`) and, a `list` (if one row or one column) or and array of `axes` objects (that we call `ax`). The plotting command will simply have to be adapted to the type of `ax`. For instance: \n",
    "\n",
    "``` python\n",
    "ax.plot()  # if nrows=1, ncols=1\n",
    "ax[i].plot() # if n > 1 OR m > 1 ; i need to be changes with the id of the axes into which you want to plot\n",
    "ax[i, j].plot() # if n > 1 AND m > 1\n",
    "```\n",
    "\n",
    "You can then easily put your plotting command in a loop to plot different results in different \"subplots\". If you want to force the x/y axis to have the same extent, use argument `sharex=True`. You can also modify the relative space between subplots using `f.subplotadjust()`.    \n",
    "\n",
    "The argument `subplot_kw` accepts also a dictionary as argument. This `dict` may contain keywords associated to the `add_subplot()` method that is used behind the scene to create the panels of your figure. You can for example use `subplot_kw={'aspect':'equal'}` as a parameter to enforce x-y axes to have the same extent."
   ]
  },
  {
   "cell_type": "code",
   "execution_count": null,
   "metadata": {},
   "outputs": [],
   "source": []
  },
  {
   "cell_type": "code",
   "execution_count": null,
   "metadata": {},
   "outputs": [],
   "source": []
  },
  {
   "cell_type": "markdown",
   "metadata": {},
   "source": [
    "**Exercise**\n",
    "\n",
    "- Create a figure made of 2 subplots located on two different rows. Plot a sine colored in red on the top row, and a cosine in blue on the bottom one. Add a vertical (horizontal) line in the *two* subplots at x = 0 (y=0).\n"
   ]
  },
  {
   "cell_type": "code",
   "execution_count": null,
   "metadata": {},
   "outputs": [],
   "source": [
    "# Create two square sublots in a figure that has figsize=(10, 6), leaving enough space for the axis and tick labels.\n"
   ]
  },
  {
   "cell_type": "markdown",
   "metadata": {},
   "source": [
    "#### III.2.3 Twin axes  <a class=\"anchor\" id=\"III.2.3\"></a>\n",
    "\n",
    "If you are interested by this topic, check out [Modules_in__python_matplotlib_adv.ipynb](Modules_in__python_matplotlib_adv.ipynb/#III.2.3)"
   ]
  },
  {
   "cell_type": "markdown",
   "metadata": {},
   "source": [
    "#### III.2.4. Export your figure:   <a class=\"anchor\" id=\"III.2.4\"></a>\n",
    "\n",
    "Once you are happy with the figure you have created, you can save your figure in many different formats. This figure saving can also be done within a script. \n",
    "You simply do:\n",
    "``` python\n",
    "f, ax = plt.subplots(figsize=(8,6))\n",
    "ax.plot(x,y)\n",
    "f.savefig('mynicefigure.png', dpi=200, format='png')  # format is in general optional as the extension of your file defines it\n",
    "```\n",
    "\n",
    "Alternatively, `plt.savefig('myfigure')` will also save the current active figure. In ipython, and interactive window plotting (in general qt backend) you can also click in the window on the small \"disk\" icon. The interactive window also allows you to modify the size and subplot properties interactively (you can even change the line properties, ...). Although this may look convenient, this is not recommended to create the final version of your figure only that way. Use it maybe to experiment with various presentation and save the parameter results when you are happy such that latter on, you can re-launch your script with exactly the same set of parameters and get exactly the same output. If you want to make a minor change to your figure, just edit the lines concerned by those changes !\n",
    "\n",
    "*What to think about before saving your (final) figure ?*\n",
    "\n",
    "- Format of the output file: use of 'png' is generally not recommended for paper-quality print, but is good if you want to share your figure e.g. on the web, or make a figure for a presentation. \"Word\"/Office documents also better deal with this format. For scientific publications, \"pdf\" or \"ps\" (postscript) are best. \n",
    "- If you have several curves on your figure, verify that your plot is still readable in black and white. If not, think of using the variety of line styles and/or modify the linewidth and/or modify transparency (alpha) when possible to distinguish the various curves. Note that transparency is not always kept properly after savefig (especially when saving in postscript format). Think also to color blinded people and avoid using \"green\" and \"red\" on the same figure ! You can use color blindness simulator http://www.color-blindness.com/coblis-color-blindness-simulator/ to check the legibility of your figure !\n",
    "- Are the labels, legend, ticks, large enough. You can modify the size of the labels using \"fontsize\" argument in `set_xlabel` (either \"small/medium/large\" or a float: 16/18 may be good for many application). Modifying the size of the ticks may be a bit more painful (but see below the [rcparameters](#rcparameters)), but remember also this simple way to change the size (but also color, ...) of the tick-labels: \n",
    "``` python\n",
    "ax.tick_params(axis='both', which='major', labelsize=10)\n",
    "```\n",
    "- Beware that a fontsize that looks good on a figure of (10,8), may not on a figure of (18, 14). Especially since those figures may be shrinked in your publication (to occupy 1/2 columns). For that reason do not forget the argument \"`figsize()`\" when defining your figure. \n",
    "- You may feel, after exporting your figure, that there is still a lot of white space on top/left/bottom/up compared to the effective figure size. You can surely change this using the `subplot_adjust()` but there is a cheapper and generally effective way to do it with a single command line:\n",
    "``` python\n",
    "f.tight_layout()\n",
    "``` \n",
    "This command will make the adjustment for you. \n"
   ]
  },
  {
   "cell_type": "markdown",
   "metadata": {},
   "source": [
    "**Note about exporting to eps**\n",
    "\n",
    "Some journals require eps (encapsulated postscript) formating for figure which is not always well supported by matplotlib, in particular transparency is often lost. To export to `eps` it is then recommended to save the figure in pdf and use (in command line in a shell or run it using `os.system()`) `pdftops -eps` to convert to eps. "
   ]
  },
  {
   "cell_type": "markdown",
   "metadata": {},
   "source": [
    "**Exercises:** <a class=\"anchor\" id=\"meshgrid\"></a>\n",
    "\n",
    "This exercise makes use of meshgrid and matplotlib.\n",
    "\n",
    "*How does `np.meshgrid()` work ?* Imagine that you have an array of shape $(n, m)$ ($n$ is the number of rows => of discretisation along $y-axis$ and $m$ is the number of columns => discretisation along $x-axis$). The coordinates $(i,j)$ cannot be stored in a single array, you need two arrays: one that saves the $x$ coordinates and one that saves the $y$ coordinates (note that $(i,j)$ do not have to be integers). For an array on $(n, m)$ discretized over a grid of integers (e.g. pixel coordinates):\n",
    "``` python\n",
    "mydata = np.arange(n*m).reshape(n,m)   # Data = array of shape (n,m)\n",
    "x, y = np.arange(m), np.arange(n)      # 1D array with the x and y coordinates\n",
    "X, Y = np.meshgrid(x,y)                # X contains the x coordinates of the pixels, Y the y coordinates.                 \n",
    "```"
   ]
  },
  {
   "cell_type": "markdown",
   "metadata": {},
   "source": [
    "*Questions of the exercise* \n",
    "\n",
    "- Evaluate a 2-D Gaussian (or 2D Moffat) centered on a grid of 20x20 pixels centered on 0. \n",
    "- Use the plotting command `CS = contour(X,Y,Z)` to visualise your results (! contour is a method of object axes). Use `clabel(CS)` to put labels on the contours. Try using with `contourf()`: what is the difference ? \n",
    "- Do the same but center the gaussian at x=2 and y = 0 and visualise your results. \n",
    "- Use `plt.imshow()` (instead of `plt.contours()` to visualise your results. "
   ]
  },
  {
   "cell_type": "code",
   "execution_count": null,
   "metadata": {},
   "outputs": [],
   "source": []
  },
  {
   "cell_type": "code",
   "execution_count": null,
   "metadata": {},
   "outputs": [],
   "source": [
    "f, ax = plt.subplots(1 , subplot_kw={'aspect':'equal'})\n",
    "CSf = ax.contourf(X, Y, Z) "
   ]
  },
  {
   "cell_type": "code",
   "execution_count": null,
   "metadata": {},
   "outputs": [],
   "source": []
  },
  {
   "cell_type": "markdown",
   "metadata": {},
   "source": [
    "#### Note:  Set (default) plot properties with `rc` parameters  <a class=\"anchor\" id=\"rcparameters\"></a>\n",
    "\n",
    "\n",
    "If you are interested by this topic, check out [Modules_in__python_matplotlib_adv.ipynb](Modules_in__python_matplotlib_adv.ipynb/#III.2.4) "
   ]
  },
  {
   "cell_type": "markdown",
   "metadata": {},
   "source": [
    "#### III.2.5 Specify default figure settings in an external file <a class=\"anchor\" id=\"III.2.5\"></a>\n",
    "\n",
    "It is possible to set a series of parameters for your figure in an external `style file` (ascii file) that you import in the begining of your plotting script. Imagine that you have a style file `Fig_style.txt`, then you simply have to include at the begining of your plotting script: \n",
    "``` python\n",
    "plt.style.use('Fig_style')\n",
    "```\n",
    "\n",
    "If you are interested by this topic, check out [Modules_in__python_matplotlib_adv.ipynb](Modules_in__python_matplotlib_adv.ipynb/#III.2.4) \n",
    "\n",
    "**Notes** Some default styling also exists and could be called using the same command `plt.style.use('style_name')`. See `plt.style.available` to get a list of available default style setups existing locally. "
   ]
  },
  {
   "cell_type": "markdown",
   "metadata": {},
   "source": [
    "### Summary: \n",
    "\n",
    "- We have explored the use of the \"axes\" object to more easily manage plot properties. Those \"axes\" can be created using `f, ax = plt.subplots()`. This methodology also allows you to easily create a figure with multiple subpannels. \n",
    "- Main properties of axes objects are set using ax.set_XX, such as `ax.set_xlabel()`, `ax.set_xticks`, ... To get existing properties, we can use ax.get_XX. \n",
    "- We also know how to save a figure in various formats using `f.savefig()`, and listed some key aspects to think of before saving a final version of a figure for publication (label and tick sizes, file format, layout, legibility in black and white).  "
   ]
  },
  {
   "cell_type": "markdown",
   "metadata": {},
   "source": [
    "## III.3 References and supplementary material: <a class=\"anchor\" id=\"VI\"></a>\n",
    "\n",
    "Specific Matplotlib documentation (where to go when you do not know how to plot this/that):\n",
    "\n",
    "- [Thumbnail gallery](https://matplotlib.org/stable/gallery/index): hundreds of thumbnails linking to the source code used to make them (find a plot like the one you want to make): a VERY useful resource !\n",
    "- Pyplot Tutorial: https://matplotlib.org/stable/tutorials/introductory/pyplot.html#sphx-glr-tutorials-introductory-pyplot-py \n",
    "- [Matplotlib home page](https://matplotlib.org/): The place to start for exploring matplotlib capabilities. \n",
    "- Matplotlib manual: https://matplotlib.org/stable/index.html\n",
    "- [Seaborn package:](http://seaborn.pydata.org/index.html): a popular module for statistical data visualisation."
   ]
  },
  {
   "cell_type": "code",
   "execution_count": null,
   "metadata": {},
   "outputs": [],
   "source": []
  }
 ],
 "metadata": {
  "anaconda-cloud": {},
  "kernelspec": {
   "display_name": "Python [conda env:py3_lectures]",
   "language": "python",
   "name": "conda-env-py3_lectures-py"
  },
  "language_info": {
   "codemirror_mode": {
    "name": "ipython",
    "version": 3
   },
   "file_extension": ".py",
   "mimetype": "text/x-python",
   "name": "python",
   "nbconvert_exporter": "python",
   "pygments_lexer": "ipython3",
   "version": "3.7.12"
  }
 },
 "nbformat": 4,
 "nbformat_minor": 4
}
