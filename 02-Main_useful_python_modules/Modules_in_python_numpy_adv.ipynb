{
 "cells": [
  {
   "cell_type": "markdown",
   "metadata": {},
   "source": [
    "# Being more advanced with `numpy` \n",
    "\n",
    "This Notebook gathers material that is useful when working with numpy, but not necessary for a first contact with this module. \n",
    "\n",
    "This modules expands the some sections covered in [Modules_in__python_numpy.ipynb](Modules_in__python_numpy.ipynb). \n",
    "\n",
    "## Table of Content\n",
    "\n",
    "\n",
    "* [II.2 Array copies and views](#II.2a)\n",
    "* [II.3 Shape manipulation](#II.3a)\n",
    "* [II.5 Reading arrays from a file and string formatting](#II.5a)\n",
    "* [II.6 Useful Numpy functions](#II.6a)"
   ]
  },
  {
   "cell_type": "code",
   "execution_count": null,
   "metadata": {},
   "outputs": [],
   "source": [
    "import numpy as np"
   ]
  },
  {
   "cell_type": "markdown",
   "metadata": {},
   "source": [
    "## II.2 `array` copies and views:   <a class=\"anchor\" id=\"II.2a\"></a>\n",
    "\n",
    "A slicing operation creates a **view** on the original array, which is just a way of accessing array data. Thus the original array is not copied in memory. You can use `np.may_share_memory()` to check if two arrays share the same memory block.\n",
    "To provide this behaviour, and create a brand new array from the slice of the original one *without modifying the latter*, you may use the method `copy()`: `c = a[0:2].copy()` will create a **new array** that is a **copy** of the first two elements of a. \n",
    "\n",
    "**When modifying the view, the original array is modified as well**. Try the cells below to understand how memory allocation work. "
   ]
  },
  {
   "cell_type": "code",
   "execution_count": null,
   "metadata": {},
   "outputs": [],
   "source": [
    "#import numpy as np\n",
    "a = np.arange(10)\n",
    "a"
   ]
  },
  {
   "cell_type": "code",
   "execution_count": null,
   "metadata": {},
   "outputs": [],
   "source": [
    "b = a[::2]\n",
    "b"
   ]
  },
  {
   "cell_type": "code",
   "execution_count": null,
   "metadata": {},
   "outputs": [],
   "source": [
    "np.may_share_memory(a, b)"
   ]
  },
  {
   "cell_type": "code",
   "execution_count": null,
   "metadata": {},
   "outputs": [],
   "source": [
    "b[0] = 12\n",
    "b"
   ]
  },
  {
   "cell_type": "code",
   "execution_count": null,
   "metadata": {},
   "outputs": [],
   "source": [
    "a   # (!)"
   ]
  },
  {
   "cell_type": "code",
   "execution_count": null,
   "metadata": {},
   "outputs": [],
   "source": [
    "a = np.arange(10)\n",
    "print(a) \n",
    "c = a[::2].copy()  # force a copy\n",
    "c[0] = 12\n",
    "a"
   ]
  },
  {
   "cell_type": "code",
   "execution_count": null,
   "metadata": {},
   "outputs": [],
   "source": [
    "np.may_share_memory(a, c)"
   ]
  },
  {
   "cell_type": "markdown",
   "metadata": {},
   "source": []
  },
  {
   "cell_type": "markdown",
   "metadata": {},
   "source": [
    "Note that there is now another numpy method called `np.shares_memory()` that performs a more robust test of memory sharing (it checks wether there is a memory overlap). This function is more computationally intensive than the `np.may_share_memory()` which can yield some False positives.  \n",
    "\n",
    "See this [link](https://stackoverflow.com/questions/44865261/what-is-the-difference-between-numpy-shares-memory-and-numpy-may-share-memory) for more details about this subtle difference. "
   ]
  },
  {
   "cell_type": "markdown",
   "metadata": {},
   "source": [
    "### II.3 Array shape manipulation <a class=\"anchor\" id=\"II.3a\"></a>\n"
   ]
  },
  {
   "cell_type": "markdown",
   "metadata": {},
   "source": [
    "- **II.3.1 Reshaping**:   \n",
    "The method `reshape(newshape)` allows one to reorganise the elements of an array, to create a \"new\" array (see below) that has a different shape. The total number of items of the array has to be the same ! "
   ]
  },
  {
   "cell_type": "code",
   "execution_count": null,
   "metadata": {},
   "outputs": [],
   "source": [
    "print(a) \n",
    "a.shape"
   ]
  },
  {
   "cell_type": "code",
   "execution_count": null,
   "metadata": {},
   "outputs": [],
   "source": [
    "b = a.ravel()\n",
    "b = b.reshape((2, 3))\n",
    "b"
   ]
  },
  {
   "cell_type": "code",
   "execution_count": null,
   "metadata": {},
   "outputs": [],
   "source": [
    "# Alternatively \n",
    "a.reshape((2, -1))    # unspecified (-1) value is inferred"
   ]
  },
  {
   "cell_type": "markdown",
   "metadata": {},
   "source": [
    "**WARNING:** Reshaping may return a **view** or a **copy** !"
   ]
  },
  {
   "cell_type": "code",
   "execution_count": null,
   "metadata": {},
   "outputs": [],
   "source": [
    "a = np.array([[1, 2, 3], [4, 5, 6]])\n",
    "b=a.ravel()\n",
    "b=b.reshape((2,3))\n",
    "# Let's modify b and show a to see if we have a view or a copy ... \n",
    "b[0, 0] = 99\n",
    "a\n"
   ]
  },
  {
   "cell_type": "code",
   "execution_count": null,
   "metadata": {},
   "outputs": [],
   "source": [
    "# let's now create an array with np.zeros and reshape it \n",
    "a = np.zeros((3, 2))\n",
    "b = a.T.reshape(3*2)\n",
    "b[0] = 9\n",
    "a\n"
   ]
  },
  {
   "cell_type": "markdown",
   "metadata": {},
   "source": [
    "To understand this you need to learn more about the memory layout of a numpy array. This is beyond the scope of this lecture. "
   ]
  },
  {
   "cell_type": "markdown",
   "metadata": {},
   "source": [
    "- **II.3.2 Flattening**:    \n",
    "The method `ravel()` flattens the array into a single-row array (each row of the array is merged with the previous one). Reshape may allow you to do this operation as well but modifying directly the array. "
   ]
  },
  {
   "cell_type": "code",
   "execution_count": null,
   "metadata": {},
   "outputs": [],
   "source": [
    "#import numpy as np\n",
    "a = np.array([[1, 2, 3], [4, 5, 6]])\n",
    "print(a) \n",
    "print(a.ravel())\n",
    "a"
   ]
  },
  {
   "cell_type": "code",
   "execution_count": null,
   "metadata": {},
   "outputs": [],
   "source": [
    "a.T   # Transpose the array"
   ]
  },
  {
   "cell_type": "code",
   "execution_count": null,
   "metadata": {},
   "outputs": [],
   "source": [
    "a.T.ravel()"
   ]
  },
  {
   "cell_type": "markdown",
   "metadata": {},
   "source": [
    "**Note**: `a.T` is a property of array `a` that returns the array transposed, while np.transpose(a) is a function that returns a view of the array(a) transposed. As a.T is a property of the object a, it is relatively quicker than the call of a function as you can test using the `%timeit` magic command. For N dim arrays, transpose() allows a bit more than just transposing (see below II.3.4.)"
   ]
  },
  {
   "cell_type": "code",
   "execution_count": null,
   "metadata": {},
   "outputs": [],
   "source": [
    "%timeit(a.transpose())\n",
    "%timeit(a.T)"
   ]
  },
  {
   "cell_type": "markdown",
   "metadata": {},
   "source": [
    "- **II.3.3 Adding a dimension**:\n",
    "\n",
    "Indexing with the `np.newaxis` object allows us to add an axis to an array. You can also use the `reshape` method.  "
   ]
  },
  {
   "cell_type": "code",
   "execution_count": null,
   "metadata": {},
   "outputs": [],
   "source": [
    "z = np.array([1, 2, 3])\n",
    "print(z.shape)\n",
    "z"
   ]
  },
  {
   "cell_type": "code",
   "execution_count": null,
   "metadata": {},
   "outputs": [],
   "source": [
    "print(z[:, np.newaxis])\n",
    "z[:, np.newaxis].shape"
   ]
  },
  {
   "cell_type": "code",
   "execution_count": null,
   "metadata": {},
   "outputs": [],
   "source": [
    "z[np.newaxis, :]"
   ]
  },
  {
   "cell_type": "code",
   "execution_count": null,
   "metadata": {},
   "outputs": [],
   "source": [
    "z[np.newaxis, :].shape"
   ]
  },
  {
   "cell_type": "code",
   "execution_count": null,
   "metadata": {},
   "outputs": [],
   "source": [
    "# An alternative is to reshape your array\n",
    "y = np.array([1, 2, 3])\n",
    "\n",
    "# When one shape dimension is -1, the value is inferred from the length of the array and remaining dimensions.\n",
    "y = y.reshape((-1,1))   \n",
    "y.shape"
   ]
  },
  {
   "cell_type": "code",
   "execution_count": null,
   "metadata": {},
   "outputs": [],
   "source": [
    "y = np.array([1, 2, 3])\n",
    "y = y.reshape((1,-1))\n",
    "y.shape"
   ]
  },
  {
   "cell_type": "markdown",
   "metadata": {},
   "source": [
    "- **II.3.4. Dimension shuffling**:"
   ]
  },
  {
   "cell_type": "code",
   "execution_count": null,
   "metadata": {},
   "outputs": [],
   "source": [
    "a = np.arange(4*3*2).reshape(4, 3, 2)\n",
    "a.shape"
   ]
  },
  {
   "cell_type": "code",
   "execution_count": null,
   "metadata": {},
   "outputs": [],
   "source": [
    "a"
   ]
  },
  {
   "cell_type": "code",
   "execution_count": null,
   "metadata": {},
   "outputs": [],
   "source": [
    "a[1, 2, 0]"
   ]
  },
  {
   "cell_type": "code",
   "execution_count": null,
   "metadata": {},
   "outputs": [],
   "source": [
    "b = a.transpose(1, 2, 0)\n",
    "b.shape"
   ]
  },
  {
   "cell_type": "code",
   "execution_count": null,
   "metadata": {},
   "outputs": [],
   "source": [
    "b"
   ]
  },
  {
   "cell_type": "code",
   "execution_count": null,
   "metadata": {},
   "outputs": [],
   "source": [
    "b[2, 1, 0]"
   ]
  },
  {
   "cell_type": "code",
   "execution_count": null,
   "metadata": {},
   "outputs": [],
   "source": [
    "# Check that shuffling dimensions creates a view of the array"
   ]
  },
  {
   "cell_type": "markdown",
   "metadata": {},
   "source": [
    "- **II.3.5. Resizing**: \n",
    "\n",
    "Size of an array can be changed with `ndarray.resize`:"
   ]
  },
  {
   "cell_type": "code",
   "execution_count": null,
   "metadata": {},
   "outputs": [],
   "source": [
    "a = np.arange(4)\n",
    "print(a)\n",
    "a.resize((8,))   # you give as argument the new shape of the array\n",
    "a\n"
   ]
  },
  {
   "cell_type": "markdown",
   "metadata": {},
   "source": [
    "However, it must not be referred to somewhere else:"
   ]
  },
  {
   "cell_type": "code",
   "execution_count": null,
   "metadata": {},
   "outputs": [],
   "source": [
    "b = a\n",
    "a.resize((4,))   "
   ]
  },
  {
   "cell_type": "markdown",
   "metadata": {},
   "source": [
    "**Exercises:**\n",
    "\n",
    "- Use flatten as an alternative to ravel. What is the difference? (Hint: check which one returns a view and which a copy)\n",
    "- Experiment with transpose for dimension shuffling.\n"
   ]
  },
  {
   "cell_type": "code",
   "execution_count": null,
   "metadata": {},
   "outputs": [],
   "source": []
  },
  {
   "cell_type": "markdown",
   "metadata": {},
   "source": [
    "- **II.3.6. Meshgrid**: \n",
    "\n",
    "A very useful method that returns coordinate matrices from coordinate vectors. This is extremely useful when you want to evaluate a function on a grid (i.e. $z = f(x, y)$) ... which is something very common in observational astronomy ! This is also useful when you want to do contour plots (to e.g. interpolate over a regular grid), evaluate a function at specific pixel positions of an image, ... \n",
    "\n",
    "The way to proceed is to define your `x` and `y` vectors (corresponding to the (x,y) coordinates on a grid is the following:\n",
    "``` python\n",
    "x_vec, y_vec = np.linspace(0, 5, 6), np.linspace(0, 5, 3)\n",
    "X, Y = meshgrid(x_vec,y_vec)\n",
    "\n",
    "# Now you can evaluate the function z = (x**2 + y**2)\n",
    "Z = X**2 + Y**2\n",
    "```\n",
    "\n",
    "`X` and `Y` created  with meshgrid() are now arrays of shape (3, 6) (3 rows and 6 columns) containing respectively coordinate x (for X) and y (for Y) of each grid element. This can be generalised to larger dimensions !\n",
    "\n",
    "So, the array `Z` of shape (3,6) corresponds to points with the following coordinates:\n",
    "\n",
    "['(0.0,0.0)', '(1.0,0.0)', '(2.0,0.0)', '(3.0,0.0)', '(4.0,0.0)', '(5.0,0.0)']   \n",
    "['(0.0,2.5)', '(1.0,2.5)', '(2.0,2.5)', '(3.0,2.5)', '(4.0,2.5)', '(5.0,2.5)']   \n",
    "['(0.0,5.0)', '(1.0,5.0)', '(2.0,5.0)', '(3.0,5.0)', '(4.0,5.0)', '(5.0,5.0)']   \n",
    "\n",
    "**Note:**    \n",
    "This function supports both indexing conventions through the indexing keyword argument.  Giving the string 'ij' returns a meshgrid with matrix indexing, while 'xy' returns a meshgrid with Cartesian indexing. In the 2-D case with inputs of length M and N, the outputs are of shape (N, M) for 'xy' indexing and (M, N) for 'ij' indexing.  In the 3-D case with inputs of length M, N and P, outputs are of shape (N, M, P) for 'xy' indexing and (M, N, P) for 'ij' indexing. In other words, indexing 'ij' yields a transposed version of the array obtained with indices i,j. See `help(meshgrid)` for more details. "
   ]
  },
  {
   "cell_type": "code",
   "execution_count": null,
   "metadata": {},
   "outputs": [],
   "source": [
    "#import numpy as np \n",
    "x_vec, y_vec = np.linspace(0, 5, 6), np.linspace(0, 5, 3)\n",
    "print(x_vec, y_vec)\n",
    "X, Y = np.meshgrid(x_vec,y_vec)\n",
    "print(Y)"
   ]
  },
  {
   "cell_type": "code",
   "execution_count": null,
   "metadata": {},
   "outputs": [],
   "source": [
    "# Experiment with \"meshgrid()\" following the code above. \n",
    "#import numpy as np\n",
    "\n",
    "# Try to write a command that prints at the screen the coordinates of the grid elements (as above) (TIP: you do not need meshgrid)\n"
   ]
  },
  {
   "cell_type": "markdown",
   "metadata": {},
   "source": [
    "**Exercise**: \n",
    "\n",
    "We will use meshgrid [later](Modules_in__python_matplotlib.ipynb#meshgrid), after we have learned how to visualise results with `python`. "
   ]
  },
  {
   "cell_type": "markdown",
   "metadata": {},
   "source": [
    "### II.5 Reading arrays from a file and string formatting:    <a class=\"anchor\" id=\"II.5a\"></a>\n",
    "\n",
    "Reading tables saved in a formated text file can be done with `numpy.loadtxt('myfile.txt')`, while saving your array is done with `numpy.savetxt('myfile.txt')`.     \n",
    "\n",
    "Clever loading of text/csv files: `numpy.genfromtxt()`/`numpy.recfromcsv()`. Those commands can fill missing values in a table, read column names, exclude some columns, and guess data-type using `dtype = None`.   \n",
    "\n",
    "Fast and efficient, but numpy-specific, binary format: `numpy.save()`/`numpy.load()`."
   ]
  },
  {
   "cell_type": "code",
   "execution_count": null,
   "metadata": {},
   "outputs": [],
   "source": []
  },
  {
   "cell_type": "markdown",
   "metadata": {},
   "source": [
    "There is another flexible way to read/write in file, which is through the use of the `file()` object. For this, three operations are generally needed: \n",
    "\n",
    "``` python\n",
    "with open('myfile.txt', 'r') as f: # 'r' for read mode, 'w' for write mode, 'a' for append mode)\n",
    "    read_data = f.read() # this would read the whole file as a single string ; other methods allow one more flexible read\n",
    "\n",
    "# One can also do the following (see below) but there is the risk to get the file not being properly closed. \n",
    "\n",
    "f = open('myfile.txt', 'r')  \n",
    "f.read() \n",
    "f.close() \n",
    "```\n",
    "\n",
    "If you do `f.read()` twice, you will see an empty string ... as the object instance then \"points\" to the end of the file, and there is nothing left to read. Somehow, the methods that access the file object go sequentially through the \"string content\" of that object. With `read()` you take the string as a whole (which could be a problem memory-wise if the file is large !). \n",
    "\n",
    "Note that effectively, f.read() reads the file character by character, as you would realise by typing the following command: \n",
    "``` python\n",
    "f = open('myfile.txt', 'r')\n",
    "for char in f.read():\n",
    "    print(repr(char))\n",
    "```\n",
    "\n",
    "If you use a `for` loop on `f`, then the file is read line by line:\n",
    "``` python\n",
    "f = open('myfile.txt', 'r')\n",
    "for line in f:\n",
    "    print(repr(line))\n",
    "```"
   ]
  },
  {
   "cell_type": "code",
   "execution_count": null,
   "metadata": {},
   "outputs": [],
   "source": [
    "with open('data.txt', 'r') as f: \n",
    "    read_data = f.read() "
   ]
  },
  {
   "cell_type": "code",
   "execution_count": null,
   "metadata": {},
   "outputs": [],
   "source": [
    "f = open('data.txt', 'r')\n",
    "for line in f:\n",
    "    print(repr(line))   # repr(object) return the canonical string representation of the object"
   ]
  },
  {
   "cell_type": "code",
   "execution_count": null,
   "metadata": {},
   "outputs": [],
   "source": [
    "f.close()"
   ]
  },
  {
   "cell_type": "code",
   "execution_count": null,
   "metadata": {},
   "outputs": [],
   "source": [
    "f = open('data.txt', 'r')\n",
    "a = f.readlines()\n",
    "a"
   ]
  },
  {
   "cell_type": "code",
   "execution_count": null,
   "metadata": {},
   "outputs": [],
   "source": [
    "a[10].replace('.', ',')"
   ]
  },
  {
   "cell_type": "code",
   "execution_count": null,
   "metadata": {},
   "outputs": [],
   "source": [
    "f.close()"
   ]
  },
  {
   "cell_type": "code",
   "execution_count": null,
   "metadata": {},
   "outputs": [],
   "source": [
    "a"
   ]
  },
  {
   "cell_type": "markdown",
   "metadata": {},
   "source": [
    "Each line is being returned as a string. Notice the `\\n` at the end of each line - this is a line return character, which indicates the end of a line.\n",
    "\n",
    "Alternatively, you could also do:\n",
    "``` python\n",
    "f = open('myfile.txt', 'r')\n",
    "for line in f.readlines():\n",
    "    print(repr(line))\n",
    "```\n",
    "BUT `f.readlines()` actually reads in the whole file and splits it into a **list** of lines (while `for line in f` reads one line at a time), so for large files this can be memory intensive. The above option is therefore prefered.     "
   ]
  },
  {
   "cell_type": "code",
   "execution_count": null,
   "metadata": {},
   "outputs": [],
   "source": [
    "f = open('data.txt', 'r')\n",
    "for line in f.readlines():\n",
    "    print(repr(line))"
   ]
  },
  {
   "cell_type": "code",
   "execution_count": null,
   "metadata": {},
   "outputs": [],
   "source": [
    "print(repr(line))\n",
    "a = line.strip().split()  \n",
    "float(a[2])"
   ]
  },
  {
   "cell_type": "code",
   "execution_count": null,
   "metadata": {},
   "outputs": [],
   "source": []
  },
  {
   "cell_type": "markdown",
   "metadata": {},
   "source": [
    " Once a line is read, it is possible to apply string methods, as on normal string:    \n",
    "- Remove `\\n`: `line.strip()`\n",
    "- Split the string into list of strings: `line.split()`\n",
    "- Replace a specific character by another: `line.replace(',', '.')`  replaces each comma by a dot.\n",
    "- Access a specific element of a splitted list and convert it to float: `float(line.split()[2])`\n",
    "\n",
    "To write a file, you basically follow the same procedure: \n",
    "``` python\n",
    "f = open('myfile.txt', 'w')\n",
    "f.writelines(mylist_of_lines)   # mylist_of_lines contains the lines you want to write. Ensure that they end with `\\n`\n",
    "\n",
    "# you can also use:\n",
    "f.write(mylist_of_lines[0]+mylist_of_lines[1]+ ... + mylist_of_lines_[n])  # you can use list comprenhesion as argument\n",
    "f.close()\n",
    "```\n",
    "\n",
    "**Exercise:**\n",
    "\n",
    "Read the file `data.txt` and display the some columns you care about for that file using:\n",
    "- the file object\n",
    "- Try to do the same using `numpy.loadtxt()` \n",
    "- Try to do the same using using `numpy.genfromtxt()`.     \n",
    "\n",
    "Bonus:      \n",
    "- Try to build a numpy array with the data in data.txt as read using f = open('data.txt'). \n",
    "- Modify 1 column of the file (replace it with 0) and write the results in `data_new.txt`\n",
    "\n",
    "**Note:**\n",
    "\n",
    "Those methods/functions for reading ascii files are not always optimal to read tables containing both strings and floats. Other packages, such as `pandas` and `astropy`, offer more flexible functions to read large variety and formats of tables.    "
   ]
  },
  {
   "cell_type": "code",
   "execution_count": null,
   "metadata": {},
   "outputs": [],
   "source": []
  },
  {
   "cell_type": "markdown",
   "metadata": {},
   "source": [
    "#### Formatting Strings\n",
    "\n",
    "It often happens that you do not need to save all the decimals of a number, or would like to see it in scientific notation. There are [multiple ways to do it](https://docs.python.org/3/tutorial/inputoutput.html). One could spend (boring) hours describing all possible ways to format strings. The main 2 options are described below. You may look at https://pyformat.info/ to skim through various examples of formatting. The options described below explains you the basics and points yoi to relevant documentation. \n",
    "\n",
    "- **Option 1**: `printf-style` (simple (old style) but not universal) \n",
    "\n",
    "You can use the `%` operator to specify the formatting of the variable you want to show at the screen or save in a file. The variable does not appear explicitly in the string but after it in a tuple, preceded by the `%`. Within the string, the `%` operator will be followed by a format string such as `%f` for a float or `%e` for scientific notation. The sequence `'%.2f'%variable` basically tells that the `%` operator converts the `variable` into a float with 2 digits after the dot. This is generalized to a sequence of variable, by defining the tuple object that contains all the variables to be formatted (but you need to specify the format you want for those, the association between the format and the variable being done easily as you have put your variable into a tuple-object). \n",
    "\n",
    "Example:\n",
    "``` python\n",
    "print('%i is the square of %i' %(4.000, 2))\n",
    "    Out: 4 is the square of 2\n",
    "```\n",
    "Here are some commonly used formatting characters:\n",
    "- `%s`: String (or any object with a string representation, like numbers)\n",
    "- `%d` or `%i`: Integers\n",
    "- `%.<number_of_digits>f`: Floating point numbers with fixed number of digits to the right of the dot. \n",
    "- `%.<number_of_digits>e`: scientific notation with fixed number of digits to the right of the dot.   \n",
    "You may find more about string formatting in [python 3.8 documentation](https://docs.python.org/3.8/library/stdtypes.html#str).  \n"
   ]
  },
  {
   "cell_type": "code",
   "execution_count": null,
   "metadata": {},
   "outputs": [],
   "source": [
    "# Experiment with the above examples "
   ]
  },
  {
   "cell_type": "code",
   "execution_count": null,
   "metadata": {},
   "outputs": [],
   "source": []
  },
  {
   "cell_type": "markdown",
   "metadata": {},
   "source": [
    "- **Option 2**: `str.format()` method\n",
    "\n",
    "This is a much more flexible and general method described in details at https://docs.python.org/3/library/string.html#formatstrings. Format strings contain `replacement fields` surrounded by curly braces `{}`. Anything that is not contained in braces is considered literal text, which is *copied unchanged to the output*. If you need to include a brace character in the literal text, it can be escaped by doubling: {{ and }}. The `replacement field` can start with a `field_name` that specifies the object whose value is to be formatted and inserted into the output instead of the replacement field. The field_name is optionally followed by a `conversion field`, which is preceded by an exclamation point '!', and a `format_spec`, which is preceded by a colon `:`. These specify a non-default format for the replacement value. The `conversion field` causes a type coercion before formatting. You can in general ignore it). The `format_spec` is more advanced than in the printf style, allowing for alignement, signing, filling empty spaces, .... See [here](https://docs.python.org/3/library/string.html#format-specification-mini-language) and [here](https://pyformat.info/) for more details and EXAMPLES. \n",
    "\n",
    "Example:\n",
    "``` python\n",
    "print('{0:.0f} is the square of {1:n}'.format(4.000, 2))\n",
    "    Out: 4 is the square of 2\n",
    "```\n",
    "If you wich a float representation with 2 decimals: `{0:.2f}`. \n",
    "You can also use the positional argument to revert the output:\n",
    "``` python\n",
    "print('{1:.0f} is the square of {0:n}'.format(2, 4.000))\n",
    "    Out: 4 is the square of 2\n",
    "```\n",
    "\n",
    "**Note**: \n",
    "- About `conversion field`: There are 3 possible conversions flags: `!s` which calls [str()](https://docs.python.org/3/library/stdtypes.html#str) on the value, `!r` which calls [repr()](https://docs.python.org/3/library/functions.html#repr) and `!a` which calls [ascii()](https://docs.python.org/3/library/functions.html#ascii).\n",
    "- About `format_spec`: The general form of the formatter is\n",
    "``` python\n",
    "format_spec     ::=  [[fill]align][sign][#][0][width][grouping_option][.precision][type]\n",
    "fill            ::=  <any character>\n",
    "align           ::=  \"<\" | \">\" | \"=\" | \"^\"\n",
    "sign            ::=  \"+\" | \"-\" | \" \"\n",
    "width           ::=  digit+\n",
    "grouping_option ::=  \"_\" | \",\"\n",
    "precision       ::=  digit+\n",
    "type            ::=  \"b\" | \"c\" | \"d\" | \"e\" | \"E\" | \"f\" | \"F\" | \"g\" | \"G\" | \"n\" | \"o\" | \"s\" | \"x\" | \"X\" | \"%\"\n",
    "```\n",
    "See https://docs.python.org/3/library/string.html#format-specification-mini-language"
   ]
  },
  {
   "cell_type": "code",
   "execution_count": null,
   "metadata": {},
   "outputs": [],
   "source": [
    "# Experiment with the above examples "
   ]
  },
  {
   "cell_type": "code",
   "execution_count": null,
   "metadata": {},
   "outputs": [],
   "source": []
  },
  {
   "cell_type": "code",
   "execution_count": null,
   "metadata": {},
   "outputs": [],
   "source": [
    "# Create three float variables a, b, c and give them some value (e.g. a=2.3, b=3, c=-5). \n",
    "# Print the sentence: `a=2.00, b=3 and c=-5.00e+00` using the formating format described above."
   ]
  },
  {
   "cell_type": "code",
   "execution_count": null,
   "metadata": {},
   "outputs": [],
   "source": [
    "# Create a 1-D array of 5 floats and print their value with 2 digits floats. TIP: use list comprehension"
   ]
  },
  {
   "cell_type": "markdown",
   "metadata": {},
   "source": [
    "**Note**: There is another very useful way in python to save \"full objects\" and access and use them later using all their characteristics. This can be done by importing the `pickle` [module](https://docs.python.org/2/library/pickle.html), or even better (faster) [cPickle]( http://docs.python.org/library/pickle.html#module-cPickle). When you want to write a pickle into a file, simply open your file (`pkl_file = open()`), use `pickle.dump(obj, pkl_file, protocol=-1)`, and close your file (`pkl_file.close()`). To read an object saved in a pickle file, you can follow the same procedure but use `\tobj = pickle.load(pkl_file)` instead of `pickle.dump()`. The `pandas` module also allows you to read/write pickle objects: see `pandas.read_pickle()` and `pandas.to_pickle()`"
   ]
  },
  {
   "cell_type": "markdown",
   "metadata": {},
   "source": [
    "### II.6 Other useful numpy function:  <a class=\"anchor\" id=\"II.6a\"></a>\n",
    "\n",
    "You'll find below a non exhaustive list of numpy functions that you may find useful when manipulating arrays. \n",
    "\n",
    "#### Sort, transform\n",
    "- `np.sort(a)`: Returns sorted copy of an array along a specific axis (default = last axis)\n",
    "- `np.absolute(a)`: Calculates absolute value element-wise \n",
    "- `np.concatenate(a1, a2, ...)`: Join a sequence of arrays along an existing axis.\n",
    "- `np.hstack(tup)`: Stack arrays in sequence horizontally (column wise).\n",
    "- `np.vstack(tup)`: Stack arrays in sequence vertically (row wise).\n",
    "\n",
    "#### Search\n",
    "\n",
    "- `np.nonzero()`: Return the indices of the elements that are non-zero. Returns indices of \"True\" if array of booleans. \n",
    "- `np.where(condition, [x, y])`: Return elements chosen from `x` or `y` depending on `condition`. If only condition is provided, it returns e.g. the indices for which the condition is verified. The function is then a shorthand for `np.asarray(condition).nonzero()`. Using `nonzero` directly should be preferred, as it behaves correctly for subclasses. \n",
    "- `np.searchsorted(a, v)`: Find indices where elements should be inserted to maintain order.\n",
    "- `np.intersect1d(ar1, ar2)`: Intersection of 2 arrays. \n",
    "- `np.isnan()`: Test element-wise for NaN and return result as a boolean array.\n",
    "- `np.setdiff1d(ar1, ar2)`: Return the unique values in `ar1` that are not in `ar2`.\n",
    "\n",
    "#### Operations\n",
    "\n",
    "- `np.convolve(a, v, mode='full')`: Returns the discrete, linear convolution of two one-dimensional sequences. \n",
    "- `np.nanmin(), np.nanmax(), np.nanmean(), np.nanmedian()`: Calculates min, max, mean, meadian of an array but ignoring NaNs. \n",
    "- `np.deg2rad()`, `np.rad2deg()`: converts degrees to radians and vice versa \n",
    "- `np.trapz(y)`: Integrate along the given axis using the composite trapezoidal rule."
   ]
  },
  {
   "cell_type": "code",
   "execution_count": null,
   "metadata": {},
   "outputs": [],
   "source": []
  }
 ],
 "metadata": {
  "kernelspec": {
   "display_name": "Python [conda env:intel-python3]",
   "language": "python",
   "name": "conda-env-intel-python3-py"
  },
  "language_info": {
   "codemirror_mode": {
    "name": "ipython",
    "version": 3
   },
   "file_extension": ".py",
   "mimetype": "text/x-python",
   "name": "python",
   "nbconvert_exporter": "python",
   "pygments_lexer": "ipython3",
   "version": "3.7.9"
  }
 },
 "nbformat": 4,
 "nbformat_minor": 4
}
