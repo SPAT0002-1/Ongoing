{
 "cells": [
  {
   "cell_type": "markdown",
   "metadata": {},
   "source": [
    "# Introduction to `matplotlib`"
   ]
  },
  {
   "cell_type": "markdown",
   "metadata": {},
   "source": [
    "This Notebook gathers advanced capabilities of `matplotlib` module. It expands the notebook [Modules_in__python_matplotlib.ipynb](Modules_in__python_matplotlib.ipynb) with a variety of useful tips and tricks that you may want to know to make more fancy figures! This is not part of the main lecture but useful for those who wnat to have full control on their figures. \n",
    "\n",
    "## Table of Content\n",
    "\n",
    "III. Matplotlib\n",
    "- [III.1 Simple plot](Modules_in__python_matplotlib.ipynb/#III.1)\n",
    "- [III.2 A bit more advanced plotting](Modules_in__python_matplotlib.ipynb/#III.2)\n",
    "    * [III.2.1 Plot properties](Modules_in__python_matplotlib.ipynb/#III.2.1)\n",
    "    * [III.2.2 Create multiple subplots](#III.2.2)\n",
    "    * [III.2.3 Twin axes](#III.2.3)\n",
    "    * [III.2.4 Export your figure](#III.2.4)\n",
    "    * [III.2.5 Import styling options for your figure](#III.2.5)\n",
    "- [III.3 References](#VI)"
   ]
  },
  {
   "cell_type": "markdown",
   "metadata": {},
   "source": [
    "## III. `matplotlib`: Visualisation with python   <a class=\"anchor\" id=\"III\"></a>\n"
   ]
  },
  {
   "cell_type": "code",
   "execution_count": null,
   "metadata": {},
   "outputs": [],
   "source": [
    "%matplotlib inline\n",
    "import matplotlib.pyplot as plt\n",
    "import numpy as np"
   ]
  },
  {
   "cell_type": "markdown",
   "metadata": {},
   "source": [
    "#### III.2.2 Create multiple subplots   <a class=\"anchor\" id=\"III.2.2\"></a>\n",
    "\n",
    "We present here two alternatives to the use of \n",
    "``` python \n",
    "f, ax = plt.subplots(nrows=n, ncols=m)\n",
    "``` \n",
    "- The first alternative is similar to what we did before:  \n",
    "``` python\n",
    "# Note the use of figsize argument that takes a tuple of integers corresponding to width and height in inches\n",
    "f = plt.figure(figsize=(8,6))     \n",
    "ax1 = f.add_subplot(2,1,1)\n",
    "ax2 = f.add_subplot(2, 1, 2)\n",
    "```\n",
    "It is then possible to adjust the spacing between the subplots using [subplots_adjust](http://matplotlib.org/api/pyplot_api.html#matplotlib.pyplot.subplots_adjust), or use the [gridspec](http://matplotlib.org/users/gridspec.html) functionality for more advanced subplotting. `f.subplots_adjust(left=None, bottom=None, right=None, top=None, wspace=None, hspace=None)` allows you to modify the space between different subplots and w.r.t. the margins of the figure. The values are all in relative units w.r.t. the size of the figure (i.e. 1 is the full width/heigth of the figure). While left/right/top/bottom fix the position w.r.t. the borders, `wspace` and `hspace` fixes the interspace (width / height) between the different subplots. \n",
    "\n"
   ]
  },
  {
   "cell_type": "code",
   "execution_count": null,
   "metadata": {},
   "outputs": [],
   "source": []
  },
  {
   "cell_type": "markdown",
   "metadata": {},
   "source": [
    "- The second alternative (which provides a complete freedom to the location of your *axes() is to uses the method `add_axes` instead of `add_subplot` to add your axes object in the figure (this is somehow a more logical command !). The main option of `add_axes` however differs from add_subplot:  \n",
    "``` python\n",
    "f.add_axes([x_bleft, y_bleft, dx, dy]) \n",
    "```\n",
    "The argument `x_bleft`, `y_bleft` define the position of the lower-left corner of the *subplot*, and and `dx` and `dy` are the width and height of the subplot, with all values specified in relative units (where 0 is left/bottom and 1 is top/right). This is therefore very easy to add an inset plot at an arbitrary position on your figure !\n",
    "\n"
   ]
  },
  {
   "cell_type": "code",
   "execution_count": null,
   "metadata": {},
   "outputs": [],
   "source": []
  },
  {
   "cell_type": "markdown",
   "metadata": {},
   "source": [
    "**Exercise**\n",
    "\n",
    "- Create two *square* sublots in a figure that has figsize=(10, 6), leaving enough space for the axis and tick labels. (The second figure can be inside the first one or separated). Then, plot a line in each of these subplots. \n",
    "\n",
    "**Note**: \n",
    "\n",
    "Lines connecting the axis tick marks and noting the boundaries of the data area are called `spines`. You can access them though `ax.spines['left/right/top/bottom']`. You can move them or change their appearance using methods `ax.spine['left'].set_color('none')` (erase left spine), `ax.spine['right'].set_position(('data', 0))` (move the right spine to 0), ... See https://matplotlib.org/stable/api/spines_api.html for more information.  "
   ]
  },
  {
   "cell_type": "code",
   "execution_count": null,
   "metadata": {},
   "outputs": [],
   "source": [
    "# Create two square sublots in a figure that has figsize=(10, 6), leaving enough space for the axis and tick labels.\n"
   ]
  },
  {
   "cell_type": "markdown",
   "metadata": {},
   "source": [
    "#### III.2.3 Twin axes  <a class=\"anchor\" id=\"III.2.3\"></a>\n",
    "\n",
    "In some cases, it can be desirable to show two different x axes (e.g. distance and redshift), or two different y axes (e.g. two different quantities such as density and temperature). Matplotlib provides an easy way to create twin axes. For example:\n",
    "``` python\n",
    "fig = plt.figure()\n",
    "ax1 = fig.add_subplot(1, 1, 1)\n",
    "ax2 = ax1.twinx()\n",
    "```\n",
    "\n",
    "creates a new set of axes (`ax2`) that *shares the x-axis with ax1*, but can have a *separate y-axis* (similarly, `twiny` would return a second set of axes sharing the y-axis, but with a separate x-axis). As an example, we can use this command to plot two different quantities as a function of time:"
   ]
  },
  {
   "cell_type": "code",
   "execution_count": null,
   "metadata": {},
   "outputs": [],
   "source": [
    "# Plot using twin axes\n"
   ]
  },
  {
   "cell_type": "markdown",
   "metadata": {},
   "source": [
    "#### III.2.4. Export your figure:   <a class=\"anchor\" id=\"III.2.4\"></a>\n",
    "\n",
    "See [Modules_in__python_matplotlib.ipynb](Modules_in__python_matplotlib.ipynb/#III.2.4)"
   ]
  },
  {
   "cell_type": "markdown",
   "metadata": {},
   "source": [
    "#### Note:  Set (default) plot properties with `rc` parameters  <a class=\"anchor\" id=\"rcparameters\"></a>\n",
    "\n",
    "In practice, this can be a lot of work for simple and common things (e.g. setting the tick label properties) to set the plot properties as in III.2.1, so matplotlib allows users to specify default properties via rc parameters. These can be set either in a ~/.matplotlib/matplotlibrc file, or in a script. To set these via a file, see [matplotlibrc](http://matplotlib.sourceforge.net/users/customizing.html#a-sample-matplotlibrc-file) (this also shows all the options that are availables). Example (modified) lines from this script include:\n",
    "``` python\n",
    "#xtick.major.size     : 4      # major tick size in points\n",
    "#xtick.minor.size     : 2      # minor tick size in points\n",
    "#xtick.major.pad      : 4      # distance to major tick label in points\n",
    "#xtick.minor.pad      : 4      # distance to the minor tick label in points\n",
    "#xtick.color          : r      # color of the tick labels\n",
    "#xtick.labelsize      : medium # fontsize of the tick labels\n",
    "#xtick.direction      : out     # direction: in or out\n",
    "```\n",
    "These lines are commented out by default, but you can uncomment them to make them active. However, it’s often easier to define properties on a per-script basis using the rc function. This function’s first argument is the category of the settings, and this is followed by a set of keyword arguments to set the parameters for this element. \n",
    "You can also set these parameters directly using:\n",
    "``` python\n",
    "plt.rc('xtick', color='r', labelsize='medium', direction='out')\n",
    "plt.rc('xtick.major', size=4, pad=4)\n",
    "plt.rc('xtick.minor', size=2, pad=4)\n",
    "```\n",
    "\n",
    "Finally, to best deal with latex characters / formating in figures, it is recommended to modify/set some rc parameters in the following way:\n",
    "``` python \n",
    "plt.rc('text', usetex=True)\n",
    "plt.rcParams['text.latex.preamble']=[r\"\\usepackage{color}\"]\n",
    "plt.rcParams['text.latex.preamble']=[r\"\\usepackage{wasysym}\"]\n",
    "plt.rcParams['text.latex.preamble']=[r\"\\usepackage{amsmath}\"] \n",
    "``` "
   ]
  },
  {
   "cell_type": "markdown",
   "metadata": {},
   "source": [
    "#### III.2.5 Specify default figure settings in an external file <a class=\"anchor\" id=\"III.2.5\"></a>\n",
    "\n",
    "It is possible to set a series of parameters for your figure in an external `style file` (ascii file) that you import in the begining of your plotting script. Imagine that you have a style file `Fig_style.txt`, then you simply have to include at the begining of your plotting script: \n",
    "``` python\n",
    "plt.style.use('Fig_style')\n",
    "```\n",
    "\n",
    "This approach allows one to create ensemble of figures in a uniform way, and also share figure setting (e.g. between co-authors of a paper) in a simple way. Any styling options specified *after* importing that style file will overwirte the defaults (and should therefore be avoided !). \n",
    "\n",
    "The content of your file `Fig_style.txt` could be something like:\n",
    "\n",
    "``` python\n",
    "# Define main axes properties and color cycle\n",
    "axes.titlesize : 18\n",
    "axes.labelsize : 16\n",
    "lines.linewidth : 3\n",
    "lines.markersize : 10\n",
    "axes.prop_cycle : cycler('color', ['0CABBE','57D6D9','EBDDB6','F4965E','F0551C'])\n",
    "\n",
    "# Ticks styling\n",
    "xtick.top : True\n",
    "xtick.labelsize : 13\n",
    "xtick.minor.visible : True\n",
    "xtick.direction : in\n",
    "\n",
    "ytick.right : True\n",
    "ytick.labelsize : 13\n",
    "ytick.minor.visible : True\n",
    "ytick.direction : in\n",
    "\n",
    "# legend formating\n",
    "legend.loc : upper right\n",
    "legend.frameon : True\n",
    "legend.framealpha : 1.0\n",
    "legend.edgecolor : 0.0\n",
    "legend.fancybox : False\n",
    "legend.fontsize : 13\n",
    "\n",
    "# colormap\n",
    "image.cmap : viridis\n",
    "\n",
    "# Ensures use of \"tight_layout\" for saving the figure\n",
    "savefig.bbox : tight\n",
    "```\n",
    "\n",
    "**Notes** Some default styling also exists and could be called using the same command `plt.style.use('style_name')`. See `plt.style.available` to get a list of available default style setups existing locally. "
   ]
  },
  {
   "cell_type": "markdown",
   "metadata": {},
   "source": [
    "## III.3 References and supplementary material: <a class=\"anchor\" id=\"VI\"></a>\n",
    "\n",
    "Specific Matplotlib documentation (where to go when you do not know how to plot this/that):\n",
    "\n",
    "- [Thumbnail gallery](https://matplotlib.org/stable/gallery/index): hundreds of thumbnails linking to the source code used to make them (find a plot like the one you want to make): a VERY useful resource !\n",
    "- Pyplot Tutorial: https://matplotlib.org/stable/tutorials/introductory/pyplot.html#sphx-glr-tutorials-introductory-pyplot-py \n",
    "- [Matplotlib home page](https://matplotlib.org/): The place to start for exploring matplotlib capabilities. \n",
    "- Matplotlib manual: https://matplotlib.org/stable/index.html\n",
    "- [Seaborn package:](http://seaborn.pydata.org/index.html): a popular module for statistical data visualisation."
   ]
  },
  {
   "cell_type": "code",
   "execution_count": null,
   "metadata": {},
   "outputs": [],
   "source": []
  }
 ],
 "metadata": {
  "anaconda-cloud": {},
  "kernelspec": {
   "display_name": "Python [conda env:py3_lectures]",
   "language": "python",
   "name": "conda-env-py3_lectures-py"
  },
  "language_info": {
   "codemirror_mode": {
    "name": "ipython",
    "version": 3
   },
   "file_extension": ".py",
   "mimetype": "text/x-python",
   "name": "python",
   "nbconvert_exporter": "python",
   "pygments_lexer": "ipython3",
   "version": "3.7.11"
  }
 },
 "nbformat": 4,
 "nbformat_minor": 4
}
