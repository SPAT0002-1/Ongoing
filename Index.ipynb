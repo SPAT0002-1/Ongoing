{
 "cells": [
  {
   "cell_type": "markdown",
   "metadata": {},
   "source": [
    "# SPAT 0002-1: Statistical methods and data analysis \n",
    "\n",
    "\n",
    "/!\\ Some of the links to lectures notebook may not yet be active - Material (including e.g. some additional notes) will be added after lectures. \n",
    "\n",
    "## Content\n",
    "\n",
    "### [About this course](Introduction.ipynb)\n",
    "\n",
    "- Overview of the course \n",
    "- The [course in practice](Introduction.ipynb) (incl. advises regarding `git`) \n",
    "- How to [install a python distribution on my personal computer ?](Install_python.ipynb)\n",
    "- Test [installed libraries](Test_config.ipynb)\n",
    "\n",
    "###  [First steps in pyhon](01-Intro_to_python/Python_in_a_nutshell_Part1.ipynb)\n",
    "\n",
    "- [Python Primer](01-Intro_to_python/Python_in_a_nutshell_Part1.ipynb): Context, very first steps, variables and operators. \n",
    "- [Getting started with python](01-Intro_to_python/Python_in_a_nutshell_Part2.ipynb): Container objects (Lists, sets, tuples, dictionaries), Control-flow statements (if, while, for). \n",
    "The *notebook* with interactive cells completed as during the lecture is available [here](01-Intro_to_python/Python_in_a_nutshell_filled.ipynb) \n",
    "- [Scripting and Functions](01-Intro_to_python/Scripts_and_functions.ipynb). The *notebook* with interactive cells completed as  during the lecture is available [here](01-Intro_to_python/Scripts_and_functions_filled.ipynb) \n",
    "- Tips regarding the use of [Jupyter and IDE](01-Intro_to_python/Jupyter.ipynb) (Integrated Development Environment). \n",
    "\n",
    "\n",
    "### [Summary of the main python structures and commands](02-Main_useful_python_modules/Recap_python_L1.ipynb)\n",
    "\n",
    "- Main built-in python structures: Lists, sets, tuple, dictionaries and methods to manipulate them. \n",
    "- Control flow statements: `if`, `for`, `while`\n",
    "- Functions\n",
    "- List comprehensions"
   ]
  },
  {
   "cell_type": "markdown",
   "metadata": {},
   "source": [
    "### [Working with arrays and plotting](02-Main_useful_python_modules/Modules_in__python.ipynb)\n",
    "\n",
    "- What is a [module](02-Main_useful_python_modules/Modules_in__python.ipynb) ? The *notebook* with interactive cells completed as  during the lecture is available [here](02-Main_useful_python_modules/Modules_in_python_filled.ipynb). \n",
    "- [Overview of `numpy`](02-Main_useful_python_modules/Modules_in__python_numpy_Part1.ipynb): array definition, shape manipulation, .  The *notebook* with interactive cells completed as  during the lecture is available [here](02-Main_useful_python_modules/Modules_in__python_numpy_Part1-filled.ipynb).\n",
    "- [Working with `numpy` arrays](02-Main_useful_python_modules/Modules_in__python_numpy_Part2.ipynb): ufunc, aggregation, broadcasting, slicing, masking and indexing, reading from a txt file.  The *notebook* with interactive cells completed as  during the lecture is available [here](02-Main_useful_python_modules/Modules_in__python_numpy_Part2-filled.ipynb).\n",
    "- [Introduction to `matplotlib`](02-Main_useful_python_modules/Modules_in__python_matplotlib.ipynb): Simple plot, control of plotting properties, axes, ... The *notebook* with interactive cells completed as during the lecture is available [here](02-Main_useful_python_modules/Modules_in__python_matplotlib_filled.ipynb)."
   ]
  },
  {
   "cell_type": "markdown",
   "metadata": {},
   "source": [
    "### Exercises \n",
    "\n",
    "- List of [short exercises](Exercises/Python_Exercises_starter.ipynb) on lists, tuples, functions, numpy. Solutions are available [here](Exercises/Python_Exercises_starter_w_solutions.ipynb)\n",
    "- Additional [short training exercises #1](Exercises/Python_training_Exercises.ipynb)\n",
    "- Additional [short training exercises #2](Exercises/Python_training_Exercises_2.ipynb)\n",
    "- Additional [short training exercises #3](Exercises/Python_training_Exercises_3.ipynb)\n",
    "- Exercise: [Study of the variability of quasars](Exercises/Quasars_lightcurves.ipynb) observed in the framework of the Catalina survey. Solutions are available [here](Exercises/Quasars_lightcurves_w_solutions.ipynb)"
   ]
  },
  {
   "cell_type": "markdown",
   "metadata": {},
   "source": [
    "### Recap of [basic statistics and probability concepts](03-Basic_statistics_and_proba_concepts/Basic-statistics_01_Part1a.ipynb)\n",
    "\n",
    "- Random variable, [Conditional probability and Bayes theorem](03-Basic_statistics_and_proba_concepts/Basic-statistics_01_Part1a.ipynb). The *notebook* with interactive cells completed as during the lecture is available [here](03-Basic_statistics_and_proba_concepts/Basic-statistics_01_Part1a_filled.ipynb)\n",
    "- What are [PDF, CDF](03-Basic_statistics_and_proba_concepts/Basic-statistics_01_Part1b.ipynb), and how to use them?. The *notebook* with interactive cells completed as  during the lecture is available [here](03-Basic_statistics_and_proba_concepts/Basic-statistics_01_Part1b_filled.ipynb)\n",
    " "
   ]
  },
  {
   "cell_type": "markdown",
   "metadata": {},
   "source": [
    "### Descriptive statistics\n",
    "\n",
    "This is a recap on statistical quantities commonly used and on common univariate distribution. (Optional if you fulfill prerequisites) \n",
    "\n",
    "- [Quantities describing distribution functions](03-Basic_statistics_and_proba_concepts/Descriptive_statistics_01.ipynb)\n",
    "    * Population Statistics\n",
    "    * Sample Statistics\n",
    "    * Bias of an estimator\n",
    "    * Statistics of multivariate distributions\n",
    "    * Change of variable\n",
    "- [Very common Univariate distributions](03-Basic_statistics_and_proba_concepts/Descriptive_statistics_02.ipynb)   \n",
    "    * Bernouilli distribution\n",
    "    * Uniform distribution\n",
    "    * Binomial distribution\n",
    "    * Hypergeometric distribution\n",
    "    * Poisson distribution\n",
    "    * Geometric distribution\n",
    "    * Gaussian distribution\n",
    "    * Chi2 distribution\n",
    "    * Student's distribution"
   ]
  },
  {
   "cell_type": "markdown",
   "metadata": {},
   "source": [
    "### [Frequentist inference](04-Basic_statistical_inference_frequentists_2/Frequentist_inference_01.ipynb)\n",
    "\n",
    "- [What is statistical inference ?](04-Basic_statistical_inference_frequentists_2/Frequentist_inference_01.ipynb)\n",
    "\n",
    "- [Point estimate](04-Basic_statistical_inference_frequentists_2/Frequentist_inference_01.ipynb) (see [here](04-Basic_statistical_inference_frequentists_2/Frequentist_inference_01-filled.ipynb) for the filled version)\n",
    "    * Summary of useful statistics\n",
    "    * Distributions of estimators\n",
    "\n",
    "- [Confidence interval](04-Basic_statistical_inference_frequentists_2/Frequentist_inference_02.ipynb) (see [here](04-Basic_statistical_inference_frequentists_2/Frequentist_inference_02-filled.ipynb) for the filled version)\n",
    "    * Normal distribution with a [known variance](04-Basic_statistical_inference_frequentists_2/Frequentist_inference_02.ipynb)\n",
    "    * [Interpretation of CI](04-Basic_statistical_inference_frequentists_2/Frequentist_inference_02.ipynb)\n",
    "    * Normal distribution with an [unknown variance](04-Basic_statistical_inference_frequentists_2/Frequentist_inference_02.ipynb)\n",
    "    * Confidence interval [for variances](04-Basic_statistical_inference_frequentists_2/Frequentist_inference_03.ipynb) \n",
    "    * Confidence interval [between 2 means](04-Basic_statistical_inference_frequentists_2/Frequentist_inference_03.ipynb) \n",
    "    * Confidence interval [for proportions](04-Basic_statistical_inference_frequentists_2/Frequentist_inference_03.ipynb) \n",
    "    \n",
    "- [Hypothesis testing](04-Basic_statistical_inference_frequentists_2/Frequentist_inference_H_test.ipynb) (*No covered*): \n",
    "    * Student's t test\n",
    "    * Paired test to compare means ot 2 dependent populations\n",
    "    * Paired test for means of 2 independent populations\n",
    "    * What to do if the population distributions are not gaussian ?\n",
    "    * Hypothesis testing for proportions\n",
    "    \n",
    "- [Monte-Carlo method and uncertainty calculation](04-Basic_statistical_inference_frequentists_2/Frequentist_inference_Monte_Carlo.ipynb) (See [here](04-Basic_statistical_inference_frequentists_2/Frequentist_inference_Monte_Carlo-filled.ipynb) for the filled version)\n",
    "- [Bootstrap and Jacknife](04-Basic_statistical_inference_frequentists_2/Frequentist_inference_Bootstrap.ipynb) (*Not covered*)\n"
   ]
  },
  {
   "cell_type": "markdown",
   "metadata": {},
   "source": [
    "### [Frequentist inference: MLE, regression](05-MLE_and_regression/Regression_short.ipynb)\n",
    "\n",
    "- [Maximum Likelihood estimation (MLE)](05-MLE_and_regression/Regression_short.ipynb)\n",
    "    * Likelihood function\n",
    "    * Maximum Likelihood estimation\n",
    "    * Properties of MLE estimators\n",
    "    * Illustration of the MLE approach\n",
    "- [Regression and model fitting](05-MLE_and_regression/Regression_short.ipynb): \n",
    "    * Regression for linear models\n",
    "    * Regularization and penalization of the likelihood\n",
    "    * Regression for non-linear models \n",
    "\n",
    "[Regression and model fitting: Filled](05-MLE_and_regression/Regression_short-filled.ipynb)"
   ]
  },
  {
   "cell_type": "markdown",
   "metadata": {},
   "source": [
    "### [Bayesian inference](06-Bayesian_inference_MCMC/Bayes_basics_short.ipynb)\n",
    "\n",
    "- [Basic concepts of Bayesian inference](06-Bayesian_inference_MCMC/Bayes_basics_short.ipynb)\n",
    "    * Difference between Bayesian and Frequentist inference\n",
    "    * Principles and Bayesian inference\n",
    "    * The Bayes theorem \n",
    "- Simple Bayesian modeling: [Fitting a line to data](06-Bayesian_inference_MCMC/Bayes_simple_modeling.ipynb) / [Filled version](06-Bayesian_inference_MCMC/Bayes_simple_modeling-filled.ipynb) \n",
    "- Bayesian modeling with [Monte Carlo Markov Chains -MCMC](06-Bayesian_inference_MCMC/Bayes_MCMC.ipynb) / [Filled version](06-Bayesian_inference_MCMC/Bayes_MCMC-filled.ipynb)\n",
    "- A side view on Bayesian regression and difference between Frequentist and Bayesian approaches [Bayesian_regression_revisited.ipynb](06-Bayesian_inference_MCMC/Bayesian_regression_revisited.ipynb)\n",
    "\n",
    "### [Make your own MCMC](06-Bayesian_inference_MCMC/Exr-Make_your_own_MCM.ipynb)  \n",
    "\n",
    "- Metropolis Hastings procedure step by step.  ([Solution](06-Bayesian_inference_MCMC/Exr-Make_your_own_MCMC_filled.ipynb))\n",
    "\n",
    "### [Fourier Analysis](08-Signal_Processing/Nyquist.ipynb)\n",
    "\n",
    "- [Nyquist theorem and sampling](08-Signal_Processing/Nyquist.ipynb)\n",
    "- [Fourier transform](08-Signal_Processing/Nyquist.ipynb) of a evenly sampled signal\n",
    "- [Power spectral Density (PSD) and Periodogram](08-Signal_Processing/Nyquist.ipynb#b.-Periodogram)\n",
    "- [Welsh Method](08-Signal_Processing/Nyquist.ipynb) for PSD calculation\n",
    "- [Aliasing](08-Signal_Processing/Nyquist.ipynb)\n",
    "- [Colors of Noise](08-Signal_Processing/Noise_and_windowing_updated.ipynb)\n",
    "- [Impact of Noise and windowing on the PSD](08-Signal_Processing/Noise_and_windowing_updated.ipynb)\n",
    "- [Spectrograms](08-Signal_Processing/Noise_and_windowing_updated.ipynb)"
   ]
  },
  {
   "cell_type": "markdown",
   "metadata": {},
   "source": [
    "## Additional material \n",
    "\n",
    "the following items include material that is not part of the course but which may be useful in your curriculum. Some contents of the scipy Notebook is covered in the statistics part of the lecture. Note that some of those notebooks used python 2 or early versions of the presented modules. This may yeild error messages that should be easily fixed. Most of the errors that may happen due to the change from python 2 to python 3 regard the `print` statement. When python 2 uses `print \"meassage\"`, python 3 uses `print(\"message\")`. \n",
    "\n",
    "### [Linux Survival Kit](01-Intro_to_python/Intro-Linux.ipynb) \n",
    "\n",
    "- What is Linux ?\n",
    "- Why learning shell ?\n",
    "- Important shell commands\n",
    "- A few words about various shells\n",
    "\n",
    "### [Being more advanced with numpy](Modules_in_python_numpy_adv.ipynb): \n",
    "\n",
    "- Differences between a copy and a view of an array ? \n",
    "- Manipulating the shape of an array\n",
    "- Reading arrays from a file\n",
    "- String formatting\n",
    "- More useful `numpy` functions\n",
    "\n",
    "### [Introduction to `scipy`](02-Main_useful_python_modules/Modules_in__python_scipy.ipynb): \n",
    "\n",
    "- Special functions (`scipy.special`) \n",
    "- linear algebra (`scipy.linalg`)\n",
    "- statistics and random numbers (`scipy.stats`)\n",
    "- interpolation (`scipy.interpolate`), physical constants (`scipy.constants`) \n",
    "- numerical integration (`scipy.integrate`)\n",
    "- Function minimization and fitting (`scipy.optimize`) \n",
    "\n",
    "### [Standard library](02-Main_useful_python_modules/Modules_in__python_scipy.ipynb): \n",
    "\n",
    "- `os` : Operating systema functionalities (reading files in directories, create/rename directories, ...)\n",
    "- `subprocess`: How to run an external program from a python code \n",
    "- `sys`: System specific information and method to read command line arguments.  \n",
    "\n",
    "### [Astropy Basics](07-Astropy/Astropy_fits_image.ipynb)  \n",
    "\n",
    "A good tutorial to astropy is now available at https://learn.astropy.org/ \n",
    "\n",
    "- Viewing and manipulating [fits images](07-Astropy/Astropy_fits_image.ipynb), [tables](07-Astropy/Astropy_fits_table.ipynb), and [headers](07-Astropy/Astropy_fits_header.ipynb) (`astropy.io.fits`)\n",
    "- Overlay image [coordinates on an image](07-Astropy/Astropy_coordinates.ipynb) (`astropy.wcs`)\n",
    "- Work with image [coordinates](07-Astropy/Astropy_coordinates.ipynb) (`astropy.coordinates.Skycoord`)\n",
    "- Use of [quantities for astrophysical calculations](07-Astropy/Astropy_quantities.ipynb) (`astropy.units`, `astropy.constants`)"
   ]
  },
  {
   "cell_type": "markdown",
   "metadata": {},
   "source": [
    "## Software requirements\n",
    "\n",
    "You can use [Test_config.ipynb](Test_config.ipynb) to check those imports. \n",
    "Those notebooks require installation of: \n",
    "- numpy\n",
    "- os, subprocess, sys\n",
    "- scipy\n",
    "- matplotlib\n",
    "- sklearn\n",
    "- random \n",
    "- astropy\n",
    "- git (optional ; can be installed stand-alone)\n",
    "- ipywidgets (optional)\n",
    "- astroML (optional ; can be installed using `pip install`)\n",
    "- emcee, corner (can be installed using `pip install`)"
   ]
  },
  {
   "cell_type": "code",
   "execution_count": null,
   "metadata": {
    "collapsed": true,
    "jupyter": {
     "outputs_hidden": true
    }
   },
   "outputs": [],
   "source": []
  }
 ],
 "metadata": {
  "kernelspec": {
   "display_name": "Python [conda env:intel-python3]",
   "language": "python",
   "name": "conda-env-intel-python3-py"
  },
  "language_info": {
   "codemirror_mode": {
    "name": "ipython",
    "version": 3
   },
   "file_extension": ".py",
   "mimetype": "text/x-python",
   "name": "python",
   "nbconvert_exporter": "python",
   "pygments_lexer": "ipython3",
   "version": "3.7.9"
  }
 },
 "nbformat": 4,
 "nbformat_minor": 4
}
