{
 "cells": [
  {
   "cell_type": "markdown",
   "metadata": {},
   "source": [
    "# Measuring the half-light radius of a 2D intensity profile \n",
    "\n",
    "This exercise requires the knowledge of numpy and matplotlib. \n",
    "\n",
    "In the framework of the study of an adaptive optics system, you need to calculate the fraction of the light enclosed into a Point Spread Function as a function of radius. You therefore need to calculate the azimuthaly averaged intensity (over circular apertures) as a function of radius. \n",
    "\n",
    "To reach this goal, you may want to proceed step-by-step, and first study the case of a circular gaussian intensity profile for which you know, e.g., that the Half-light radius = FWHM / 2 and for which you can  calculate analytically the enclosed flux as a function of radius (In other words, you know analytically that for a circular 2D gaussian, FWHM $= 2 * \\sqrt{2 * ln(2)} \\sigma$  ). The following strategy may help you to adress the problem step-by-step.  \n",
    "\n",
    "- 1) Write a function that returns an array containing a circular 2D Gaussian profile. \n",
    "$$\n",
    "G = I * \\exp{\\left(-0.5 * \\left(\\left(\\frac{x-x_c}{\\sigma}\\right)^2 + \\left(\\frac{y-y_c}{\\sigma}\\right)^2 \\right)\\right)}\n",
    "$$\n",
    "\n",
    "- 2) Calculate the flux within circular annulii of 1 pixel width centered on ($x_0$, $y_0$). For simplicity, assume that $x_0$ and $y_0$ are at the center of the pixels grid. For simplicity, you can also work with \"pixelated\" circle (if only a fraction of the flux of a pixel is not inside the circle, you can ignore calculating the fraction of the flux missed). \n",
    "\n",
    "- 3) Based on (2), do a cumulative sum (from the center to the outskirt) to find the half-light radius of the profile. Verify that the half-light radius of a circular gaussian is FWHM / 2.  \n",
    "\n",
    "- 4) Write a function that allows you to deal with a PSF that is not centered on the pixel grid. The function should identify the peak of the PSF and extract a (smaller) sub-array centered on this PSF. \n",
    "\n",
    "- 5) Write a function that generalises the calculation you did in (2) and (3), allowing for the calculation of the half-light radius of a 2D profile not centered on the pixel grid (i.e. call the function written in (4)), and returning the fraction of the total intensity as a function of radius. \n",
    "\n",
    "- 6) Apply the function written in (5) to a 2D elliptical gaussian profile or to any 2D profile of your choice. \n",
    "\n",
    "TIP: you can calculate the distance to the center ($x_0$, $y_0$) and search for the pixels in a given range of distances. \n"
   ]
  },
  {
   "cell_type": "code",
   "execution_count": null,
   "metadata": {},
   "outputs": [],
   "source": []
  }
 ],
 "metadata": {
  "kernelspec": {
   "display_name": "Python [conda env:py3_lectures]",
   "language": "python",
   "name": "conda-env-py3_lectures-py"
  },
  "language_info": {
   "codemirror_mode": {
    "name": "ipython",
    "version": 3
   },
   "file_extension": ".py",
   "mimetype": "text/x-python",
   "name": "python",
   "nbconvert_exporter": "python",
   "pygments_lexer": "ipython3",
   "version": "3.7.11"
  }
 },
 "nbformat": 4,
 "nbformat_minor": 4
}
