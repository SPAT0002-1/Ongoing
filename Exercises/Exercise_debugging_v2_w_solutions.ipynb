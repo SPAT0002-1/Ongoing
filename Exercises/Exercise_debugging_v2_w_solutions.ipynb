{
 "cells": [
  {
   "cell_type": "markdown",
   "id": "77e48b0b-4e7c-4195-a40f-16c97a462995",
   "metadata": {},
   "source": [
    "# Debugging exercise (Solved)\n",
    "\n",
    "\n",
    "The following code has several errors that you should detect and correct.   \n",
    "\n",
    "The goal of this code is to compute and print the orbit of a planet.\n",
    "The user can define the basic parameters for the planet (mass, semi-major axis, eccentricity) and the star (mass).   "
   ]
  },
  {
   "cell_type": "code",
   "execution_count": null,
   "id": "5c402b84-fd7b-4973-9f76-cd47cbf8b80f",
   "metadata": {},
   "outputs": [],
   "source": [
    "# CODE TO DEBUG ... \n",
    "import matplotlib.pyplot as plt\n",
    "\n",
    "# -----------------------------------------------------------------\n",
    "# User defined parameters:\n",
    "Star_mass = 3 # M_Sun\n",
    "Planet_mass = 0.6 # M_Earth\n",
    "\n",
    "a = 0.02 # Planet's semi-major axis, in AU.\n",
    "e = 0.4 # Planet's eccentricity (within [0;1[) (0 = circular, 1 = parabolic)\n",
    "\n",
    "# -----------------------------------------------------------------\n",
    "# Conversion to SI\n",
    "Star_mass = Star_mass * 1.9891E+030 # Sun's mass in [kg]\n",
    "Planet_mass = Planet_mass * 5.9736E+024 # Earth mass in [kg].\n",
    "\n",
    "# Other parameters.\n",
    "G = 0,000000000066743 # m³.kg-¹.s-²\n",
    "\n",
    "# Using Kepler's third law :\n",
    "# a^3 / T^2 = GM / (4 pi^2)\n",
    "# => T = sqrt((4 pi^2 a^3) / GM)\n",
    "\n",
    "T = np.sqrt((4 * np.pi**2 * a**3) / G * Star_mass)\n",
    "print(\"T [s] : \", T, \"   T [yr] : \", T/(3600*24*365))\n",
    "\n",
    "i = 0\n",
    "\n",
    "# -----------------------------------------------------------------\n",
    "pos_x = ()\n",
    "pos_y = ()\n",
    "\n",
    "# -----------------------------------------------------------------\n",
    "# Operations\n",
    "sampling = 4 # Number of points in on the orbit.\n",
    "print(int(T), int(T/sampling))\n",
    "\n",
    "#for i in range(0, int(T), int(T/sampling)):\n",
    "for i in range(0, sampling):\n",
    "\n",
    "    mean_anomaly = (360 / T) * (i*T/sampling)\n",
    "    eccentric_anomaly = Get_eccentric_anomaly(e, mean_anomaly)\n",
    "    True_anomaly = 2 * np.arctan(np.sqrt((1+e)/(1-e)) * np.tan(eccentric_anomaly / 2))\n",
    "\n",
    "    r = a * (1-e*np.cos(eccentric_anomaly))\n",
    "\n",
    "pos_x.append(r * np.cos(true_anomaly))\n",
    "pos_y.append(r * np.sin(true_anomaly))\n",
    "\n",
    "print(i, pos_x[-1], pos_y[-1])\n",
    "\n",
    "\n",
    "plt.plot(pos_x, pos_y, color='blue')\n",
    "plt.title(\"Orbit of the planet\")\n",
    "plt.xlabel(\"[m]\")\n",
    "plt.ylabel(\"[m]\")\n",
    "\n",
    "plt.plot(0,0,'ro') # star\n",
    "\n",
    "\n",
    "def Get_eccentric_anomaly(eccentricity, in_mean_anomaly):    # argument2 = 2 par défaut\n",
    "    \"\"\"\n",
    "    This function computes the eccentric_anomaly by iterating over a formula.\n",
    "    \"\"\"\n",
    "    i = 0\n",
    "\n",
    "    for i in range(0, 6):\n",
    "        in_eccentric_anomaly = in_mean_anomaly + eccentricity * sin(in_eccentric_anomaly)\n",
    "        #print(\"   i:\", i, \"     E:\", in_eccentric_anomaly)\n"
   ]
  },
  {
   "cell_type": "markdown",
   "id": "59575efc-3576-4ff1-a087-1aa518f2d01b",
   "metadata": {},
   "source": [
    "## Solution "
   ]
  },
  {
   "cell_type": "code",
   "execution_count": 1,
   "id": "cb1d780a-461e-4762-8e3a-36b559b03741",
   "metadata": {
    "tags": []
   },
   "outputs": [],
   "source": [
    "import matplotlib.pyplot as plt\n",
    "# Add numpy import that was missing \n",
    "import numpy as np # "
   ]
  },
  {
   "cell_type": "code",
   "execution_count": 2,
   "id": "1fdaffe1-0c22-47e4-9303-bffc8bd52c8d",
   "metadata": {
    "tags": []
   },
   "outputs": [],
   "source": [
    "# -----------------------------------------------------------------\n",
    "# User defined parameters:\n",
    "Star_mass = 3 # M_Sun\n",
    "Planet_mass = 0.6 # M_Earth\n",
    "\n",
    "a = 0.02 # Planet's semi-major axis, in AU.\n",
    "e = 0.4 # Planet's eccentricity (within [0;1[) (0 = circular, 1 = parabolic)"
   ]
  },
  {
   "cell_type": "code",
   "execution_count": 3,
   "id": "15e295fa-7422-4ded-b0da-716d6588a8e2",
   "metadata": {
    "tags": []
   },
   "outputs": [],
   "source": [
    "# Test cell # Run only once to check that the output values make sense \n",
    "# Verify with values that you know \n",
    "\n",
    "Star_mass = 1 # M_Sun\n",
    "Planet_mass = 1.0 # M_Earth\n",
    "\n",
    "a = 1.0 # Planet's semi-major axis, in AU.\n",
    "e = 0.01671 # Planet's eccentricity (within [0;1[) (0 = circular, 1 = parabolic)\n"
   ]
  },
  {
   "cell_type": "code",
   "execution_count": 4,
   "id": "7297ea15-bc56-40a3-aaa7-8367eed7f6d0",
   "metadata": {
    "tags": []
   },
   "outputs": [
    {
     "name": "stdout",
     "output_type": "stream",
     "text": [
      "T [s] :  31680030.163122434    T [yr] :  1.0045671665120002\n"
     ]
    }
   ],
   "source": [
    "# Conversion to SI\n",
    "#Star_mass = Star_mass * 1.9891E+030 # Sun's mass in [kg]\n",
    "#Planet_mass = Planet_mass * 5.9736E+024 # Earth mass in [kg].\n",
    "# Use correct syntax for scientific notations \n",
    "Star_mass = Star_mass * 1.9891e30 # Sun's mass in [kg]\n",
    "Planet_mass = Planet_mass * 5.9736e24 # Earth mass in [kg].\n",
    "\n",
    "# Other parameters.\n",
    "#G = 0,000000000066743 # m³.kg-¹.s-²\n",
    "# Do not use coma but dot as decimal separator! \n",
    "G = 0.000000000066743 # m³.kg-¹.s-²\n",
    "# And prefer scientific notation ...  \n",
    "G = 6.6743e-11 \n",
    "\n",
    "# Using Kepler's third law :\n",
    "# a^3 / T^2 = GM / (4 pi^2)\n",
    "# => T = sqrt((4 pi^2 a^3) / GM)\n",
    "\n",
    "#T = np.sqrt((4 * np.pi**2 * a**3) / G * Star_mass)\n",
    "# Put the parenthesis at the right place ! \n",
    "# AND convert a into meters \n",
    "a_meters = a * 150.e9  \n",
    "T = np.sqrt( (4 * np.pi**2 * a_meters**3) / (G * (Star_mass)) )\n",
    "print(\"T [s] : \", T, \"   T [yr] : \", T / (3600*24*365) )"
   ]
  },
  {
   "cell_type": "code",
   "execution_count": 5,
   "id": "0be66ca6-47f9-417e-8fb4-ff5d0656afbe",
   "metadata": {
    "tags": []
   },
   "outputs": [],
   "source": [
    "def Get_eccentric_anomaly(eccentricity, in_mean_anomaly):    # argument2 = 2 par défaut\n",
    "    \"\"\"\n",
    "    This function computes the eccentric_anomaly by iterating over a formula.\n",
    "    The number of iteration is fixed to 6 \n",
    "\n",
    "    Parameters:\n",
    "    \n",
    "    eccentricity (float): planet eccentricity \n",
    "    in_mean_anomaly (float): planet mean anomaly\n",
    "    \n",
    "    Return: \n",
    "    Eccentric anomaly (float)\n",
    "    \"\"\"\n",
    "    i = 0\n",
    "#   initialise in_eccentric_anomaly\n",
    "    in_eccentric_anomaly = in_mean_anomaly  \n",
    "    \n",
    "    for i in range(0, 6):\n",
    "#        in_eccentric_anomaly = in_mean_anomaly + eccentricity * sin(in_eccentric_anomaly)\n",
    "# np.sin instead of sin()\n",
    "        in_eccentric_anomaly = in_mean_anomaly + eccentricity * np.sin(in_eccentric_anomaly)\n",
    "        #print(\"   i:\", i, \"     E:\", in_eccentric_anomaly)\n",
    "\n",
    "    return in_eccentric_anomaly"
   ]
  },
  {
   "cell_type": "code",
   "execution_count": 7,
   "id": "966460ca-3ddf-4094-8f6e-e552637f5af5",
   "metadata": {
    "tags": []
   },
   "outputs": [
    {
     "name": "stdout",
     "output_type": "stream",
     "text": [
      "31680030 79200.07540780609\n",
      "400 0.98329 -2.4489516235208304e-16\n"
     ]
    },
    {
     "data": {
      "image/png": "[encoded data removed]",
      "text/plain": [
       "<Figure size 640x480 with 1 Axes>"
      ]
     },
     "metadata": {},
     "output_type": "display_data"
    }
   ],
   "source": [
    "# -----------------------------------------------------------------\n",
    "# There is a append later => use list instead of tuples \n",
    "# pos_x, pos_y = (), () \n",
    "pos_x = []\n",
    "pos_y = []\n",
    "\n",
    "# -----------------------------------------------------------------\n",
    "# Operations\n",
    "sampling = 400 # Number of points in on the orbit. Increase from 4 to e.g. 400 \n",
    "#print(int(T), int(T/sampling))\n",
    "print(int(T), T/sampling)\n",
    "\n",
    "#for i in range(0, int(T), int(T/sampling)):\n",
    "\n",
    "#for i in range(0, sampling):\n",
    "# We missed the last sampling point\n",
    "for i in range(0, sampling+1):\n",
    "    \n",
    "#    mean_anomaly = (360 / T) * (i * T/sampling)\n",
    "# The mean anomaly requires the full period to be in radians, not in degrees \n",
    "    mean_anomaly = (2. * np.pi / T) * (i * T/sampling)\n",
    "    eccentric_anomaly = Get_eccentric_anomaly(e, mean_anomaly)\n",
    "#    print(i, \"eccentric_anomaly:\", eccentric_anomaly)\n",
    "    True_anomaly = 2 * np.arctan(np.sqrt( (1+e) / (1-e)) * np.tan(eccentric_anomaly / 2.))\n",
    "    \n",
    "    r = a * (1 - e*np.cos(eccentric_anomaly))\n",
    "\n",
    "    # The list with the position should be MOVED IN THE LOOP\n",
    "    # The variable is named True_anomaly, not true_anomaly\n",
    "    #pos_x.append(r * np.cos(true_anomaly))\n",
    "    #pos_y.append(r * np.sin(true_anomaly))\n",
    "    pos_x.append(r * np.cos(True_anomaly))\n",
    "    pos_y.append(r * np.sin(True_anomaly))\n",
    "\n",
    "print(i, pos_x[-1], pos_y[-1])\n",
    "\n",
    "f, ax = plt.subplots(nrows=1, ncols=1, subplot_kw={'aspect':'equal'})\n",
    "plt.plot(pos_x, pos_y, color='blue')\n",
    "plt.title(\"Orbit of the planet\")\n",
    "\n",
    "# The labels should not be m but AU \n",
    "# Original labeling\n",
    "#plt.xlabel(\"[m]\")\n",
    "#plt.ylabel(\"[m]\")\n",
    "# Correct labeling below \n",
    "plt.xlabel(\"[AU]\")\n",
    "plt.ylabel(\"[AU]\")\n",
    "\n",
    "plt.plot(0,0,'ro') # star\n",
    "plt.show()"
   ]
  },
  {
   "cell_type": "markdown",
   "id": "3871219e-6dd5-43de-899f-15ae074c84da",
   "metadata": {},
   "source": [
    "## Going further (optional)\n",
    "\n",
    "Now, that your code is working, you can consider reformatting it to make make it more flexible.   \n",
    "By splitting it into more function you may more easily modify it to plot the orbits of several planets with different masses and eccentricities. "
   ]
  },
  {
   "cell_type": "code",
   "execution_count": null,
   "id": "82e0e1d6-3438-404f-ac50-a846f1b47b81",
   "metadata": {},
   "outputs": [],
   "source": []
  }
 ],
 "metadata": {
  "kernelspec": {
   "display_name": "Python [conda env:py3_lectures]",
   "language": "python",
   "name": "conda-env-py3_lectures-py"
  },
  "language_info": {
   "codemirror_mode": {
    "name": "ipython",
    "version": 3
   },
   "file_extension": ".py",
   "mimetype": "text/x-python",
   "name": "python",
   "nbconvert_exporter": "python",
   "pygments_lexer": "ipython3",
   "version": "3.7.12"
  }
 },
 "nbformat": 4,
 "nbformat_minor": 5
}
