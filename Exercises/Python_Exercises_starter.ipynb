{
 "cells": [
  {
   "cell_type": "markdown",
   "metadata": {},
   "source": [
    "# Exercises on lists, sets, functions and arrays\n",
    "\n",
    "To save time, for the following exercise, you can keep the function documentation to their minimum. \n",
    "\n",
    "See also the notebook [Exercises_list_arrays_extra_commands.ipynb](Exercises_list_arrays_extra_commands.ipynb) for a few commands that we have only incidently used during lectures but which may be useful. "
   ]
  },
  {
   "cell_type": "code",
   "execution_count": null,
   "metadata": {},
   "outputs": [],
   "source": []
  },
  {
   "cell_type": "markdown",
   "metadata": {},
   "source": [
    "1) Find the smallest element in a list of floats (or integers) without using numpy (you can use a `for loop`. "
   ]
  },
  {
   "cell_type": "code",
   "execution_count": null,
   "metadata": {},
   "outputs": [],
   "source": []
  },
  {
   "cell_type": "markdown",
   "metadata": {},
   "source": [
    "2) Write a Python function that takes two lists and returns `True` if they have at least one common member. "
   ]
  },
  {
   "cell_type": "code",
   "execution_count": null,
   "metadata": {},
   "outputs": [],
   "source": []
  },
  {
   "cell_type": "code",
   "execution_count": null,
   "metadata": {},
   "outputs": [],
   "source": []
  },
  {
   "cell_type": "markdown",
   "metadata": {},
   "source": [
    "3) Remove even numbers from a list of integers. "
   ]
  },
  {
   "cell_type": "code",
   "execution_count": null,
   "metadata": {},
   "outputs": [],
   "source": []
  },
  {
   "cell_type": "code",
   "execution_count": null,
   "metadata": {},
   "outputs": [],
   "source": []
  },
  {
   "cell_type": "markdown",
   "metadata": {},
   "source": [
    "4) Write a command to remove duplicates (i.e. non unique values) from a list "
   ]
  },
  {
   "cell_type": "code",
   "execution_count": null,
   "metadata": {},
   "outputs": [],
   "source": []
  },
  {
   "cell_type": "markdown",
   "metadata": {},
   "source": [
    "5) Create a list by concatenating a given list of string L1 with whith integers ranging from 1 to n.\n",
    "Sample list : `L1 =  ['fa_', 'fb_']\n",
    "`n = 4`\n",
    "Sample Output : `['fa_1', 'fa_2', 'fa_3', 'fa_4', 'fb_1', 'fb_2', 'fb_3', 'fb_4']`"
   ]
  },
  {
   "cell_type": "code",
   "execution_count": null,
   "metadata": {},
   "outputs": [],
   "source": []
  },
  {
   "cell_type": "markdown",
   "metadata": {},
   "source": [
    "6) Find missing and additional values in two lists.     \n",
    "Sample lists: list1 = ['a','b','c','d','e','f'], list2 = ['d','e','f','g','h']    \n",
    "Expected output: \n",
    "```python\n",
    "Missing values in second list:  ['c', 'b', 'a']\n",
    "Additional values in second list:  ['h', 'g']\n",
    "```\n",
    "\n",
    "*TIP:* Search in the help if there is no built-in method associated to `set` that could be helpful . "
   ]
  },
  {
   "cell_type": "code",
   "execution_count": null,
   "metadata": {},
   "outputs": [],
   "source": []
  },
  {
   "cell_type": "markdown",
   "metadata": {},
   "source": [
    "7) You have a tule `tup = (1, 2, 'a', 3)`. How do you convert this tuple into 4 variables 'v1, v2, v3, v4'"
   ]
  },
  {
   "cell_type": "code",
   "execution_count": null,
   "metadata": {},
   "outputs": [],
   "source": []
  },
  {
   "cell_type": "markdown",
   "metadata": {},
   "source": [
    "8) Write a function \"convert_temperature()\" that converts degrees celcius into Farenheit and vice-versa. Write your function such that the user enters the temperature (integer value) followed by \"F\" for farenheit and \"C\" for degrees. The conversion between degrees and Farenheit is the following: \n",
    "\n",
    "$$ \n",
    "\\frac{C}{5} = \\frac{(F - 32)}{9}\n",
    "$$\n",
    "\n",
    "Try to use the `input` command such that the user can answer interactively to the following question: \"Input the  temperature you like to convert? (e.g., 45F, 102C etc.) : \" "
   ]
  },
  {
   "cell_type": "code",
   "execution_count": null,
   "metadata": {},
   "outputs": [],
   "source": []
  },
  {
   "cell_type": "code",
   "execution_count": null,
   "metadata": {},
   "outputs": [],
   "source": []
  },
  {
   "cell_type": "markdown",
   "metadata": {},
   "source": [
    "9) Calculate Fibonacci series between up to the value of your choice. The Fibonacci Sequence is the series of numbers : 0, 1, 1, 2, 3, 5, 8, 13, 21, ... Every next number is found by adding up the two numbers before it. Check that the ratio between a value of the series and the previous one (after 3rd one) converges to the \"gold number\" $\\phi = $ 1.618. "
   ]
  },
  {
   "cell_type": "code",
   "execution_count": null,
   "metadata": {},
   "outputs": [],
   "source": []
  },
  {
   "cell_type": "code",
   "execution_count": null,
   "metadata": {},
   "outputs": [],
   "source": []
  },
  {
   "cell_type": "code",
   "execution_count": null,
   "metadata": {},
   "outputs": [],
   "source": []
  },
  {
   "cell_type": "markdown",
   "metadata": {},
   "source": [
    "10) Write a function to check if a string reprensents an integer or not. (e.g. '12345' is an integer but '123d45' is NOT an integer). "
   ]
  },
  {
   "cell_type": "code",
   "execution_count": null,
   "metadata": {},
   "outputs": [],
   "source": []
  },
  {
   "cell_type": "code",
   "execution_count": null,
   "metadata": {},
   "outputs": [],
   "source": []
  },
  {
   "cell_type": "code",
   "execution_count": null,
   "metadata": {},
   "outputs": [],
   "source": []
  },
  {
   "cell_type": "markdown",
   "metadata": {},
   "source": [
    "11) Create a 3x3 numpy array with values ranging from 2 to 10.    \n",
    "Expected output     \n",
    "\n",
    "```\n",
    "array([[ 2,  3,  4],\n",
    "       [ 5,  6,  7],\n",
    "       [ 8,  9, 10]])\n",
    "```"
   ]
  },
  {
   "cell_type": "code",
   "execution_count": null,
   "metadata": {},
   "outputs": [],
   "source": []
  },
  {
   "cell_type": "markdown",
   "metadata": {},
   "source": [
    "12) Reverse a 1D numpy array (first element becomes last).    \n",
    "\n",
    "```\n",
    "[INPUT] array([40, 41, 42, 43, 44, 45, 46, 47, 48, 49])\n",
    "[OUTPUT] array([49, 48, 47, 46, 45, 44, 43, 42, 41, 40])\n",
    "```"
   ]
  },
  {
   "cell_type": "code",
   "execution_count": null,
   "metadata": {},
   "outputs": [],
   "source": []
  },
  {
   "cell_type": "markdown",
   "metadata": {},
   "source": [
    "13) Write a numpy code to \"add\" a border filled with 0's around an existing 2D array. Take an array of 3x3 filled with ones.    \n",
    "TIP: Search how to use the `numpy.pad()` method. "
   ]
  },
  {
   "cell_type": "code",
   "execution_count": null,
   "metadata": {},
   "outputs": [],
   "source": []
  },
  {
   "cell_type": "markdown",
   "metadata": {},
   "source": [
    "14) Concatenate the 3 arrays `a1=[10, 20, 30]`, `a2 = [40, 50, 60]`, `a3=[70, 80, 90]` into a single array `[10 20 30 40 50 60 70 80 90]` (there are at least 2 ways to reach the result with a single command line: try them both). "
   ]
  },
  {
   "cell_type": "code",
   "execution_count": null,
   "metadata": {},
   "outputs": [],
   "source": []
  },
  {
   "cell_type": "code",
   "execution_count": null,
   "metadata": {},
   "outputs": [],
   "source": []
  },
  {
   "cell_type": "markdown",
   "metadata": {},
   "source": [
    "15) Sort the following array of shape 2 `[[10, 5, 1], [20, 8, 2], [5, 2, 0]]` along the first axis, last axis and on flattened array. Compare the results. How do you get the indices that would sort your array ? "
   ]
  },
  {
   "cell_type": "code",
   "execution_count": null,
   "metadata": {},
   "outputs": [],
   "source": []
  },
  {
   "cell_type": "code",
   "execution_count": null,
   "metadata": {},
   "outputs": [],
   "source": []
  },
  {
   "cell_type": "code",
   "execution_count": null,
   "metadata": {},
   "outputs": [],
   "source": []
  },
  {
   "cell_type": "code",
   "execution_count": null,
   "metadata": {},
   "outputs": [],
   "source": []
  },
  {
   "cell_type": "code",
   "execution_count": null,
   "metadata": {},
   "outputs": [],
   "source": []
  },
  {
   "cell_type": "markdown",
   "metadata": {},
   "source": [
    "16) Using numpy methods/function, compute the mean, standard deviation, and variance of a given 2D array (e.g. of shape (3,4)) along the second axis (i.e. average of the rows).      \n",
    "\n",
    "BONUS: Calculate the variance using the formula of the variance. For an ensemble of values ${x_1, x_2, ..., x_n}$, the variance is given by: \n",
    "$$\n",
    "\\sigma^2 = \\sum_i^n \\frac{(x_i - \\bar{x})^2}{n}, \n",
    "$$\n",
    "where ${\\bar{x}}$ is is the mean of $x_i$"
   ]
  },
  {
   "cell_type": "code",
   "execution_count": null,
   "metadata": {},
   "outputs": [],
   "source": []
  },
  {
   "cell_type": "markdown",
   "metadata": {},
   "source": [
    "17) Find which elements in a numpy array are NaN (TIP: for a NaN, a != a). Use the numpy help to find if which numpy methods allow you to find if there are infinite / finite (ignoring Nan, inf) values in an array, and/or find if there are nans. Is there also methods allowing you to calculate the mean, min, max, ... ignoring NaN ?     \n",
    "Examples / test arrays:     \n",
    "```python \n",
    "a = np.array([1, np.nan, 3, -np.inf, -4, np.inf, 19])\n",
    "b = np.array([1, np.nan, 3, -1, -4, 4])\n",
    "```"
   ]
  },
  {
   "cell_type": "code",
   "execution_count": null,
   "metadata": {},
   "outputs": [],
   "source": []
  },
  {
   "cell_type": "code",
   "execution_count": null,
   "metadata": {},
   "outputs": [],
   "source": []
  },
  {
   "cell_type": "code",
   "execution_count": null,
   "metadata": {},
   "outputs": [],
   "source": []
  },
  {
   "cell_type": "code",
   "execution_count": null,
   "metadata": {},
   "outputs": [],
   "source": []
  },
  {
   "cell_type": "code",
   "execution_count": null,
   "metadata": {},
   "outputs": [],
   "source": []
  },
  {
   "cell_type": "code",
   "execution_count": null,
   "metadata": {},
   "outputs": [],
   "source": []
  },
  {
   "cell_type": "code",
   "execution_count": null,
   "metadata": {},
   "outputs": [],
   "source": []
  },
  {
   "cell_type": "code",
   "execution_count": null,
   "metadata": {},
   "outputs": [],
   "source": []
  },
  {
   "cell_type": "markdown",
   "metadata": {},
   "source": [
    "18) Remove the leading and trailing white spaces from this list of strings: `L = [' I ', ' love', '   white ', ' spaces']` .     \n",
    "Expected output:    \n",
    "`['I', 'love', 'white', 'spaces']`"
   ]
  },
  {
   "cell_type": "code",
   "execution_count": null,
   "metadata": {},
   "outputs": [],
   "source": []
  },
  {
   "cell_type": "markdown",
   "metadata": {},
   "source": [
    "19) Convert the following string 'model, 1 , 13, 14 \\n' into the following np.array of strings `array(['model', '1', '13', '14'], dtype='<U5')`.  "
   ]
  },
  {
   "cell_type": "code",
   "execution_count": null,
   "metadata": {},
   "outputs": [],
   "source": []
  },
  {
   "cell_type": "code",
   "execution_count": null,
   "metadata": {},
   "outputs": [],
   "source": []
  },
  {
   "cell_type": "markdown",
   "metadata": {},
   "source": [
    "## Reference\n",
    "\n",
    "Some of the exercises from this notebook are inspired by exercises from https://www.w3resource.com/python-exercises/. More training exercises can be found there.    \n",
    "Several additional training exercises are also available on the github repository of this course (some include also training to Matplotlib): \n",
    "- [Python_training_exercises.ipynb](Python_training_Exercises.ipynb)\n",
    "- [Python_training_exercises_2.ipynb](Python_training_Exercises_2.ipynb)\n",
    "- [Python_training_exercises_3.ipynb](Python_training_Exercises_3.ipynb)"
   ]
  },
  {
   "cell_type": "code",
   "execution_count": null,
   "metadata": {},
   "outputs": [],
   "source": []
  }
 ],
 "metadata": {
  "kernelspec": {
   "display_name": "Python 3 (ipykernel)",
   "language": "python",
   "name": "python3"
  },
  "language_info": {
   "codemirror_mode": {
    "name": "ipython",
    "version": 3
   },
   "file_extension": ".py",
   "mimetype": "text/x-python",
   "name": "python",
   "nbconvert_exporter": "python",
   "pygments_lexer": "ipython3",
   "version": "3.9.16"
  }
 },
 "nbformat": 4,
 "nbformat_minor": 4
}
