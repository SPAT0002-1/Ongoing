{
 "cells": [
  {
   "cell_type": "markdown",
   "id": "77e48b0b-4e7c-4195-a40f-16c97a462995",
   "metadata": {},
   "source": [
    "# Debugging exercise\n",
    "\n",
    "\n",
    "The following code has several errors that you should detect and correct.   \n",
    "\n",
    "The goal of this code is to compute and print the orbit of a planet.\n",
    "The user can define the basic parameters for the planet (mass, semi-major axis, eccentricity) and the star (mass).   "
   ]
  },
  {
   "cell_type": "code",
   "execution_count": null,
   "id": "e2a40bc3-87a1-483d-9100-b00b9207e0c9",
   "metadata": {
    "tags": []
   },
   "outputs": [],
   "source": [
    "# CODE TO DEBUG ... \n",
    "import matplotlib.pyplot as plt\n",
    "\n",
    "# -----------------------------------------------------------------\n",
    "# User defined parameters:\n",
    "Star_mass = 3 # M_Sun\n",
    "Planet_mass = 0.6 # M_Earth\n",
    "\n",
    "a = 0.02 # Planet's semi-major axis, in AU.\n",
    "e = 0.4 # Planet's eccentricity (within [0;1[) (0 = circular, 1 = parabolic)\n",
    "\n",
    "# -----------------------------------------------------------------\n",
    "# Conversion to SI\n",
    "Star_mass = Star_mass * 1.9891E+030 # Sun's mass in [kg]\n",
    "Planet_mass = Planet_mass * 5.9736E+024 # Earth mass in [kg].\n",
    "\n",
    "# Other parameters.\n",
    "G = 0,000000000066743 # m³.kg-¹.s-²\n",
    "\n",
    "# Using Kepler's third law :\n",
    "# a^3 / T^2 = GM / (4 pi^2)\n",
    "# => T = sqrt((4 pi^2 a^3) / GM)\n",
    "\n",
    "T = np.sqrt((4 * np.pi**2 * a**3) / G * Star_mass)\n",
    "print(\"T [s] : \", T, \"   T [yr] : \", T/(3600*24*365))\n",
    "\n",
    "i = 0\n",
    "\n",
    "# -----------------------------------------------------------------\n",
    "pos_x = ()\n",
    "pos_y = ()\n",
    "\n",
    "# -----------------------------------------------------------------\n",
    "# Operations\n",
    "sampling = 4 # Number of points in on the orbit.\n",
    "print(int(T), int(T/sampling))\n",
    "\n",
    "\n",
    "# We calculate radius for different points along the orbit / for different fractions of the period\n",
    "#for i in range(0, int(T), int(T/sampling)):\n",
    "for i in range(0, sampling):\n",
    "\n",
    "    mean_anomaly = (360 / T) * (i*T/sampling)\n",
    "    eccentric_anomaly = Get_eccentric_anomaly(e, mean_anomaly)\n",
    "    True_anomaly = 2 * np.arctan(np.sqrt((1+e)/(1-e)) * np.tan(eccentric_anomaly / 2))\n",
    "\n",
    "    r = a * (1-e*np.cos(eccentric_anomaly))\n",
    "\n",
    "pos_x.append(r * np.cos(true_anomaly))\n",
    "pos_y.append(r * np.sin(true_anomaly))\n",
    "\n",
    "print(i, pos_x[-1], pos_y[-1])\n",
    "\n",
    "f, ax = plt.subplots(nrows=1, ncols=1, subplot_kw={'aspect':'equal'})\n",
    "plt.plot(pos_x, pos_y, color='blue')\n",
    "plt.title(\"Orbit of the planet\")\n",
    "plt.xlabel(\"[m]\")\n",
    "plt.ylabel(\"[m]\")\n",
    "\n",
    "plt.plot(0,0,'ro') # star\n",
    "plt.show()\n",
    "\n",
    "def Get_eccentric_anomaly(eccentricity, in_mean_anomaly):    # argument2 = 2 par défaut\n",
    "    \"\"\"\n",
    "    This function computes the eccentric_anomaly by iterating over a formula.\n",
    "    \"\"\"\n",
    "    i = 0\n",
    "\n",
    "    for i in range(0, 6):\n",
    "        in_eccentric_anomaly = in_mean_anomaly + eccentricity * sin(in_eccentric_anomaly)\n",
    "        #print(\"   i:\", i, \"     E:\", in_eccentric_anomaly)\n"
   ]
  },
  {
   "cell_type": "code",
   "execution_count": null,
   "id": "e2a22bf6-c3b2-41a5-bcfb-8df1961785f9",
   "metadata": {},
   "outputs": [],
   "source": []
  },
  {
   "cell_type": "code",
   "execution_count": null,
   "id": "001e26d6-c516-4361-88ca-170a3b8c7703",
   "metadata": {},
   "outputs": [],
   "source": []
  },
  {
   "cell_type": "code",
   "execution_count": null,
   "id": "86eaa2fe-6b99-4206-8965-877b9974f3c7",
   "metadata": {},
   "outputs": [],
   "source": []
  },
  {
   "cell_type": "code",
   "execution_count": null,
   "id": "7a4b586a-6ed4-48a7-8ec3-63b6494dec84",
   "metadata": {},
   "outputs": [],
   "source": []
  },
  {
   "cell_type": "markdown",
   "id": "8fcbeb7f-8b2d-45c9-bed8-fc11d22e0947",
   "metadata": {},
   "source": [
    "## Going further (optional)\n",
    "\n",
    "Now, that your code is working, you can consider reformatting it to make make it more flexible.   \n",
    "By splitting it into more function you may more easily modify it to plot the orbits of several planets with different masses and eccentricities. "
   ]
  },
  {
   "cell_type": "code",
   "execution_count": null,
   "id": "13cf584b-fb76-4dd5-9fa5-f6cd5cc90baa",
   "metadata": {},
   "outputs": [],
   "source": []
  }
 ],
 "metadata": {
  "kernelspec": {
   "display_name": "Python [conda env:py3_lectures]",
   "language": "python",
   "name": "conda-env-py3_lectures-py"
  },
  "language_info": {
   "codemirror_mode": {
    "name": "ipython",
    "version": 3
   },
   "file_extension": ".py",
   "mimetype": "text/x-python",
   "name": "python",
   "nbconvert_exporter": "python",
   "pygments_lexer": "ipython3",
   "version": "3.7.12"
  }
 },
 "nbformat": 4,
 "nbformat_minor": 5
}
