{
 "cells": [
  {
   "cell_type": "markdown",
   "id": "7f597cc2-9c0a-45cc-9a57-1fce331b7f05",
   "metadata": {},
   "source": [
    "# Useful commands to solve the exercises"
   ]
  },
  {
   "cell_type": "markdown",
   "id": "b8978375-a3dc-42a2-a175-2efbe5054ad6",
   "metadata": {},
   "source": [
    "### Length of a list "
   ]
  },
  {
   "cell_type": "code",
   "execution_count": 1,
   "id": "2fafefe1-4f6d-4d04-8b3e-5558e48a8c13",
   "metadata": {},
   "outputs": [
    {
     "name": "stdout",
     "output_type": "stream",
     "text": [
      "this list contains 6 elements\n"
     ]
    }
   ],
   "source": [
    "# Length of a list: len(L)\n",
    "L = [1, 2, 4, 4, 4, 5]\n",
    "print('this list contains %i elements'% len(L))  "
   ]
  },
  {
   "cell_type": "markdown",
   "id": "fb471fbb-bddb-4ad6-8c48-279ea102b87d",
   "metadata": {},
   "source": [
    "Use len() if you loop over the number of elements, your code does not have to be changed if you change the input list (size). "
   ]
  },
  {
   "cell_type": "markdown",
   "id": "95ed2d51-ac27-41c2-a1f8-772a2bea135a",
   "metadata": {},
   "source": [
    "### Command input()"
   ]
  },
  {
   "cell_type": "code",
   "execution_count": 3,
   "id": "887742ea-3ed8-46de-9be5-c27a72c97d1b",
   "metadata": {},
   "outputs": [
    {
     "name": "stdin",
     "output_type": "stream",
     "text": [
      "What time is it? 16:10\n"
     ]
    },
    {
     "name": "stdout",
     "output_type": "stream",
     "text": [
      "it is 16:10\n"
     ]
    }
   ],
   "source": [
    "# Command \"input\" to interactively enter a value \n",
    "time = input('What time is it?')\n",
    "print('it is %s'% time)"
   ]
  },
  {
   "cell_type": "code",
   "execution_count": 4,
   "id": "f4a388a4-66dc-4631-ae25-8ad003b0eba1",
   "metadata": {},
   "outputs": [
    {
     "name": "stdout",
     "output_type": "stream",
     "text": [
      "<class 'str'>\n"
     ]
    }
   ],
   "source": [
    "print(type(time))"
   ]
  },
  {
   "cell_type": "markdown",
   "id": "8e42d4c1-99d2-48b8-abdf-4028ffa6a034",
   "metadata": {},
   "source": [
    "### Conversion of/to int / float \n",
    "\n",
    "Such a conversion from one data type to another is also called casting"
   ]
  },
  {
   "cell_type": "code",
   "execution_count": 5,
   "id": "f601c500-01e3-426a-bb2a-af86ddbd0634",
   "metadata": {},
   "outputs": [
    {
     "name": "stdout",
     "output_type": "stream",
     "text": [
      "<class 'float'> <class 'int'> <class 'float'>\n",
      "34325.0 34325 34325.0\n"
     ]
    }
   ],
   "source": [
    "# int from a float\n",
    "my_float = 34325. \n",
    "my_int = int(my_float)\n",
    "my_second_float = float(my_int)\n",
    "print(type(my_float), type(my_int), type(my_second_float))\n",
    "print(my_float, my_int, my_second_float)"
   ]
  },
  {
   "cell_type": "markdown",
   "id": "dc0f4bfc-1690-4c17-a8f3-c57e81da2b96",
   "metadata": {},
   "source": [
    "### Rounding, floor and ceil"
   ]
  },
  {
   "cell_type": "code",
   "execution_count": 6,
   "id": "f88bc1f8-ebf3-467f-b2d5-8d45738c4384",
   "metadata": {},
   "outputs": [
    {
     "data": {
      "text/plain": [
       "(234, 235)"
      ]
     },
     "execution_count": 6,
     "metadata": {},
     "output_type": "execute_result"
    }
   ],
   "source": [
    "round(234.5), round(234.6)"
   ]
  },
  {
   "cell_type": "code",
   "execution_count": 7,
   "id": "bac8062b-0d74-4dd0-9560-e13b94b1ca78",
   "metadata": {},
   "outputs": [
    {
     "name": "stdout",
     "output_type": "stream",
     "text": [
      "234.0\n",
      "235.0\n"
     ]
    }
   ],
   "source": [
    "import numpy as np\n",
    "print(np.floor(234.8))\n",
    "print(np.ceil(234.8))"
   ]
  },
  {
   "cell_type": "markdown",
   "id": "fb8c6128-5188-421c-bd69-9823b573b396",
   "metadata": {},
   "source": [
    "### String manipulation"
   ]
  },
  {
   "cell_type": "code",
   "execution_count": 8,
   "id": "2bb81af0-745c-48d8-aab4-c06aba48b043",
   "metadata": {},
   "outputs": [
    {
     "data": {
      "text/plain": [
       "'16 15'"
      ]
     },
     "execution_count": 8,
     "metadata": {},
     "output_type": "execute_result"
    }
   ],
   "source": [
    "'16:15'.split(sep=':')    # Split elements of a string based on a specific character\n",
    "'16:15'.replace(':', ' ') # Replace a specific character in a string chain \n",
    "'16 15'.strip()           # remove white spaces from a string chain  "
   ]
  },
  {
   "cell_type": "code",
   "execution_count": 12,
   "id": "8fd8dfa8-e2a1-4974-8076-9dfda7ee48f2",
   "metadata": {},
   "outputs": [
    {
     "data": {
      "text/plain": [
       "['16', '15']"
      ]
     },
     "execution_count": 12,
     "metadata": {},
     "output_type": "execute_result"
    }
   ],
   "source": [
    "'16:15'.split(sep=':')"
   ]
  },
  {
   "cell_type": "markdown",
   "id": "3361498f-d4e3-4330-91f4-398ada385fd8",
   "metadata": {},
   "source": [
    "### Reshape an array"
   ]
  },
  {
   "cell_type": "code",
   "execution_count": 14,
   "id": "8bd42ca3-bdbd-466a-ab5c-2571f30d821b",
   "metadata": {},
   "outputs": [
    {
     "name": "stdout",
     "output_type": "stream",
     "text": [
      "(2, 2)\n",
      "[1 2 3 5]\n",
      "[[1 2]\n",
      " [3 5]]\n"
     ]
    }
   ],
   "source": [
    "a = np.array([1,2,3,5])\n",
    "a_reshaped = a.reshape((2,2))\n",
    "print(a_reshaped.shape)\n",
    "print(a)\n",
    "print(a_reshaped)"
   ]
  },
  {
   "cell_type": "markdown",
   "id": "63bc44d1-7f17-4f67-987c-80fa17565b58",
   "metadata": {},
   "source": [
    "### Other useful numpy methods"
   ]
  },
  {
   "cell_type": "markdown",
   "id": "00e8d226-e70e-4274-acae-8b7e3d02932f",
   "metadata": {},
   "source": [
    "#### Merging arrays"
   ]
  },
  {
   "cell_type": "code",
   "execution_count": null,
   "id": "aee92d1a-7528-402f-af9c-87f7a123e6fa",
   "metadata": {},
   "outputs": [],
   "source": [
    "np.append()  # Works like append for list\n",
    "np.hstack()  # Horizontal stacking of 2 arrays\n",
    "np.vstack()  # Vertical stacking of 2 arrays \n",
    "np.concatenate()   # Concatenate multiple arrays"
   ]
  },
  {
   "cell_type": "code",
   "execution_count": null,
   "id": "81939e2a-12fc-4163-a1d0-900003526796",
   "metadata": {},
   "outputs": [],
   "source": [
    "np.hstack()"
   ]
  },
  {
   "cell_type": "markdown",
   "id": "15d4ff63-83db-4f19-a5f4-b60bad731e5b",
   "metadata": {},
   "source": [
    "#### Miscellanous"
   ]
  },
  {
   "cell_type": "code",
   "execution_count": null,
   "id": "bda94666-e049-496a-8da2-04a996d43a52",
   "metadata": {},
   "outputs": [],
   "source": [
    "np.sort()     # Sort elements of an array \n",
    "np.argsort()  # To get indices of the sorted elements\n"
   ]
  },
  {
   "cell_type": "code",
   "execution_count": 15,
   "id": "549f1602-dde6-4630-9a73-ceb8b702430e",
   "metadata": {},
   "outputs": [
    {
     "data": {
      "text/plain": [
       "array([ 1,  3,  6, 45, 98])"
      ]
     },
     "execution_count": 15,
     "metadata": {},
     "output_type": "execute_result"
    }
   ],
   "source": [
    "a = np.array([3,6,1,98,45])\n",
    "np.sort(a)"
   ]
  },
  {
   "cell_type": "code",
   "execution_count": 16,
   "id": "9873d5ee-56c5-44cf-bda1-fb49d1beaa70",
   "metadata": {},
   "outputs": [
    {
     "data": {
      "text/plain": [
       "array([2, 0, 1, 4, 3])"
      ]
     },
     "execution_count": 16,
     "metadata": {},
     "output_type": "execute_result"
    }
   ],
   "source": [
    "np.argsort(a)"
   ]
  },
  {
   "cell_type": "markdown",
   "id": "bc495732-db4c-4482-9d68-59f2050c813e",
   "metadata": {},
   "source": [
    "#### Statistics"
   ]
  },
  {
   "cell_type": "code",
   "execution_count": null,
   "id": "835ae1bd-3745-410b-bd86-bf83532e94c3",
   "metadata": {},
   "outputs": [],
   "source": [
    "np.mean()    # mean of the elements of an array \n",
    "np.std()     # Standard deviation of the elements of an array \n",
    "np.median()  # Calculates the median of the elements of an array "
   ]
  },
  {
   "cell_type": "code",
   "execution_count": 17,
   "id": "ff50f330-13b7-4855-9da6-161d2d22e75b",
   "metadata": {},
   "outputs": [
    {
     "data": {
      "text/plain": [
       "1"
      ]
     },
     "execution_count": 17,
     "metadata": {},
     "output_type": "execute_result"
    }
   ],
   "source": [
    "np.min(a)"
   ]
  },
  {
   "cell_type": "code",
   "execution_count": 18,
   "id": "4d55a491-d363-49e4-8c30-095a76e3eee9",
   "metadata": {},
   "outputs": [
    {
     "data": {
      "text/plain": [
       "2"
      ]
     },
     "execution_count": 18,
     "metadata": {},
     "output_type": "execute_result"
    }
   ],
   "source": [
    "np.argmin(a)"
   ]
  },
  {
   "cell_type": "code",
   "execution_count": null,
   "id": "51f9cc46-6b53-4b43-8cca-9e61be00ac3e",
   "metadata": {},
   "outputs": [],
   "source": []
  }
 ],
 "metadata": {
  "kernelspec": {
   "display_name": "Python [conda env:intel-python3]",
   "language": "python",
   "name": "conda-env-intel-python3-py"
  },
  "language_info": {
   "codemirror_mode": {
    "name": "ipython",
    "version": 3
   },
   "file_extension": ".py",
   "mimetype": "text/x-python",
   "name": "python",
   "nbconvert_exporter": "python",
   "pygments_lexer": "ipython3",
   "version": "3.7.9"
  }
 },
 "nbformat": 4,
 "nbformat_minor": 5
}
